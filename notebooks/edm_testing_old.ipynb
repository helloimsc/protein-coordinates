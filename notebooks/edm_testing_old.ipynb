{
  "cells": [
    {
      "cell_type": "code",
      "execution_count": null,
      "metadata": {
        "colab": {
          "base_uri": "https://localhost:8080/"
        },
        "id": "g51Ret2ED5J5",
        "outputId": "9d36a179-e526-4290-e8dc-54505309a416"
      },
      "outputs": [],
      "source": [
        "# from google.colab import drive\n",
        "# drive.mount('/content/drive')"
      ]
    },
    {
      "cell_type": "code",
      "execution_count": null,
      "metadata": {
        "colab": {
          "base_uri": "https://localhost:8080/"
        },
        "id": "Fu5IWGkCGONf",
        "outputId": "2bce21cc-2434-4364-9d2e-c6783ddbf16f"
      },
      "outputs": [],
      "source": [
        "# cd /content/drive/MyDrive/CS5284\\ Project/protein-coordinates/notebooks"
      ]
    },
    {
      "cell_type": "code",
      "execution_count": null,
      "metadata": {
        "colab": {
          "base_uri": "https://localhost:8080/"
        },
        "id": "-d2az6NjFKbU",
        "outputId": "db8a6fcb-205e-4ed5-dc53-0f60aef5752f"
      },
      "outputs": [],
      "source": [
        "# !pip install pytorch matplotlib pandas seaborn scikit-learn torchvision numpy scipy dgl imageio biopython ipykernel ipywidgets wandb"
      ]
    },
    {
      "cell_type": "code",
      "execution_count": null,
      "metadata": {
        "colab": {
          "base_uri": "https://localhost:8080/"
        },
        "id": "1NIhF7m8F-OX",
        "outputId": "c3ffc80e-c988-4a01-92c2-95604f883e3a"
      },
      "outputs": [],
      "source": [
        "# pip install biopython"
      ]
    },
    {
      "cell_type": "code",
      "execution_count": 1,
      "metadata": {
        "id": "tb-hgVxWGjJi"
      },
      "outputs": [],
      "source": [
        "import sys\n",
        "\n",
        "sys.path.append('../')"
      ]
    },
    {
      "cell_type": "code",
      "execution_count": 2,
      "metadata": {
        "id": "9IKBD7KjDxHF"
      },
      "outputs": [],
      "source": [
        "import numpy as np\n",
        "import pandas as pd\n",
        "import matplotlib.pyplot as plt\n",
        "from Bio.PDB import PDBList, PDBParser\n",
        "import os\n",
        "import torch\n",
        "import torch.nn as nn\n",
        "from data_read import *\n",
        "from tqdm import tqdm\n",
        "import warnings\n",
        "from torch.utils.data import DataLoader\n",
        "%load_ext autoreload\n",
        "%autoreload 2\n",
        "warnings.filterwarnings('ignore')"
      ]
    },
    {
      "cell_type": "markdown",
      "metadata": {
        "id": "RVVuE8-ADxHH"
      },
      "source": [
        "### Data Retrieval"
      ]
    },
    {
      "cell_type": "code",
      "execution_count": 5,
      "metadata": {},
      "outputs": [
        {
          "name": "stdout",
          "output_type": "stream",
          "text": [
            "Downloading PDB structure '12asa00'...\n",
            "Desired structure doesn't exist\n",
            "Downloading PDB structure '132la00'...\n",
            "Desired structure doesn't exist\n",
            "Downloading PDB structure '153la00'...\n",
            "Desired structure doesn't exist\n",
            "Downloading PDB structure '155ca00'...\n",
            "Desired structure doesn't exist\n",
            "Downloading PDB structure '16pka02'...\n",
            "Desired structure doesn't exist\n",
            "Downloading PDB structure '17gsa01'...\n",
            "Desired structure doesn't exist\n",
            "Downloading PDB structure '1914a00'...\n",
            "Desired structure doesn't exist\n",
            "Downloading PDB structure '19hca01'...\n",
            "Desired structure doesn't exist\n",
            "Downloading PDB structure '19hca02'...\n",
            "Desired structure doesn't exist\n",
            "Downloading PDB structure '1a00b00'...\n",
            "Desired structure doesn't exist\n",
            "Downloading PDB structure '1a02f00'...\n",
            "Desired structure doesn't exist\n",
            "Downloading PDB structure '1a02j00'...\n",
            "Desired structure doesn't exist\n",
            "Downloading PDB structure '1a04a01'...\n",
            "Desired structure doesn't exist\n",
            "Downloading PDB structure '1a0aa00'...\n",
            "Desired structure doesn't exist\n",
            "Downloading PDB structure '1a0ca00'...\n",
            "Desired structure doesn't exist\n",
            "Downloading PDB structure '1a0ga02'...\n",
            "Desired structure doesn't exist\n",
            "Downloading PDB structure '1a0ha01'...\n",
            "Desired structure doesn't exist\n",
            "Downloading PDB structure '1a0ha02'...\n",
            "Desired structure doesn't exist\n",
            "Downloading PDB structure '1a0ia01'...\n",
            "Desired structure doesn't exist\n",
            "Downloading PDB structure '1a0ia02'...\n",
            "Desired structure doesn't exist\n",
            "Downloading PDB structure '1a0ia03'...\n",
            "Desired structure doesn't exist\n",
            "Downloading PDB structure '1a0ka00'...\n",
            "Desired structure doesn't exist\n",
            "Downloading PDB structure '1a0pa01'...\n",
            "Desired structure doesn't exist\n",
            "Downloading PDB structure '1a0rb00'...\n",
            "Desired structure doesn't exist\n",
            "Downloading PDB structure '1a0rp01'...\n",
            "Desired structure doesn't exist\n",
            "Downloading PDB structure '1a0rp02'...\n",
            "Desired structure doesn't exist\n",
            "Downloading PDB structure '1a0sp00'...\n"
          ]
        },
        {
          "ename": "KeyboardInterrupt",
          "evalue": "",
          "output_type": "error",
          "traceback": [
            "\u001b[0;31m---------------------------------------------------------------------------\u001b[0m",
            "\u001b[0;31mKeyboardInterrupt\u001b[0m                         Traceback (most recent call last)",
            "Cell \u001b[0;32mIn[5], line 16\u001b[0m\n\u001b[1;32m     13\u001b[0m     \u001b[38;5;28mprint\u001b[39m(\u001b[38;5;124mf\u001b[39m\u001b[38;5;124m\"\u001b[39m\u001b[38;5;124mDownloaded \u001b[39m\u001b[38;5;132;01m{\u001b[39;00m\u001b[38;5;28mlen\u001b[39m(pdb_ids)\u001b[38;5;132;01m}\u001b[39;00m\u001b[38;5;124m PDB files.\u001b[39m\u001b[38;5;124m\"\u001b[39m)\n\u001b[1;32m     14\u001b[0m     \u001b[38;5;28;01mreturn\u001b[39;00m pdb_ids\n\u001b[0;32m---> 16\u001b[0m \u001b[43mdownload_clean_pdb\u001b[49m\u001b[43m(\u001b[49m\u001b[38;5;124;43m'\u001b[39;49m\u001b[38;5;124;43m../data/clean_pdb_id.txt\u001b[39;49m\u001b[38;5;124;43m'\u001b[39;49m\u001b[43m)\u001b[49m\n",
            "Cell \u001b[0;32mIn[5], line 12\u001b[0m, in \u001b[0;36mdownload_clean_pdb\u001b[0;34m(txt_file)\u001b[0m\n\u001b[1;32m     10\u001b[0m     pdb_ids \u001b[38;5;241m=\u001b[39m f\u001b[38;5;241m.\u001b[39mread()\u001b[38;5;241m.\u001b[39msplitlines()\n\u001b[1;32m     11\u001b[0m \u001b[38;5;28;01mfor\u001b[39;00m pdb_id \u001b[38;5;129;01min\u001b[39;00m pdb_ids:\n\u001b[0;32m---> 12\u001b[0m     \u001b[43mpdbl\u001b[49m\u001b[38;5;241;43m.\u001b[39;49m\u001b[43mretrieve_pdb_file\u001b[49m\u001b[43m(\u001b[49m\u001b[43mpdb_id\u001b[49m\u001b[43m,\u001b[49m\u001b[43m \u001b[49m\u001b[43mpdir\u001b[49m\u001b[38;5;241;43m=\u001b[39;49m\u001b[38;5;124;43m'\u001b[39;49m\u001b[38;5;124;43mpdb_files\u001b[39;49m\u001b[38;5;124;43m'\u001b[39;49m\u001b[43m,\u001b[49m\u001b[43m \u001b[49m\u001b[43mfile_format\u001b[49m\u001b[38;5;241;43m=\u001b[39;49m\u001b[38;5;124;43m'\u001b[39;49m\u001b[38;5;124;43mpdb\u001b[39;49m\u001b[38;5;124;43m'\u001b[39;49m\u001b[43m)\u001b[49m\n\u001b[1;32m     13\u001b[0m \u001b[38;5;28mprint\u001b[39m(\u001b[38;5;124mf\u001b[39m\u001b[38;5;124m\"\u001b[39m\u001b[38;5;124mDownloaded \u001b[39m\u001b[38;5;132;01m{\u001b[39;00m\u001b[38;5;28mlen\u001b[39m(pdb_ids)\u001b[38;5;132;01m}\u001b[39;00m\u001b[38;5;124m PDB files.\u001b[39m\u001b[38;5;124m\"\u001b[39m)\n\u001b[1;32m     14\u001b[0m \u001b[38;5;28;01mreturn\u001b[39;00m pdb_ids\n",
            "File \u001b[0;32m/opt/homebrew/Caskroom/miniconda/base/envs/gvp/lib/python3.11/site-packages/Bio/PDB/PDBList.py:338\u001b[0m, in \u001b[0;36mPDBList.retrieve_pdb_file\u001b[0;34m(self, pdb_code, obsolete, pdir, file_format, overwrite)\u001b[0m\n\u001b[1;32m    336\u001b[0m \u001b[38;5;28;01mtry\u001b[39;00m:\n\u001b[1;32m    337\u001b[0m     urlcleanup()\n\u001b[0;32m--> 338\u001b[0m     \u001b[43murlretrieve\u001b[49m\u001b[43m(\u001b[49m\u001b[43murl\u001b[49m\u001b[43m,\u001b[49m\u001b[43m \u001b[49m\u001b[43mfilename\u001b[49m\u001b[43m)\u001b[49m\n\u001b[1;32m    339\u001b[0m \u001b[38;5;28;01mexcept\u001b[39;00m \u001b[38;5;167;01mOSError\u001b[39;00m:\n\u001b[1;32m    340\u001b[0m     \u001b[38;5;28mprint\u001b[39m(\u001b[38;5;124m\"\u001b[39m\u001b[38;5;124mDesired structure doesn\u001b[39m\u001b[38;5;124m'\u001b[39m\u001b[38;5;124mt exist\u001b[39m\u001b[38;5;124m\"\u001b[39m)\n",
            "File \u001b[0;32m/opt/homebrew/Caskroom/miniconda/base/envs/gvp/lib/python3.11/urllib/request.py:241\u001b[0m, in \u001b[0;36murlretrieve\u001b[0;34m(url, filename, reporthook, data)\u001b[0m\n\u001b[1;32m    224\u001b[0m \u001b[38;5;250m\u001b[39m\u001b[38;5;124;03m\"\"\"\u001b[39;00m\n\u001b[1;32m    225\u001b[0m \u001b[38;5;124;03mRetrieve a URL into a temporary location on disk.\u001b[39;00m\n\u001b[1;32m    226\u001b[0m \n\u001b[0;32m   (...)\u001b[0m\n\u001b[1;32m    237\u001b[0m \u001b[38;5;124;03mdata file as well as the resulting HTTPMessage object.\u001b[39;00m\n\u001b[1;32m    238\u001b[0m \u001b[38;5;124;03m\"\"\"\u001b[39;00m\n\u001b[1;32m    239\u001b[0m url_type, path \u001b[38;5;241m=\u001b[39m _splittype(url)\n\u001b[0;32m--> 241\u001b[0m \u001b[38;5;28;01mwith\u001b[39;00m contextlib\u001b[38;5;241m.\u001b[39mclosing(\u001b[43murlopen\u001b[49m\u001b[43m(\u001b[49m\u001b[43murl\u001b[49m\u001b[43m,\u001b[49m\u001b[43m \u001b[49m\u001b[43mdata\u001b[49m\u001b[43m)\u001b[49m) \u001b[38;5;28;01mas\u001b[39;00m fp:\n\u001b[1;32m    242\u001b[0m     headers \u001b[38;5;241m=\u001b[39m fp\u001b[38;5;241m.\u001b[39minfo()\n\u001b[1;32m    244\u001b[0m     \u001b[38;5;66;03m# Just return the local path and the \"headers\" for file://\u001b[39;00m\n\u001b[1;32m    245\u001b[0m     \u001b[38;5;66;03m# URLs. No sense in performing a copy unless requested.\u001b[39;00m\n",
            "File \u001b[0;32m/opt/homebrew/Caskroom/miniconda/base/envs/gvp/lib/python3.11/urllib/request.py:216\u001b[0m, in \u001b[0;36murlopen\u001b[0;34m(url, data, timeout, cafile, capath, cadefault, context)\u001b[0m\n\u001b[1;32m    214\u001b[0m \u001b[38;5;28;01melse\u001b[39;00m:\n\u001b[1;32m    215\u001b[0m     opener \u001b[38;5;241m=\u001b[39m _opener\n\u001b[0;32m--> 216\u001b[0m \u001b[38;5;28;01mreturn\u001b[39;00m \u001b[43mopener\u001b[49m\u001b[38;5;241;43m.\u001b[39;49m\u001b[43mopen\u001b[49m\u001b[43m(\u001b[49m\u001b[43murl\u001b[49m\u001b[43m,\u001b[49m\u001b[43m \u001b[49m\u001b[43mdata\u001b[49m\u001b[43m,\u001b[49m\u001b[43m \u001b[49m\u001b[43mtimeout\u001b[49m\u001b[43m)\u001b[49m\n",
            "File \u001b[0;32m/opt/homebrew/Caskroom/miniconda/base/envs/gvp/lib/python3.11/urllib/request.py:519\u001b[0m, in \u001b[0;36mOpenerDirector.open\u001b[0;34m(self, fullurl, data, timeout)\u001b[0m\n\u001b[1;32m    516\u001b[0m     req \u001b[38;5;241m=\u001b[39m meth(req)\n\u001b[1;32m    518\u001b[0m sys\u001b[38;5;241m.\u001b[39maudit(\u001b[38;5;124m'\u001b[39m\u001b[38;5;124murllib.Request\u001b[39m\u001b[38;5;124m'\u001b[39m, req\u001b[38;5;241m.\u001b[39mfull_url, req\u001b[38;5;241m.\u001b[39mdata, req\u001b[38;5;241m.\u001b[39mheaders, req\u001b[38;5;241m.\u001b[39mget_method())\n\u001b[0;32m--> 519\u001b[0m response \u001b[38;5;241m=\u001b[39m \u001b[38;5;28;43mself\u001b[39;49m\u001b[38;5;241;43m.\u001b[39;49m\u001b[43m_open\u001b[49m\u001b[43m(\u001b[49m\u001b[43mreq\u001b[49m\u001b[43m,\u001b[49m\u001b[43m \u001b[49m\u001b[43mdata\u001b[49m\u001b[43m)\u001b[49m\n\u001b[1;32m    521\u001b[0m \u001b[38;5;66;03m# post-process response\u001b[39;00m\n\u001b[1;32m    522\u001b[0m meth_name \u001b[38;5;241m=\u001b[39m protocol\u001b[38;5;241m+\u001b[39m\u001b[38;5;124m\"\u001b[39m\u001b[38;5;124m_response\u001b[39m\u001b[38;5;124m\"\u001b[39m\n",
            "File \u001b[0;32m/opt/homebrew/Caskroom/miniconda/base/envs/gvp/lib/python3.11/urllib/request.py:536\u001b[0m, in \u001b[0;36mOpenerDirector._open\u001b[0;34m(self, req, data)\u001b[0m\n\u001b[1;32m    533\u001b[0m     \u001b[38;5;28;01mreturn\u001b[39;00m result\n\u001b[1;32m    535\u001b[0m protocol \u001b[38;5;241m=\u001b[39m req\u001b[38;5;241m.\u001b[39mtype\n\u001b[0;32m--> 536\u001b[0m result \u001b[38;5;241m=\u001b[39m \u001b[38;5;28;43mself\u001b[39;49m\u001b[38;5;241;43m.\u001b[39;49m\u001b[43m_call_chain\u001b[49m\u001b[43m(\u001b[49m\u001b[38;5;28;43mself\u001b[39;49m\u001b[38;5;241;43m.\u001b[39;49m\u001b[43mhandle_open\u001b[49m\u001b[43m,\u001b[49m\u001b[43m \u001b[49m\u001b[43mprotocol\u001b[49m\u001b[43m,\u001b[49m\u001b[43m \u001b[49m\u001b[43mprotocol\u001b[49m\u001b[43m \u001b[49m\u001b[38;5;241;43m+\u001b[39;49m\n\u001b[1;32m    537\u001b[0m \u001b[43m                          \u001b[49m\u001b[38;5;124;43m'\u001b[39;49m\u001b[38;5;124;43m_open\u001b[39;49m\u001b[38;5;124;43m'\u001b[39;49m\u001b[43m,\u001b[49m\u001b[43m \u001b[49m\u001b[43mreq\u001b[49m\u001b[43m)\u001b[49m\n\u001b[1;32m    538\u001b[0m \u001b[38;5;28;01mif\u001b[39;00m result:\n\u001b[1;32m    539\u001b[0m     \u001b[38;5;28;01mreturn\u001b[39;00m result\n",
            "File \u001b[0;32m/opt/homebrew/Caskroom/miniconda/base/envs/gvp/lib/python3.11/urllib/request.py:496\u001b[0m, in \u001b[0;36mOpenerDirector._call_chain\u001b[0;34m(self, chain, kind, meth_name, *args)\u001b[0m\n\u001b[1;32m    494\u001b[0m \u001b[38;5;28;01mfor\u001b[39;00m handler \u001b[38;5;129;01min\u001b[39;00m handlers:\n\u001b[1;32m    495\u001b[0m     func \u001b[38;5;241m=\u001b[39m \u001b[38;5;28mgetattr\u001b[39m(handler, meth_name)\n\u001b[0;32m--> 496\u001b[0m     result \u001b[38;5;241m=\u001b[39m \u001b[43mfunc\u001b[49m\u001b[43m(\u001b[49m\u001b[38;5;241;43m*\u001b[39;49m\u001b[43margs\u001b[49m\u001b[43m)\u001b[49m\n\u001b[1;32m    497\u001b[0m     \u001b[38;5;28;01mif\u001b[39;00m result \u001b[38;5;129;01mis\u001b[39;00m \u001b[38;5;129;01mnot\u001b[39;00m \u001b[38;5;28;01mNone\u001b[39;00m:\n\u001b[1;32m    498\u001b[0m         \u001b[38;5;28;01mreturn\u001b[39;00m result\n",
            "File \u001b[0;32m/opt/homebrew/Caskroom/miniconda/base/envs/gvp/lib/python3.11/urllib/request.py:1391\u001b[0m, in \u001b[0;36mHTTPSHandler.https_open\u001b[0;34m(self, req)\u001b[0m\n\u001b[1;32m   1390\u001b[0m \u001b[38;5;28;01mdef\u001b[39;00m \u001b[38;5;21mhttps_open\u001b[39m(\u001b[38;5;28mself\u001b[39m, req):\n\u001b[0;32m-> 1391\u001b[0m     \u001b[38;5;28;01mreturn\u001b[39;00m \u001b[38;5;28;43mself\u001b[39;49m\u001b[38;5;241;43m.\u001b[39;49m\u001b[43mdo_open\u001b[49m\u001b[43m(\u001b[49m\u001b[43mhttp\u001b[49m\u001b[38;5;241;43m.\u001b[39;49m\u001b[43mclient\u001b[49m\u001b[38;5;241;43m.\u001b[39;49m\u001b[43mHTTPSConnection\u001b[49m\u001b[43m,\u001b[49m\u001b[43m \u001b[49m\u001b[43mreq\u001b[49m\u001b[43m,\u001b[49m\n\u001b[1;32m   1392\u001b[0m \u001b[43m        \u001b[49m\u001b[43mcontext\u001b[49m\u001b[38;5;241;43m=\u001b[39;49m\u001b[38;5;28;43mself\u001b[39;49m\u001b[38;5;241;43m.\u001b[39;49m\u001b[43m_context\u001b[49m\u001b[43m,\u001b[49m\u001b[43m \u001b[49m\u001b[43mcheck_hostname\u001b[49m\u001b[38;5;241;43m=\u001b[39;49m\u001b[38;5;28;43mself\u001b[39;49m\u001b[38;5;241;43m.\u001b[39;49m\u001b[43m_check_hostname\u001b[49m\u001b[43m)\u001b[49m\n",
            "File \u001b[0;32m/opt/homebrew/Caskroom/miniconda/base/envs/gvp/lib/python3.11/urllib/request.py:1352\u001b[0m, in \u001b[0;36mAbstractHTTPHandler.do_open\u001b[0;34m(self, http_class, req, **http_conn_args)\u001b[0m\n\u001b[1;32m   1350\u001b[0m     \u001b[38;5;28;01mexcept\u001b[39;00m \u001b[38;5;167;01mOSError\u001b[39;00m \u001b[38;5;28;01mas\u001b[39;00m err: \u001b[38;5;66;03m# timeout error\u001b[39;00m\n\u001b[1;32m   1351\u001b[0m         \u001b[38;5;28;01mraise\u001b[39;00m URLError(err)\n\u001b[0;32m-> 1352\u001b[0m     r \u001b[38;5;241m=\u001b[39m \u001b[43mh\u001b[49m\u001b[38;5;241;43m.\u001b[39;49m\u001b[43mgetresponse\u001b[49m\u001b[43m(\u001b[49m\u001b[43m)\u001b[49m\n\u001b[1;32m   1353\u001b[0m \u001b[38;5;28;01mexcept\u001b[39;00m:\n\u001b[1;32m   1354\u001b[0m     h\u001b[38;5;241m.\u001b[39mclose()\n",
            "File \u001b[0;32m/opt/homebrew/Caskroom/miniconda/base/envs/gvp/lib/python3.11/http/client.py:1395\u001b[0m, in \u001b[0;36mHTTPConnection.getresponse\u001b[0;34m(self)\u001b[0m\n\u001b[1;32m   1393\u001b[0m \u001b[38;5;28;01mtry\u001b[39;00m:\n\u001b[1;32m   1394\u001b[0m     \u001b[38;5;28;01mtry\u001b[39;00m:\n\u001b[0;32m-> 1395\u001b[0m         \u001b[43mresponse\u001b[49m\u001b[38;5;241;43m.\u001b[39;49m\u001b[43mbegin\u001b[49m\u001b[43m(\u001b[49m\u001b[43m)\u001b[49m\n\u001b[1;32m   1396\u001b[0m     \u001b[38;5;28;01mexcept\u001b[39;00m \u001b[38;5;167;01mConnectionError\u001b[39;00m:\n\u001b[1;32m   1397\u001b[0m         \u001b[38;5;28mself\u001b[39m\u001b[38;5;241m.\u001b[39mclose()\n",
            "File \u001b[0;32m/opt/homebrew/Caskroom/miniconda/base/envs/gvp/lib/python3.11/http/client.py:325\u001b[0m, in \u001b[0;36mHTTPResponse.begin\u001b[0;34m(self)\u001b[0m\n\u001b[1;32m    323\u001b[0m \u001b[38;5;66;03m# read until we get a non-100 response\u001b[39;00m\n\u001b[1;32m    324\u001b[0m \u001b[38;5;28;01mwhile\u001b[39;00m \u001b[38;5;28;01mTrue\u001b[39;00m:\n\u001b[0;32m--> 325\u001b[0m     version, status, reason \u001b[38;5;241m=\u001b[39m \u001b[38;5;28;43mself\u001b[39;49m\u001b[38;5;241;43m.\u001b[39;49m\u001b[43m_read_status\u001b[49m\u001b[43m(\u001b[49m\u001b[43m)\u001b[49m\n\u001b[1;32m    326\u001b[0m     \u001b[38;5;28;01mif\u001b[39;00m status \u001b[38;5;241m!=\u001b[39m CONTINUE:\n\u001b[1;32m    327\u001b[0m         \u001b[38;5;28;01mbreak\u001b[39;00m\n",
            "File \u001b[0;32m/opt/homebrew/Caskroom/miniconda/base/envs/gvp/lib/python3.11/http/client.py:286\u001b[0m, in \u001b[0;36mHTTPResponse._read_status\u001b[0;34m(self)\u001b[0m\n\u001b[1;32m    285\u001b[0m \u001b[38;5;28;01mdef\u001b[39;00m \u001b[38;5;21m_read_status\u001b[39m(\u001b[38;5;28mself\u001b[39m):\n\u001b[0;32m--> 286\u001b[0m     line \u001b[38;5;241m=\u001b[39m \u001b[38;5;28mstr\u001b[39m(\u001b[38;5;28mself\u001b[39m\u001b[38;5;241m.\u001b[39mfp\u001b[38;5;241m.\u001b[39mreadline(_MAXLINE \u001b[38;5;241m+\u001b[39m \u001b[38;5;241m1\u001b[39m), \u001b[38;5;124m\"\u001b[39m\u001b[38;5;124miso-8859-1\u001b[39m\u001b[38;5;124m\"\u001b[39m)\n\u001b[1;32m    287\u001b[0m     \u001b[38;5;28;01mif\u001b[39;00m \u001b[38;5;28mlen\u001b[39m(line) \u001b[38;5;241m>\u001b[39m _MAXLINE:\n\u001b[1;32m    288\u001b[0m         \u001b[38;5;28;01mraise\u001b[39;00m LineTooLong(\u001b[38;5;124m\"\u001b[39m\u001b[38;5;124mstatus line\u001b[39m\u001b[38;5;124m\"\u001b[39m)\n",
            "File \u001b[0;32m/opt/homebrew/Caskroom/miniconda/base/envs/gvp/lib/python3.11/socket.py:718\u001b[0m, in \u001b[0;36mSocketIO.readinto\u001b[0;34m(self, b)\u001b[0m\n\u001b[1;32m    716\u001b[0m \u001b[38;5;28;01mwhile\u001b[39;00m \u001b[38;5;28;01mTrue\u001b[39;00m:\n\u001b[1;32m    717\u001b[0m     \u001b[38;5;28;01mtry\u001b[39;00m:\n\u001b[0;32m--> 718\u001b[0m         \u001b[38;5;28;01mreturn\u001b[39;00m \u001b[38;5;28;43mself\u001b[39;49m\u001b[38;5;241;43m.\u001b[39;49m\u001b[43m_sock\u001b[49m\u001b[38;5;241;43m.\u001b[39;49m\u001b[43mrecv_into\u001b[49m\u001b[43m(\u001b[49m\u001b[43mb\u001b[49m\u001b[43m)\u001b[49m\n\u001b[1;32m    719\u001b[0m     \u001b[38;5;28;01mexcept\u001b[39;00m timeout:\n\u001b[1;32m    720\u001b[0m         \u001b[38;5;28mself\u001b[39m\u001b[38;5;241m.\u001b[39m_timeout_occurred \u001b[38;5;241m=\u001b[39m \u001b[38;5;28;01mTrue\u001b[39;00m\n",
            "File \u001b[0;32m/opt/homebrew/Caskroom/miniconda/base/envs/gvp/lib/python3.11/ssl.py:1314\u001b[0m, in \u001b[0;36mSSLSocket.recv_into\u001b[0;34m(self, buffer, nbytes, flags)\u001b[0m\n\u001b[1;32m   1310\u001b[0m     \u001b[38;5;28;01mif\u001b[39;00m flags \u001b[38;5;241m!=\u001b[39m \u001b[38;5;241m0\u001b[39m:\n\u001b[1;32m   1311\u001b[0m         \u001b[38;5;28;01mraise\u001b[39;00m \u001b[38;5;167;01mValueError\u001b[39;00m(\n\u001b[1;32m   1312\u001b[0m           \u001b[38;5;124m\"\u001b[39m\u001b[38;5;124mnon-zero flags not allowed in calls to recv_into() on \u001b[39m\u001b[38;5;132;01m%s\u001b[39;00m\u001b[38;5;124m\"\u001b[39m \u001b[38;5;241m%\u001b[39m\n\u001b[1;32m   1313\u001b[0m           \u001b[38;5;28mself\u001b[39m\u001b[38;5;241m.\u001b[39m\u001b[38;5;18m__class__\u001b[39m)\n\u001b[0;32m-> 1314\u001b[0m     \u001b[38;5;28;01mreturn\u001b[39;00m \u001b[38;5;28;43mself\u001b[39;49m\u001b[38;5;241;43m.\u001b[39;49m\u001b[43mread\u001b[49m\u001b[43m(\u001b[49m\u001b[43mnbytes\u001b[49m\u001b[43m,\u001b[49m\u001b[43m \u001b[49m\u001b[43mbuffer\u001b[49m\u001b[43m)\u001b[49m\n\u001b[1;32m   1315\u001b[0m \u001b[38;5;28;01melse\u001b[39;00m:\n\u001b[1;32m   1316\u001b[0m     \u001b[38;5;28;01mreturn\u001b[39;00m \u001b[38;5;28msuper\u001b[39m()\u001b[38;5;241m.\u001b[39mrecv_into(buffer, nbytes, flags)\n",
            "File \u001b[0;32m/opt/homebrew/Caskroom/miniconda/base/envs/gvp/lib/python3.11/ssl.py:1166\u001b[0m, in \u001b[0;36mSSLSocket.read\u001b[0;34m(self, len, buffer)\u001b[0m\n\u001b[1;32m   1164\u001b[0m \u001b[38;5;28;01mtry\u001b[39;00m:\n\u001b[1;32m   1165\u001b[0m     \u001b[38;5;28;01mif\u001b[39;00m buffer \u001b[38;5;129;01mis\u001b[39;00m \u001b[38;5;129;01mnot\u001b[39;00m \u001b[38;5;28;01mNone\u001b[39;00m:\n\u001b[0;32m-> 1166\u001b[0m         \u001b[38;5;28;01mreturn\u001b[39;00m \u001b[38;5;28;43mself\u001b[39;49m\u001b[38;5;241;43m.\u001b[39;49m\u001b[43m_sslobj\u001b[49m\u001b[38;5;241;43m.\u001b[39;49m\u001b[43mread\u001b[49m\u001b[43m(\u001b[49m\u001b[38;5;28;43mlen\u001b[39;49m\u001b[43m,\u001b[49m\u001b[43m \u001b[49m\u001b[43mbuffer\u001b[49m\u001b[43m)\u001b[49m\n\u001b[1;32m   1167\u001b[0m     \u001b[38;5;28;01melse\u001b[39;00m:\n\u001b[1;32m   1168\u001b[0m         \u001b[38;5;28;01mreturn\u001b[39;00m \u001b[38;5;28mself\u001b[39m\u001b[38;5;241m.\u001b[39m_sslobj\u001b[38;5;241m.\u001b[39mread(\u001b[38;5;28mlen\u001b[39m)\n",
            "\u001b[0;31mKeyboardInterrupt\u001b[0m: "
          ]
        }
      ],
      "source": [
        "def download_clean_pdb(txt_file):\n",
        "    \"\"\"\n",
        "    Retrieves all PDB IDs available in the PDB.\n",
        "\n",
        "    Returns:\n",
        "        list: List of all PDB IDs.\n",
        "    \"\"\"\n",
        "    pdbl = PDBList()\n",
        "    with open(txt_file, 'r') as f:\n",
        "        pdb_ids = f.read().splitlines()\n",
        "    for pdb_id in pdb_ids:\n",
        "        pdbl.retrieve_pdb_file(pdb_id, pdir='pdb_files', file_format='pdb')\n",
        "    print(f\"Downloaded {len(pdb_ids)} PDB files.\")\n",
        "    return pdb_ids\n",
        "\n",
        "download_clean_pdb('../data/clean_pdb_id.txt')"
      ]
    },
    {
      "cell_type": "code",
      "execution_count": 6,
      "metadata": {
        "id": "QyxvHee-DxHH"
      },
      "outputs": [],
      "source": [
        "def download_pdb_files(sample_size=100):\n",
        "    \"\"\"\n",
        "    Retrieves all PDB IDs available in the PDB.\n",
        "\n",
        "    Returns:\n",
        "        list: List of all PDB IDs.\n",
        "    \"\"\"\n",
        "    np.random.seed(42)\n",
        "    pdbl = PDBList()\n",
        "    pdb_ids = pdbl.get_all_entries()\n",
        "    sampled_pdb_ids = np.random.choice(pdb_ids, sample_size, replace=False)\n",
        "    for pdb_id in sampled_pdb_ids:\n",
        "        pdbl.retrieve_pdb_file(pdb_id, pdir='pdb_files', file_format='pdb')\n",
        "    print(f\"Downloaded {len(sampled_pdb_ids)} PDB files.\")\n",
        "    return pdb_ids\n",
        "\n",
        "# download_pdb_files(sample_size=100)"
      ]
    },
    {
      "cell_type": "code",
      "execution_count": 9,
      "metadata": {
        "id": "BLs7toDzDxHI"
      },
      "outputs": [
        {
          "name": "stdout",
          "output_type": "stream",
          "text": [
            "Moved 25504 files to ../data/dompdb/train\n",
            "Moved 6377 files to ../data/dompdb/test\n"
          ]
        }
      ],
      "source": [
        "import shutil\n",
        "from sklearn.model_selection import train_test_split\n",
        "\n",
        "# Define the paths\n",
        "data_path = '../data/dompdb/'\n",
        "train_path = os.path.join(data_path, 'train')\n",
        "test_path = os.path.join(data_path, 'test')\n",
        "\n",
        "# Create train and test directories if they don't exist\n",
        "os.makedirs(train_path, exist_ok=True)\n",
        "os.makedirs(test_path, exist_ok=True)\n",
        "\n",
        "# Get list of all files in the data_path\n",
        "all_files = [f for f in os.listdir(data_path) if os.path.isfile(os.path.join(data_path, f))]\n",
        "\n",
        "# Split the files into train and test sets\n",
        "train_files, test_files = train_test_split(all_files, test_size=0.2, random_state=42)\n",
        "\n",
        "# Move the files to the respective directories\n",
        "for file in train_files:\n",
        "    shutil.move(os.path.join(data_path, file), os.path.join(train_path, file))\n",
        "\n",
        "for file in test_files:\n",
        "    shutil.move(os.path.join(data_path, file), os.path.join(test_path, file))\n",
        "\n",
        "print(f\"Moved {len(train_files)} files to {train_path}\")\n",
        "print(f\"Moved {len(test_files)} files to {test_path}\")"
      ]
    },
    {
      "cell_type": "markdown",
      "metadata": {
        "id": "XIXNpZH9DxHI"
      },
      "source": [
        "### Testing of Datasets and DataLoaders"
      ]
    },
    {
      "cell_type": "code",
      "execution_count": 10,
      "metadata": {
        "id": "x2Qn9oidDxHI"
      },
      "outputs": [],
      "source": [
        "from src.dataset.datasets import *\n",
        "from src.dataset.transforms import *\n",
        "from torchvision import transforms"
      ]
    },
    {
      "cell_type": "code",
      "execution_count": 11,
      "metadata": {
        "id": "aPSRp55QDxHI"
      },
      "outputs": [],
      "source": [
        "pdb_transforms = transforms.Compose([NormalizeCoordinates()])"
      ]
    },
    {
      "cell_type": "code",
      "execution_count": 13,
      "metadata": {
        "colab": {
          "base_uri": "https://localhost:8080/"
        },
        "id": "wMreAg8RDxHI",
        "outputId": "296f8344-803b-4de2-c39a-5ce1aaf71824"
      },
      "outputs": [
        {
          "name": "stderr",
          "output_type": "stream",
          "text": [
            "100%|██████████| 25504/25504 [03:56<00:00, 107.78it/s]\n",
            "100%|██████████| 6377/6377 [01:02<00:00, 102.64it/s]\n"
          ]
        }
      ],
      "source": [
        "train_data_path = '../data/dompdb/train'\n",
        "test_data_path = '../data/dompdb/test'\n",
        "train_dataset = PDBDataset(train_data_path, transforms=pdb_transforms)\n",
        "if len(train_dataset)%2 != 0:\n",
        "    train_dataset = train_dataset[:-1]\n",
        "test_dataset = PDBDataset(test_data_path, transforms=pdb_transforms)"
      ]
    },
    {
      "cell_type": "markdown",
      "metadata": {
        "id": "9UTIxkrzDxHI"
      },
      "source": [
        "### Data Statistics"
      ]
    },
    {
      "cell_type": "code",
      "execution_count": 14,
      "metadata": {
        "colab": {
          "base_uri": "https://localhost:8080/"
        },
        "id": "7EusCes0DxHJ",
        "outputId": "24243668-18f0-429d-95a9-db4c1f4d551e"
      },
      "outputs": [
        {
          "name": "stdout",
          "output_type": "stream",
          "text": [
            "i_seq count dictionary: {1: 311462, 2: 49195, 3: 220856, 4: 259106, 5: 153435, 6: 268125, 7: 88759, 8: 221746, 9: 217943, 10: 362723, 11: 62269, 12: 159035, 13: 168911, 14: 141366, 15: 196435, 16: 227338, 17: 203519, 18: 269212, 19: 51331, 20: 130726}\n",
            "Maximum number of nodes in a sample: 1202\n",
            "Node count dictionary: {112: 148, 135: 137, 115: 162, 248: 39, 219: 49, 156: 114, 102: 217, 269: 28, 89: 180, 126: 157, 147: 110, 74: 123, 93: 151, 230: 41, 302: 20, 119: 170, 307: 22, 99: 174, 139: 117, 130: 135, 520: 1, 141: 135, 131: 137, 63: 120, 81: 155, 256: 34, 123: 153, 144: 115, 244: 52, 88: 163, 69: 103, 104: 164, 108: 163, 208: 67, 241: 46, 259: 29, 75: 155, 101: 181, 383: 8, 196: 65, 168: 80, 176: 77, 113: 140, 52: 89, 292: 21, 193: 74, 76: 153, 201: 50, 188: 59, 197: 60, 85: 160, 155: 100, 100: 176, 226: 53, 146: 123, 157: 117, 103: 163, 221: 42, 205: 82, 121: 127, 216: 63, 171: 90, 488: 1, 138: 129, 174: 65, 91: 185, 87: 162, 154: 115, 125: 146, 106: 193, 129: 132, 449: 2, 47: 68, 66: 116, 303: 16, 54: 73, 80: 153, 165: 93, 271: 24, 173: 101, 391: 14, 118: 191, 79: 143, 145: 127, 480: 4, 44: 66, 288: 21, 346: 14, 78: 133, 48: 70, 111: 149, 65: 116, 249: 34, 161: 103, 116: 132, 97: 180, 95: 169, 206: 63, 142: 132, 84: 130, 150: 116, 62: 119, 94: 171, 96: 182, 179: 76, 210: 58, 127: 139, 140: 135, 105: 170, 280: 19, 348: 12, 270: 29, 192: 85, 228: 47, 181: 75, 71: 119, 98: 168, 258: 24, 68: 126, 40: 57, 254: 43, 120: 146, 195: 62, 137: 147, 117: 144, 211: 50, 83: 141, 286: 27, 237: 37, 167: 79, 163: 90, 152: 115, 58: 92, 170: 78, 212: 48, 370: 9, 109: 152, 291: 30, 92: 167, 134: 139, 231: 47, 114: 151, 82: 129, 190: 50, 239: 44, 224: 67, 49: 51, 128: 150, 411: 5, 77: 137, 60: 113, 164: 86, 143: 129, 238: 53, 166: 86, 313: 20, 245: 44, 132: 147, 265: 38, 184: 73, 61: 90, 214: 42, 72: 134, 43: 66, 46: 92, 162: 95, 70: 125, 86: 152, 316: 12, 35: 26, 329: 12, 149: 127, 295: 21, 209: 47, 318: 22, 178: 115, 200: 75, 185: 79, 223: 47, 189: 69, 90: 153, 19: 6, 330: 15, 215: 51, 64: 108, 281: 28, 172: 77, 45: 65, 191: 68, 51: 78, 533: 3, 279: 30, 246: 40, 326: 20, 305: 24, 376: 8, 122: 138, 42: 57, 67: 121, 225: 44, 187: 61, 41: 72, 204: 62, 333: 18, 347: 12, 257: 36, 202: 64, 466: 2, 124: 144, 253: 37, 266: 26, 290: 20, 222: 48, 285: 27, 182: 69, 255: 47, 331: 16, 314: 14, 55: 85, 136: 141, 20: 9, 37: 27, 293: 21, 175: 73, 380: 6, 53: 83, 317: 21, 445: 1, 235: 37, 371: 9, 25: 15, 110: 169, 50: 63, 264: 24, 39: 40, 160: 103, 73: 116, 207: 63, 233: 51, 242: 47, 234: 44, 355: 10, 236: 43, 287: 31, 367: 10, 308: 27, 107: 154, 199: 67, 261: 31, 419: 4, 153: 117, 300: 30, 158: 90, 180: 88, 194: 66, 342: 19, 334: 17, 24: 10, 133: 150, 277: 21, 275: 25, 57: 104, 203: 54, 434: 5, 362: 12, 59: 100, 250: 40, 33: 36, 364: 14, 151: 105, 56: 88, 251: 49, 337: 12, 296: 21, 198: 59, 159: 115, 349: 11, 325: 16, 183: 78, 489: 1, 148: 107, 28: 22, 169: 79, 260: 30, 306: 24, 378: 10, 252: 35, 476: 2, 227: 49, 358: 14, 267: 31, 298: 22, 352: 6, 455: 1, 274: 33, 38: 33, 312: 26, 369: 13, 304: 15, 34: 28, 388: 10, 403: 9, 177: 81, 321: 16, 17: 3, 324: 17, 272: 23, 21: 8, 273: 26, 323: 18, 283: 38, 651: 1, 382: 5, 220: 43, 345: 14, 218: 55, 284: 32, 386: 10, 27: 21, 319: 23, 309: 25, 240: 53, 217: 51, 344: 12, 389: 5, 263: 38, 315: 21, 377: 10, 373: 4, 493: 1, 186: 81, 289: 29, 301: 25, 499: 1, 31: 21, 320: 18, 229: 37, 384: 8, 213: 55, 32: 23, 464: 6, 22: 2, 322: 23, 452: 4, 310: 17, 387: 4, 437: 3, 282: 23, 395: 8, 276: 22, 297: 29, 243: 31, 485: 2, 365: 9, 416: 8, 268: 36, 30: 27, 262: 33, 350: 9, 335: 15, 29: 15, 23: 11, 393: 4, 339: 16, 501: 5, 336: 12, 366: 8, 469: 2, 294: 23, 381: 7, 505: 2, 394: 8, 374: 6, 491: 1, 311: 18, 328: 16, 500: 4, 871: 1, 483: 4, 424: 3, 404: 9, 535: 2, 446: 5, 18: 6, 514: 2, 354: 11, 450: 3, 487: 1, 340: 12, 427: 6, 247: 39, 357: 17, 402: 10, 438: 6, 299: 29, 410: 6, 557: 1, 400: 9, 372: 9, 432: 4, 9: 1, 232: 28, 498: 2, 356: 8, 468: 2, 625: 1, 470: 4, 26: 13, 338: 10, 351: 7, 36: 18, 361: 9, 278: 31, 375: 5, 359: 6, 537: 3, 360: 8, 472: 2, 601: 2, 420: 4, 390: 8, 343: 8, 327: 10, 397: 5, 332: 15, 16: 3, 492: 4, 422: 5, 442: 2, 496: 1, 396: 5, 568: 1, 379: 6, 418: 2, 363: 12, 463: 3, 510: 3, 511: 3, 473: 2, 475: 2, 443: 2, 865: 1, 14: 2, 428: 4, 525: 1, 417: 7, 718: 1, 409: 6, 426: 5, 462: 4, 430: 6, 759: 1, 497: 1, 406: 3, 465: 3, 617: 2, 532: 3, 436: 3, 458: 3, 668: 1, 551: 2, 444: 3, 399: 7, 456: 3, 531: 2, 440: 4, 740: 1, 549: 1, 353: 6, 15: 3, 412: 4, 502: 1, 570: 1, 534: 1, 451: 2, 414: 5, 435: 3, 1072: 1, 459: 2, 385: 8, 856: 1, 849: 1, 574: 1, 595: 2, 368: 6, 341: 8, 789: 1, 405: 3, 454: 3, 486: 2, 592: 1, 429: 4, 423: 6, 779: 1, 13: 4, 477: 2, 684: 1, 937: 1, 392: 6, 439: 3, 550: 1, 536: 3, 503: 1, 415: 5, 543: 2, 398: 3, 516: 1, 554: 1, 482: 4, 589: 1, 691: 1, 513: 2, 425: 3, 519: 3, 448: 3, 521: 1, 433: 5, 1146: 1, 407: 4, 447: 2, 481: 2, 613: 1, 506: 1, 471: 1, 467: 2, 588: 1, 629: 1, 421: 3, 539: 1, 562: 1, 729: 1, 553: 1, 508: 1, 413: 5, 11: 1, 884: 1, 582: 1, 401: 3, 460: 1, 408: 2, 555: 2, 478: 2, 528: 3, 522: 1, 457: 1, 523: 1, 504: 1, 524: 1, 453: 1, 484: 2, 548: 1, 600: 2, 635: 1, 1031: 1, 490: 1, 797: 1, 541: 1, 544: 1, 461: 1, 517: 2, 1202: 1, 747: 1}\n"
          ]
        }
      ],
      "source": [
        "from collections import defaultdict\n",
        "\n",
        "# Initialize a dictionary to store the count of samples with each number of nodes\n",
        "node_count_dict = defaultdict(int)\n",
        "\n",
        "# Enumerate through the train_dataset and count the number of nodes in each sample\n",
        "max_nodes = 0\n",
        "for sample in train_dataset:\n",
        "    num_nodes = sample['positions'].shape[0]\n",
        "    node_count_dict[num_nodes] += 1\n",
        "    if num_nodes > max_nodes:\n",
        "        max_nodes = num_nodes\n",
        "\n",
        "# Initialize a dictionary to store the count of occurrences for each unique value in [\"i_seq\"]\n",
        "i_seq_count_dict = defaultdict(int)\n",
        "\n",
        "# Enumerate through the train_dataset and count the occurrences of each unique value in [\"i_seq\"]\n",
        "for sample in train_dataset:\n",
        "    for i_seq_value in sample['i_seq']:\n",
        "        if i_seq_value != 0:\n",
        "            i_seq_count_dict[i_seq_value.item()] += 1\n",
        "\n",
        "# Sort the keys of i_seq_count_dict\n",
        "i_seq_count_dict = dict(sorted(i_seq_count_dict.items()))\n",
        "\n",
        "print(\"i_seq count dictionary:\", dict(i_seq_count_dict))\n",
        "\n",
        "print(f\"Maximum number of nodes in a sample: {max_nodes}\")\n",
        "print(\"Node count dictionary:\", dict(node_count_dict))"
      ]
    },
    {
      "cell_type": "code",
      "execution_count": 15,
      "metadata": {},
      "outputs": [],
      "source": [
        "# Augment Node Dict\n",
        "node_count_dict_augmented = dict()\n",
        "for i in range(1, max_nodes+1):\n",
        "    if i in node_count_dict:\n",
        "        node_count_dict_augmented[i] = node_count_dict[i]\n",
        "    else:\n",
        "        node_count_dict_augmented[i] = 0.1"
      ]
    },
    {
      "cell_type": "code",
      "execution_count": 16,
      "metadata": {
        "id": "dq2-QueFDxHJ"
      },
      "outputs": [],
      "source": [
        "# Get dataset info required to generate node distribution\n",
        "aa_rep = \"ACDEFGHIKLMNPQRSTVWYBXZJUO\"\n",
        "aa_to_int = {c: i for i, c in enumerate(aa_rep)}\n",
        "\n",
        "dataset_info = {\n",
        "    'name': 'pdb',\n",
        "    'max_n_nodes': max_nodes,\n",
        "    'n_nodes': node_count_dict_augmented,\n",
        "    'atom_types': i_seq_count_dict,\n",
        "    'atom_encoder': aa_to_int,\n",
        "    'atom_decoder': [i for i in aa_rep],\n",
        "    'colors_dic': ['C'+str(i) for i in range(len(aa_rep))],\n",
        "    'radius_dic': [0.3]*len(aa_rep)\n",
        "}"
      ]
    },
    {
      "cell_type": "code",
      "execution_count": 35,
      "metadata": {},
      "outputs": [],
      "source": [
        "import yaml\n",
        "\n",
        "# Read the jer_config.yml file\n",
        "with open('../edm_config.yml', 'r') as file:\n",
        "    config = yaml.safe_load(file)\n",
        "\n",
        "class Config:\n",
        "    def __init__(self, config_dict):\n",
        "        for key, value in config_dict.items():\n",
        "            if isinstance(value, str):\n",
        "                try:\n",
        "                    # Try to convert strings to their appropriate types\n",
        "                    value = eval(value)\n",
        "                except:\n",
        "                    pass\n",
        "            setattr(self, key, value)\n",
        "\n",
        "args = Config(config)"
      ]
    },
    {
      "cell_type": "code",
      "execution_count": 36,
      "metadata": {
        "id": "_VBfshKPDxHJ"
      },
      "outputs": [],
      "source": [
        "from src.dataset.collate import PreprocessPDB\n",
        "\n",
        "train_dataloader = DataLoader(train_dataset, batch_size=args.batch_size, shuffle=True, collate_fn=PreprocessPDB().collate_fn)\n",
        "test_dataloader = DataLoader(test_dataset, batch_size=args.batch_size, shuffle=False, collate_fn=PreprocessPDB().collate_fn)"
      ]
    },
    {
      "cell_type": "markdown",
      "metadata": {
        "id": "vB5WuEdUDxHJ"
      },
      "source": [
        "### Models"
      ]
    },
    {
      "cell_type": "code",
      "execution_count": 21,
      "metadata": {
        "id": "YkGscrN4DxHJ"
      },
      "outputs": [],
      "source": [
        "import yaml\n",
        "\n",
        "# Read the jer_config.yml file\n",
        "with open('../edm_config.yml', 'r') as file:\n",
        "    config = yaml.safe_load(file)\n",
        "\n",
        "class Config:\n",
        "    def __init__(self, config_dict):\n",
        "        for key, value in config_dict.items():\n",
        "            if isinstance(value, str):\n",
        "                try:\n",
        "                    # Try to convert strings to their appropriate types\n",
        "                    value = eval(value)\n",
        "                except:\n",
        "                    pass\n",
        "            setattr(self, key, value)\n",
        "\n",
        "args = Config(config)"
      ]
    },
    {
      "cell_type": "code",
      "execution_count": 22,
      "metadata": {
        "id": "QOualQP3DxHJ"
      },
      "outputs": [],
      "source": [
        "from src.models.prepare_models import *"
      ]
    },
    {
      "cell_type": "code",
      "execution_count": 23,
      "metadata": {
        "id": "qFbgotIjDxHJ"
      },
      "outputs": [],
      "source": [
        "if torch.cuda.is_available():\n",
        "    device = torch.device(\"cuda\")\n",
        "elif torch.backends.mps.is_available():\n",
        "    device = torch.device(\"mps\")\n",
        "else:\n",
        "    device = torch.device(\"cpu\")"
      ]
    },
    {
      "cell_type": "code",
      "execution_count": 24,
      "metadata": {
        "colab": {
          "base_uri": "https://localhost:8080/"
        },
        "id": "OyclYtPlDxHJ",
        "outputId": "3438360a-b615-44e7-ffcd-e6b5dfe9b8e1"
      },
      "outputs": [
        {
          "name": "stdout",
          "output_type": "stream",
          "text": [
            "Entropy of n_nodes: H[N] -5.700555324554443\n",
            "alphas2 [9.99990000e-01 9.99940002e-01 9.99790014e-01 9.99540060e-01\n",
            " 9.99190176e-01 9.98740416e-01 9.98190846e-01 9.97541550e-01\n",
            " 9.96792624e-01 9.95944182e-01 9.94996350e-01 9.93949271e-01\n",
            " 9.92803104e-01 9.91558019e-01 9.90214206e-01 9.88771865e-01\n",
            " 9.87231215e-01 9.85592489e-01 9.83855933e-01 9.82021810e-01\n",
            " 9.80090398e-01 9.78061989e-01 9.75936891e-01 9.73715426e-01\n",
            " 9.71397932e-01 9.68984761e-01 9.66476280e-01 9.63872873e-01\n",
            " 9.61174936e-01 9.58382883e-01 9.55497140e-01 9.52518150e-01\n",
            " 9.49446371e-01 9.46282275e-01 9.43026349e-01 9.39679097e-01\n",
            " 9.36241035e-01 9.32712696e-01 9.29094628e-01 9.25387393e-01\n",
            " 9.21591568e-01 9.17707746e-01 9.13736535e-01 9.09678557e-01\n",
            " 9.05534449e-01 9.01304864e-01 8.96990470e-01 8.92591949e-01\n",
            " 8.88109998e-01 8.83545330e-01 8.78898672e-01 8.74170767e-01\n",
            " 8.69362373e-01 8.64474261e-01 8.59507220e-01 8.54462051e-01\n",
            " 8.49339573e-01 8.44140618e-01 8.38866033e-01 8.33516680e-01\n",
            " 8.28093438e-01 8.22597199e-01 8.17028869e-01 8.11389373e-01\n",
            " 8.05679646e-01 7.99900642e-01 7.94053329e-01 7.88138688e-01\n",
            " 7.82157717e-01 7.76111428e-01 7.70000850e-01 7.63827024e-01\n",
            " 7.57591008e-01 7.51293875e-01 7.44936711e-01 7.38520620e-01\n",
            " 7.32046719e-01 7.25516140e-01 7.18930031e-01 7.12289555e-01\n",
            " 7.05595888e-01 6.98850224e-01 6.92053769e-01 6.85207746e-01\n",
            " 6.78313394e-01 6.71371963e-01 6.64384722e-01 6.57352954e-01\n",
            " 6.50277954e-01 6.43161037e-01 6.36003530e-01 6.28806774e-01\n",
            " 6.21572129e-01 6.14300965e-01 6.06994670e-01 5.99654647e-01\n",
            " 5.92282314e-01 5.84879103e-01 5.77446461e-01 5.69985851e-01\n",
            " 5.62498750e-01 5.54986651e-01 5.47451061e-01 5.39893503e-01\n",
            " 5.32315514e-01 5.24718646e-01 5.17104468e-01 5.09474561e-01\n",
            " 5.01830523e-01 4.94173967e-01 4.86506520e-01 4.78829824e-01\n",
            " 4.71145537e-01 4.63455332e-01 4.55760895e-01 4.48063929e-01\n",
            " 4.40366153e-01 4.32669297e-01 4.24975111e-01 4.17285355e-01\n",
            " 4.09601808e-01 4.01926262e-01 3.94260525e-01 3.86606419e-01\n",
            " 3.78965781e-01 3.71340464e-01 3.63732335e-01 3.56143278e-01\n",
            " 3.48575189e-01 3.41029980e-01 3.33509580e-01 3.26015930e-01\n",
            " 3.18550989e-01 3.11116728e-01 3.03715136e-01 2.96348214e-01\n",
            " 2.89017980e-01 2.81726466e-01 2.74475721e-01 2.67267805e-01\n",
            " 2.60104798e-01 2.52988791e-01 2.45921892e-01 2.38906223e-01\n",
            " 2.31943921e-01 2.25037140e-01 2.18188046e-01 2.11398823e-01\n",
            " 2.04671667e-01 1.98008791e-01 1.91412422e-01 1.84884803e-01\n",
            " 1.78428192e-01 1.72044860e-01 1.65737095e-01 1.59507201e-01\n",
            " 1.53357493e-01 1.47290305e-01 1.41307984e-01 1.35412893e-01\n",
            " 1.29607408e-01 1.23893923e-01 1.18274845e-01 1.12752596e-01\n",
            " 1.07329614e-01 1.02008351e-01 9.67912743e-02 9.16808672e-02\n",
            " 8.66796266e-02 8.17900650e-02 7.70147099e-02 7.23561037e-02\n",
            " 6.78168038e-02 6.33993828e-02 5.91064280e-02 5.49405420e-02\n",
            " 5.09043421e-02 4.70004608e-02 4.32315456e-02 3.96002588e-02\n",
            " 3.61092780e-02 3.27612956e-02 2.95590190e-02 2.65051707e-02\n",
            " 2.36024881e-02 2.08537237e-02 1.82616450e-02 1.58290342e-02\n",
            " 1.35586890e-02 1.14534218e-02 9.51605988e-03 7.74944583e-03\n",
            " 6.15643707e-03 4.73990602e-03 3.50274014e-03 2.44784187e-03\n",
            " 1.57812864e-03 8.96532894e-04 4.06002080e-04 1.09498635e-04\n",
            " 1.00994986e-05]\n",
            "gamma [-1.15129155e+01 -9.72113308e+00 -8.46825969e+00 -7.68395365e+00\n",
            " -7.11788346e+00 -6.67571309e+00 -6.31308514e+00 -6.00576257e+00\n",
            " -5.73908957e+00 -5.50353871e+00 -5.29257140e+00 -5.10150748e+00\n",
            " -4.92688250e+00 -4.76606050e+00 -4.61698950e+00 -4.47804095e+00\n",
            " -4.34790077e+00 -4.22549327e+00 -4.10992684e+00 -4.00045416e+00\n",
            " -3.89644268e+00 -3.79735227e+00 -3.70271801e+00 -3.61213687e+00\n",
            " -3.52525717e+00 -3.44177021e+00 -3.36140352e+00 -3.28391539e+00\n",
            " -3.20909042e+00 -3.13673581e+00 -3.06667831e+00 -2.99876163e+00\n",
            " -2.93284431e+00 -2.86879789e+00 -2.80650533e+00 -2.74585973e+00\n",
            " -2.68676316e+00 -2.62912565e+00 -2.57286439e+00 -2.51790296e+00\n",
            " -2.46417067e+00 -2.41160200e+00 -2.36013612e+00 -2.30971641e+00\n",
            " -2.26029009e+00 -2.21180790e+00 -2.16422373e+00 -2.11749439e+00\n",
            " -2.07157934e+00 -2.02644049e+00 -1.98204200e+00 -1.93835005e+00\n",
            " -1.89533275e+00 -1.85295995e+00 -1.81120312e+00 -1.77003522e+00\n",
            " -1.72943060e+00 -1.68936488e+00 -1.64981490e+00 -1.61075859e+00\n",
            " -1.57217491e+00 -1.53404379e+00 -1.49634605e+00 -1.45906334e+00\n",
            " -1.42217810e+00 -1.38567349e+00 -1.34953337e+00 -1.31374220e+00\n",
            " -1.27828507e+00 -1.24314762e+00 -1.20831600e+00 -1.17377687e+00\n",
            " -1.13951732e+00 -1.10552491e+00 -1.07178756e+00 -1.03829360e+00\n",
            " -1.00503169e+00 -9.71990858e-01 -9.39160402e-01 -9.06529931e-01\n",
            " -8.74089323e-01 -8.41828710e-01 -8.09738460e-01 -7.77809163e-01\n",
            " -7.46031614e-01 -7.14396801e-01 -6.82895885e-01 -6.51520196e-01\n",
            " -6.20261210e-01 -5.89110545e-01 -5.58059943e-01 -5.27101264e-01\n",
            " -4.96226469e-01 -4.65427614e-01 -4.34696836e-01 -4.04026346e-01\n",
            " -3.73408415e-01 -3.42835368e-01 -3.12299572e-01 -2.81793424e-01\n",
            " -2.51309349e-01 -2.20839781e-01 -1.90377161e-01 -1.59913924e-01\n",
            " -1.29442490e-01 -9.89552546e-02 -6.84445791e-02 -3.79027815e-02\n",
            " -7.32212627e-03  2.33051862e-02  5.39870292e-02  8.47313609e-02\n",
            "  1.15546234e-01  1.46439809e-01  1.77420363e-01  2.08496304e-01\n",
            "  2.39676180e-01  2.70968695e-01  3.02382722e-01  3.33927315e-01\n",
            "  3.65611723e-01  3.97445410e-01  4.29438063e-01  4.61599619e-01\n",
            "  4.93940271e-01  5.26470498e-01  5.59201076e-01  5.92143105e-01\n",
            "  6.25308026e-01  6.58707649e-01  6.92354176e-01  7.26260229e-01\n",
            "  7.60438876e-01  7.94903665e-01  8.29668656e-01  8.64748451e-01\n",
            "  9.00158242e-01  9.35913841e-01  9.72031730e-01  1.00852911e+00\n",
            "  1.04542394e+00  1.08273501e+00  1.12048198e+00  1.15868548e+00\n",
            "  1.19736713e+00  1.23654965e+00  1.27625695e+00  1.31651421e+00\n",
            "  1.35734796e+00  1.39878622e+00  1.44085862e+00  1.48359650e+00\n",
            "  1.52703311e+00  1.57120372e+00  1.61614582e+00  1.66189932e+00\n",
            "  1.70850678e+00  1.75601365e+00  1.80446853e+00  1.85392349e+00\n",
            "  1.90443442e+00  1.95606144e+00  2.00886928e+00  2.06292787e+00\n",
            "  2.11831280e+00  2.17510609e+00  2.23339682e+00  2.29328207e+00\n",
            "  2.35486785e+00  2.41827027e+00  2.48361686e+00  2.55104811e+00\n",
            "  2.62071935e+00  2.69280283e+00  2.76749035e+00  2.84499630e+00\n",
            "  2.92556137e+00  3.00945701e+00  3.09699096e+00  3.18851394e+00\n",
            "  3.28442809e+00  3.38519751e+00  3.49136168e+00  3.60355268e+00\n",
            "  3.72251765e+00  3.84914852e+00  3.98452188e+00  4.12995376e+00\n",
            "  4.28707623e+00  4.45794723e+00  4.64521277e+00  4.85235431e+00\n",
            "  5.08408160e+00  5.34698679e+00  5.65070083e+00  6.01009767e+00\n",
            "  6.44993617e+00  7.01607864e+00  7.80874619e+00  9.11948897e+00\n",
            "  1.15030147e+01]\n"
          ]
        }
      ],
      "source": [
        "model, nodes_dist, prop_dist = get_model(args, device, dataset_info, train_dataloader)\n",
        "optim = get_optim(args, model)\n",
        "\n",
        "model = model.to(device)"
      ]
    },
    {
      "cell_type": "code",
      "execution_count": 25,
      "metadata": {
        "id": "yN4yBAeiDxHK"
      },
      "outputs": [],
      "source": [
        "import wandb"
      ]
    },
    {
      "cell_type": "code",
      "execution_count": 29,
      "metadata": {
        "id": "tevrXiRUDxHK"
      },
      "outputs": [],
      "source": [
        "from src.train_test import *"
      ]
    },
    {
      "cell_type": "code",
      "execution_count": 30,
      "metadata": {
        "colab": {
          "base_uri": "https://localhost:8080/",
          "height": 38
        },
        "id": "6jUk95ruDxHK",
        "outputId": "297088d9-f0b4-4301-a18f-7ba66551a524"
      },
      "outputs": [
        {
          "data": {
            "text/html": [
              "<button onClick=\"this.nextSibling.style.display='block';this.style.display='none';\">Display W&B run</button><iframe src='?jupyter=true' style='border:none;width:100%;height:420px;display:none;'></iframe>"
            ],
            "text/plain": [
              "<wandb.sdk.wandb_run.Run at 0x14f113150>"
            ]
          },
          "execution_count": 30,
          "metadata": {},
          "output_type": "execute_result"
        }
      ],
      "source": [
        "if args.no_wandb:\n",
        "    mode = 'disabled'\n",
        "else:\n",
        "    mode = 'online' if args.online else 'offline'\n",
        "    kwargs = {'entity': args.wandb_usr, 'name': args.exp_name, 'project': 'e3_diffusion', 'config': args, 'reinit': True, 'mode': 'disabled'}\n",
        "wandb.init(**kwargs)"
      ]
    },
    {
      "cell_type": "code",
      "execution_count": 31,
      "metadata": {
        "id": "fkqjlJn6DxHK"
      },
      "outputs": [],
      "source": [
        "from src.model_utils import Queue"
      ]
    },
    {
      "cell_type": "code",
      "execution_count": 32,
      "metadata": {
        "id": "zmQFHlVJDxHK"
      },
      "outputs": [],
      "source": [
        "gradnorm_queue = Queue()\n",
        "gradnorm_queue.add(3000)"
      ]
    },
    {
      "cell_type": "code",
      "execution_count": 62,
      "metadata": {
        "id": "_e8Ou7wIaoMC"
      },
      "outputs": [],
      "source": [
        "# prompt: Get the size of object 'model'\n",
        "\n",
        "# print(f\"Size of model: {sum(p.numel() for p in model.parameters() if p.requires_grad)}\")\n",
        "\n",
        "# print(f\"Allocated memory: {torch.cuda.memory_allocated()} bytes\")\n",
        "# print(f\"Reserved memory: {torch.cuda.memory_reserved()} bytes\")\n",
        "# print(f\"Max memory: {torch.cuda.max_memory_allocated()} bytes\")"
      ]
    },
    {
      "cell_type": "code",
      "execution_count": 39,
      "metadata": {
        "colab": {
          "base_uri": "https://localhost:8080/",
          "height": 1000
        },
        "id": "oUztWFxKDxHK",
        "outputId": "83edfe35-380f-42bb-e601-8181f9fe0b81"
      },
      "outputs": [
        {
          "name": "stdout",
          "output_type": "stream",
          "text": [
            "Clipped gradient with value 25097706.0 while allowed 2203748.5\n",
            "Epoch: 1, iter: 0/3106, Loss 2035.38, NLL: 2035.38, RegTerm: 0.0, GradNorm: 25097706.0\n"
          ]
        },
        {
          "ename": "KeyboardInterrupt",
          "evalue": "",
          "output_type": "error",
          "traceback": [
            "\u001b[0;31m---------------------------------------------------------------------------\u001b[0m",
            "\u001b[0;31mKeyboardInterrupt\u001b[0m                         Traceback (most recent call last)",
            "Cell \u001b[0;32mIn[39], line 5\u001b[0m\n\u001b[1;32m      3\u001b[0m test_loss \u001b[38;5;241m=\u001b[39m {}\n\u001b[1;32m      4\u001b[0m \u001b[38;5;28;01mfor\u001b[39;00m epoch \u001b[38;5;129;01min\u001b[39;00m \u001b[38;5;28mrange\u001b[39m(\u001b[38;5;241m1\u001b[39m,args\u001b[38;5;241m.\u001b[39mn_epochs\u001b[38;5;241m+\u001b[39m\u001b[38;5;241m1\u001b[39m):\n\u001b[0;32m----> 5\u001b[0m     nll_train, batch_epoch \u001b[38;5;241m=\u001b[39m \u001b[43mtrain_epoch\u001b[49m\u001b[43m(\u001b[49m\u001b[43margs\u001b[49m\u001b[38;5;241;43m=\u001b[39;49m\u001b[43margs\u001b[49m\u001b[43m,\u001b[49m\u001b[43m \u001b[49m\u001b[43mloader\u001b[49m\u001b[38;5;241;43m=\u001b[39;49m\u001b[43mtrain_dataloader\u001b[49m\u001b[43m,\u001b[49m\u001b[43m \u001b[49m\u001b[43mepoch\u001b[49m\u001b[38;5;241;43m=\u001b[39;49m\u001b[43mepoch\u001b[49m\u001b[43m,\u001b[49m\u001b[43m \u001b[49m\u001b[43mmodel\u001b[49m\u001b[38;5;241;43m=\u001b[39;49m\u001b[43mmodel\u001b[49m\u001b[43m,\u001b[49m\u001b[43m \u001b[49m\u001b[43mmodel_dp\u001b[49m\u001b[38;5;241;43m=\u001b[39;49m\u001b[43mmodel\u001b[49m\u001b[43m,\u001b[49m\n\u001b[1;32m      6\u001b[0m \u001b[43m                    \u001b[49m\u001b[43mmodel_ema\u001b[49m\u001b[38;5;241;43m=\u001b[39;49m\u001b[43mmodel\u001b[49m\u001b[43m,\u001b[49m\u001b[43m \u001b[49m\u001b[43mema\u001b[49m\u001b[38;5;241;43m=\u001b[39;49m\u001b[38;5;28;43;01mNone\u001b[39;49;00m\u001b[43m,\u001b[49m\u001b[43m \u001b[49m\u001b[43mdevice\u001b[49m\u001b[38;5;241;43m=\u001b[39;49m\u001b[43mdevice\u001b[49m\u001b[43m,\u001b[49m\u001b[43m \u001b[49m\u001b[43mdtype\u001b[49m\u001b[38;5;241;43m=\u001b[39;49m\u001b[43mtorch\u001b[49m\u001b[38;5;241;43m.\u001b[39;49m\u001b[43mfloat32\u001b[49m\u001b[43m,\u001b[49m\u001b[43m \u001b[49m\u001b[43mproperty_norms\u001b[49m\u001b[38;5;241;43m=\u001b[39;49m\u001b[38;5;28;43;01mNone\u001b[39;49;00m\u001b[43m,\u001b[49m\n\u001b[1;32m      7\u001b[0m \u001b[43m                    \u001b[49m\u001b[43mnodes_dist\u001b[49m\u001b[38;5;241;43m=\u001b[39;49m\u001b[43mnodes_dist\u001b[49m\u001b[43m,\u001b[49m\u001b[43m \u001b[49m\u001b[43mdataset_info\u001b[49m\u001b[38;5;241;43m=\u001b[39;49m\u001b[43mdataset_info\u001b[49m\u001b[43m,\u001b[49m\n\u001b[1;32m      8\u001b[0m \u001b[43m                    \u001b[49m\u001b[43mgradnorm_queue\u001b[49m\u001b[38;5;241;43m=\u001b[39;49m\u001b[43mgradnorm_queue\u001b[49m\u001b[43m,\u001b[49m\u001b[43m \u001b[49m\u001b[43moptim\u001b[49m\u001b[38;5;241;43m=\u001b[39;49m\u001b[43moptim\u001b[49m\u001b[43m,\u001b[49m\u001b[43m \u001b[49m\u001b[43mprop_dist\u001b[49m\u001b[38;5;241;43m=\u001b[39;49m\u001b[43mprop_dist\u001b[49m\u001b[43m)\u001b[49m\n\u001b[1;32m      9\u001b[0m     train_loss[epoch] \u001b[38;5;241m=\u001b[39m nll_train\n\u001b[1;32m     10\u001b[0m     batch_train_loss[epoch] \u001b[38;5;241m=\u001b[39m batch_epoch\n",
            "File \u001b[0;32m~/Documents/NUS Computing/02 CS5284 - Graph Machine Learning/Project/protein-coordinates/notebooks/../src/train_test.py:69\u001b[0m, in \u001b[0;36mtrain_epoch\u001b[0;34m(args, loader, epoch, model, model_dp, model_ema, ema, device, dtype, property_norms, optim, nodes_dist, gradnorm_queue, dataset_info, prop_dist)\u001b[0m\n\u001b[1;32m     66\u001b[0m loss\u001b[38;5;241m.\u001b[39mbackward()\n\u001b[1;32m     68\u001b[0m \u001b[38;5;28;01mif\u001b[39;00m args\u001b[38;5;241m.\u001b[39mclip_grad:\n\u001b[0;32m---> 69\u001b[0m     grad_norm \u001b[38;5;241m=\u001b[39m \u001b[43mgradient_clipping\u001b[49m\u001b[43m(\u001b[49m\u001b[43mmodel\u001b[49m\u001b[43m,\u001b[49m\u001b[43m \u001b[49m\u001b[43mgradnorm_queue\u001b[49m\u001b[43m)\u001b[49m\n\u001b[1;32m     70\u001b[0m \u001b[38;5;28;01melse\u001b[39;00m:\n\u001b[1;32m     71\u001b[0m     grad_norm \u001b[38;5;241m=\u001b[39m \u001b[38;5;241m0.\u001b[39m\n",
            "File \u001b[0;32m~/Documents/NUS Computing/02 CS5284 - Graph Machine Learning/Project/protein-coordinates/notebooks/../src/model_utils.py:10\u001b[0m, in \u001b[0;36mgradient_clipping\u001b[0;34m(flow, gradnorm_queue)\u001b[0m\n\u001b[1;32m      7\u001b[0m max_grad_norm \u001b[38;5;241m=\u001b[39m \u001b[38;5;241m1.5\u001b[39m \u001b[38;5;241m*\u001b[39m gradnorm_queue\u001b[38;5;241m.\u001b[39mmean() \u001b[38;5;241m+\u001b[39m \u001b[38;5;241m2\u001b[39m \u001b[38;5;241m*\u001b[39m gradnorm_queue\u001b[38;5;241m.\u001b[39mstd()\n\u001b[1;32m      9\u001b[0m \u001b[38;5;66;03m# Clips gradient and returns the norm\u001b[39;00m\n\u001b[0;32m---> 10\u001b[0m grad_norm \u001b[38;5;241m=\u001b[39m \u001b[43mtorch\u001b[49m\u001b[38;5;241;43m.\u001b[39;49m\u001b[43mnn\u001b[49m\u001b[38;5;241;43m.\u001b[39;49m\u001b[43mutils\u001b[49m\u001b[38;5;241;43m.\u001b[39;49m\u001b[43mclip_grad_norm_\u001b[49m\u001b[43m(\u001b[49m\n\u001b[1;32m     11\u001b[0m \u001b[43m    \u001b[49m\u001b[43mflow\u001b[49m\u001b[38;5;241;43m.\u001b[39;49m\u001b[43mparameters\u001b[49m\u001b[43m(\u001b[49m\u001b[43m)\u001b[49m\u001b[43m,\u001b[49m\u001b[43m \u001b[49m\u001b[43mmax_norm\u001b[49m\u001b[38;5;241;43m=\u001b[39;49m\u001b[43mmax_grad_norm\u001b[49m\u001b[43m,\u001b[49m\u001b[43m \u001b[49m\u001b[43mnorm_type\u001b[49m\u001b[38;5;241;43m=\u001b[39;49m\u001b[38;5;241;43m2.0\u001b[39;49m\u001b[43m)\u001b[49m\n\u001b[1;32m     13\u001b[0m \u001b[38;5;28;01mif\u001b[39;00m \u001b[38;5;28mfloat\u001b[39m(grad_norm) \u001b[38;5;241m>\u001b[39m max_grad_norm:\n\u001b[1;32m     14\u001b[0m     gradnorm_queue\u001b[38;5;241m.\u001b[39madd(\u001b[38;5;28mfloat\u001b[39m(max_grad_norm))\n",
            "File \u001b[0;32m/opt/homebrew/Caskroom/miniconda/base/envs/gvp/lib/python3.11/site-packages/torch/nn/utils/clip_grad.py:20\u001b[0m, in \u001b[0;36m_no_grad.<locals>._no_grad_wrapper\u001b[0;34m(*args, **kwargs)\u001b[0m\n\u001b[1;32m     18\u001b[0m \u001b[38;5;28;01mdef\u001b[39;00m \u001b[38;5;21m_no_grad_wrapper\u001b[39m(\u001b[38;5;241m*\u001b[39margs, \u001b[38;5;241m*\u001b[39m\u001b[38;5;241m*\u001b[39mkwargs):\n\u001b[1;32m     19\u001b[0m     \u001b[38;5;28;01mwith\u001b[39;00m torch\u001b[38;5;241m.\u001b[39mno_grad():\n\u001b[0;32m---> 20\u001b[0m         \u001b[38;5;28;01mreturn\u001b[39;00m \u001b[43mfunc\u001b[49m\u001b[43m(\u001b[49m\u001b[38;5;241;43m*\u001b[39;49m\u001b[43margs\u001b[49m\u001b[43m,\u001b[49m\u001b[43m \u001b[49m\u001b[38;5;241;43m*\u001b[39;49m\u001b[38;5;241;43m*\u001b[39;49m\u001b[43mkwargs\u001b[49m\u001b[43m)\u001b[49m\n",
            "File \u001b[0;32m/opt/homebrew/Caskroom/miniconda/base/envs/gvp/lib/python3.11/site-packages/torch/nn/utils/clip_grad.py:97\u001b[0m, in \u001b[0;36mclip_grad_norm_\u001b[0;34m(parameters, max_norm, norm_type, error_if_nonfinite, foreach)\u001b[0m\n\u001b[1;32m     95\u001b[0m         clip_coef_clamped_device \u001b[38;5;241m=\u001b[39m clip_coef_clamped\u001b[38;5;241m.\u001b[39mto(device)\n\u001b[1;32m     96\u001b[0m         \u001b[38;5;28;01mfor\u001b[39;00m g \u001b[38;5;129;01min\u001b[39;00m device_grads:\n\u001b[0;32m---> 97\u001b[0m             \u001b[43mg\u001b[49m\u001b[38;5;241;43m.\u001b[39;49m\u001b[43mmul_\u001b[49m\u001b[43m(\u001b[49m\u001b[43mclip_coef_clamped_device\u001b[49m\u001b[43m)\u001b[49m\n\u001b[1;32m     99\u001b[0m \u001b[38;5;28;01mreturn\u001b[39;00m total_norm\n",
            "\u001b[0;31mKeyboardInterrupt\u001b[0m: "
          ]
        }
      ],
      "source": [
        "train_loss = {}\n",
        "batch_train_loss = {}\n",
        "test_loss = {}\n",
        "for epoch in range(1,args.n_epochs+1):\n",
        "    nll_train, batch_epoch = train_epoch(args=args, loader=train_dataloader, epoch=epoch, model=model, model_dp=model,\n",
        "                    model_ema=model, ema=None, device=device, dtype=torch.float32, property_norms=None,\n",
        "                    nodes_dist=nodes_dist, dataset_info=dataset_info,\n",
        "                    gradnorm_queue=gradnorm_queue, optim=optim, prop_dist=prop_dist)\n",
        "    train_loss[epoch] = nll_train\n",
        "    batch_train_loss[epoch] = batch_epoch\n",
        "    if epoch % args.test_epochs == 0:\n",
        "        nll_test = test(args=args, loader=test_dataloader, epoch=epoch, eval_model=model,\n",
        "                        partition='Test', device=device, dtype=torch.float32,\n",
        "                        nodes_dist=nodes_dist, property_norms=None)\n",
        "        test_loss[epoch] = nll_test\n",
        "    if epoch == args.n_epochs:\n",
        "      save_and_sample_chain(model, args, device, dataset_info, prop_dist, epoch=epoch)\n",
        "      sample_different_sizes_and_save(model, nodes_dist, args, device, dataset_info,\n",
        "                                      prop_dist, epoch=epoch)"
      ]
    },
    {
      "cell_type": "markdown",
      "metadata": {
        "id": "ry6pDAnKZYJl"
      },
      "source": [
        "## Visualizing Proteins"
      ]
    },
    {
      "cell_type": "code",
      "execution_count": 2,
      "metadata": {},
      "outputs": [],
      "source": [
        "import sys\n",
        "sys.path.append('../')\n",
        "from src.qm9.visualizer import *"
      ]
    },
    {
      "cell_type": "code",
      "execution_count": 3,
      "metadata": {},
      "outputs": [
        {
          "ename": "NameError",
          "evalue": "name 'dataset_info' is not defined",
          "output_type": "error",
          "traceback": [
            "\u001b[0;31m---------------------------------------------------------------------------\u001b[0m",
            "\u001b[0;31mNameError\u001b[0m                                 Traceback (most recent call last)",
            "Cell \u001b[0;32mIn[3], line 2\u001b[0m\n\u001b[1;32m      1\u001b[0m mol_file \u001b[38;5;241m=\u001b[39m \u001b[38;5;124m\"\u001b[39m\u001b[38;5;124moutputs/pdb_trial_2/epoch_50_/chain/chain_000.txt\u001b[39m\u001b[38;5;124m\"\u001b[39m\n\u001b[0;32m----> 2\u001b[0m positions, one_hot, _ \u001b[38;5;241m=\u001b[39m load_molecule_xyz(mol_file, \u001b[43mdataset_info\u001b[49m)\n\u001b[1;32m      3\u001b[0m atom_type \u001b[38;5;241m=\u001b[39m torch\u001b[38;5;241m.\u001b[39margmax(one_hot, dim\u001b[38;5;241m=\u001b[39m\u001b[38;5;241m1\u001b[39m)\u001b[38;5;241m.\u001b[39mnumpy()\n",
            "\u001b[0;31mNameError\u001b[0m: name 'dataset_info' is not defined"
          ]
        }
      ],
      "source": [
        "mol_file = \"outputs/pdb_trial_2/epoch_50_/chain/chain_000.txt\"\n",
        "positions, one_hot, _ = load_molecule_xyz(mol_file, dataset_info)\n",
        "atom_type = torch.argmax(one_hot, dim=1).numpy()"
      ]
    },
    {
      "cell_type": "code",
      "execution_count": null,
      "metadata": {},
      "outputs": [],
      "source": []
    }
  ],
  "metadata": {
    "colab": {
      "collapsed_sections": [
        "RVVuE8-ADxHH"
      ],
      "provenance": []
    },
    "kernelspec": {
      "display_name": "Python 3",
      "name": "python3"
    },
    "language_info": {
      "codemirror_mode": {
        "name": "ipython",
        "version": 3
      },
      "file_extension": ".py",
      "mimetype": "text/x-python",
      "name": "python",
      "nbconvert_exporter": "python",
      "pygments_lexer": "ipython3",
      "version": "3.11.10"
    }
  },
  "nbformat": 4,
  "nbformat_minor": 0
}
