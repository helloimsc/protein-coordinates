{
 "cells": [
  {
   "cell_type": "code",
   "execution_count": 151,
   "metadata": {},
   "outputs": [
    {
     "name": "stdout",
     "output_type": "stream",
     "text": [
      "The autoreload extension is already loaded. To reload it, use:\n",
      "  %reload_ext autoreload\n"
     ]
    }
   ],
   "source": [
    "import numpy as np\n",
    "import pandas as pd\n",
    "import matplotlib.pyplot as plt\n",
    "from Bio.PDB import PDBList, PDBParser\n",
    "import os\n",
    "import torch\n",
    "import torch.nn as nn\n",
    "from data_read import *\n",
    "import dgl\n",
    "from tqdm import tqdm\n",
    "import warnings\n",
    "from torch.utils.data import DataLoader\n",
    "%load_ext autoreload\n",
    "%autoreload 2\n",
    "warnings.filterwarnings('ignore')"
   ]
  },
  {
   "cell_type": "markdown",
   "metadata": {},
   "source": [
    "### Data Retrieval"
   ]
  },
  {
   "cell_type": "code",
   "execution_count": null,
   "metadata": {},
   "outputs": [],
   "source": [
    "def download_pdb_files(sample_size=100):\n",
    "    \"\"\"\n",
    "    Retrieves all PDB IDs available in the PDB.\n",
    "\n",
    "    Returns:\n",
    "        list: List of all PDB IDs.\n",
    "    \"\"\"\n",
    "    np.random.seed(42)\n",
    "    pdbl = PDBList()\n",
    "    pdb_ids = pdbl.get_all_entries()\n",
    "    sampled_pdb_ids = np.random.choice(pdb_ids, sample_size, replace=False)\n",
    "    for pdb_id in sampled_pdb_ids:\n",
    "        pdbl.retrieve_pdb_file(pdb_id, pdir='pdb_files', file_format='pdb')\n",
    "    print(f\"Downloaded {len(sampled_pdb_ids)} PDB files.\")\n",
    "    return pdb_ids\n",
    "\n",
    "download_pdb_files(sample_size=100)"
   ]
  },
  {
   "cell_type": "code",
   "execution_count": 148,
   "metadata": {},
   "outputs": [
    {
     "name": "stdout",
     "output_type": "stream",
     "text": [
      "Moved 77 files to ../data/pdb_files/train\n",
      "Moved 20 files to ../data/pdb_files/test\n"
     ]
    }
   ],
   "source": [
    "import shutil\n",
    "from sklearn.model_selection import train_test_split\n",
    "\n",
    "# Define the paths\n",
    "data_path = '../data/pdb_files/'\n",
    "train_path = os.path.join(data_path, 'train')\n",
    "test_path = os.path.join(data_path, 'test')\n",
    "\n",
    "# Create train and test directories if they don't exist\n",
    "os.makedirs(train_path, exist_ok=True)\n",
    "os.makedirs(test_path, exist_ok=True)\n",
    "\n",
    "# Get list of all files in the data_path\n",
    "all_files = [f for f in os.listdir(data_path) if os.path.isfile(os.path.join(data_path, f))]\n",
    "\n",
    "# Split the files into train and test sets\n",
    "train_files, test_files = train_test_split(all_files, test_size=0.2, random_state=42)\n",
    "\n",
    "# Move the files to the respective directories\n",
    "for file in train_files:\n",
    "    shutil.move(os.path.join(data_path, file), os.path.join(train_path, file))\n",
    "\n",
    "for file in test_files:\n",
    "    shutil.move(os.path.join(data_path, file), os.path.join(test_path, file))\n",
    "\n",
    "print(f\"Moved {len(train_files)} files to {train_path}\")\n",
    "print(f\"Moved {len(test_files)} files to {test_path}\")"
   ]
  },
  {
   "cell_type": "markdown",
   "metadata": {},
   "source": [
    "### Testing of Datasets and DataLoaders"
   ]
  },
  {
   "cell_type": "code",
   "execution_count": 229,
   "metadata": {},
   "outputs": [],
   "source": [
    "from src.dataset.datasets import *\n",
    "from src.dataset.transforms import *\n",
    "from torchvision import transforms"
   ]
  },
  {
   "cell_type": "code",
   "execution_count": 311,
   "metadata": {},
   "outputs": [],
   "source": [
    "# pdb_transforms = transforms.Compose([NormalizeCoordinates(), PadDatasetTransform(1000)])"
   ]
  },
  {
   "cell_type": "code",
   "execution_count": 376,
   "metadata": {},
   "outputs": [
    {
     "name": "stderr",
     "output_type": "stream",
     "text": [
      "100%|██████████| 77/77 [00:05<00:00, 14.66it/s]\n",
      "100%|██████████| 20/20 [00:00<00:00, 22.01it/s]\n"
     ]
    }
   ],
   "source": [
    "train_data_path = '../data/pdb_files/train'\n",
    "test_data_path = '../data/pdb_files/test'\n",
    "train_dataset = PDBDataset(train_data_path)\n",
    "test_dataset = PDBDataset(test_data_path)"
   ]
  },
  {
   "cell_type": "markdown",
   "metadata": {},
   "source": [
    "### Data Statistics"
   ]
  },
  {
   "cell_type": "code",
   "execution_count": 377,
   "metadata": {},
   "outputs": [
    {
     "name": "stdout",
     "output_type": "stream",
     "text": [
      "i_seq count dictionary: {1: 1314, 2: 268, 3: 1036, 4: 1017, 5: 695, 6: 1241, 7: 359, 8: 1058, 9: 1029, 10: 1534, 11: 328, 12: 744, 13: 808, 14: 623, 15: 791, 16: 981, 17: 1031, 18: 1244, 19: 207, 20: 603}\n",
      "Maximum number of nodes in a sample: 773\n",
      "Node count dictionary: {364: 1, 452: 1, 114: 2, 152: 1, 294: 1, 16: 1, 119: 1, 207: 1, 113: 1, 88: 1, 124: 1, 303: 1, 78: 3, 121: 1, 306: 1, 296: 2, 183: 1, 321: 1, 319: 1, 396: 1, 62: 1, 74: 1, 368: 1, 391: 1, 107: 1, 153: 1, 400: 1, 369: 1, 394: 1, 224: 1, 58: 2, 130: 1, 309: 1, 297: 1, 73: 1, 128: 1, 216: 1, 330: 1, 215: 1, 338: 1, 438: 1, 198: 1, 553: 1, 325: 1, 268: 1, 410: 1, 284: 1, 175: 1, 277: 1, 127: 1, 354: 1, 168: 1, 12: 1, 607: 1, 63: 1, 773: 1, 300: 1, 169: 1, 254: 1, 527: 1, 305: 1, 343: 1, 355: 1}\n"
     ]
    }
   ],
   "source": [
    "from collections import defaultdict\n",
    "\n",
    "# Initialize a dictionary to store the count of samples with each number of nodes\n",
    "node_count_dict = defaultdict(int)\n",
    "\n",
    "# Enumerate through the train_dataset and count the number of nodes in each sample\n",
    "max_nodes = 0\n",
    "for sample in train_dataset:\n",
    "    num_nodes = sample['positions'].shape[0]\n",
    "    node_count_dict[num_nodes] += 1\n",
    "    if num_nodes > max_nodes:\n",
    "        max_nodes = num_nodes\n",
    "\n",
    "# Initialize a dictionary to store the count of occurrences for each unique value in [\"i_seq\"]\n",
    "i_seq_count_dict = defaultdict(int)\n",
    "\n",
    "# Enumerate through the train_dataset and count the occurrences of each unique value in [\"i_seq\"]\n",
    "for sample in train_dataset:\n",
    "    for i_seq_value in sample['i_seq']:\n",
    "        if i_seq_value != 0:\n",
    "            i_seq_count_dict[i_seq_value.item()] += 1\n",
    "\n",
    "# Sort the keys of i_seq_count_dict\n",
    "i_seq_count_dict = dict(sorted(i_seq_count_dict.items()))\n",
    "\n",
    "print(\"i_seq count dictionary:\", dict(i_seq_count_dict))\n",
    "\n",
    "print(f\"Maximum number of nodes in a sample: {max_nodes}\")\n",
    "print(\"Node count dictionary:\", dict(node_count_dict))"
   ]
  },
  {
   "cell_type": "code",
   "execution_count": 378,
   "metadata": {},
   "outputs": [],
   "source": [
    "# Get dataset info required to generate node distribution\n",
    "aa_rep = \"ACDEFGHIKLMNPQRSTVWYBXZJUO\"\n",
    "aa_to_int = {c: i for i, c in enumerate(aa_rep)}\n",
    "\n",
    "dataset_info = {\n",
    "    'name': 'pdb',\n",
    "    'max_n_nodes': max_nodes,\n",
    "    'n_nodes': node_count_dict,\n",
    "    'atom_types': i_seq_count_dict,\n",
    "    'atom_encoder': aa_to_int,\n",
    "    'atom_decoder': [i for i in aa_rep],\n",
    "    'colors_dic': ['C'+str(i) for i in range(len(aa_rep))],\n",
    "    'radius_dic': [0.3]*len(aa_rep)\n",
    "}"
   ]
  },
  {
   "cell_type": "code",
   "execution_count": 390,
   "metadata": {},
   "outputs": [],
   "source": [
    "from src.dataset.collate import PreprocessPDB\n",
    "\n",
    "train_dataloader = DataLoader(train_dataset, batch_size=4, shuffle=True, collate_fn=PreprocessPDB().collate_fn)\n",
    "test_dataloader = DataLoader(test_dataset, batch_size=4, shuffle=False, collate_fn=PreprocessPDB().collate_fn)"
   ]
  },
  {
   "cell_type": "markdown",
   "metadata": {},
   "source": [
    "### Models"
   ]
  },
  {
   "cell_type": "code",
   "execution_count": 394,
   "metadata": {},
   "outputs": [],
   "source": [
    "import yaml\n",
    "\n",
    "# Read the jer_config.yml file\n",
    "with open('../edm_config.yml', 'r') as file:\n",
    "    config = yaml.safe_load(file)\n",
    "\n",
    "class Config:\n",
    "    def __init__(self, config_dict):\n",
    "        for key, value in config_dict.items():\n",
    "            if isinstance(value, str):\n",
    "                try:\n",
    "                    # Try to convert strings to their appropriate types\n",
    "                    value = eval(value)\n",
    "                except:\n",
    "                    pass\n",
    "            setattr(self, key, value)\n",
    "\n",
    "args = Config(config)"
   ]
  },
  {
   "cell_type": "code",
   "execution_count": 395,
   "metadata": {},
   "outputs": [],
   "source": [
    "from src.models.prepare_models import *"
   ]
  },
  {
   "cell_type": "code",
   "execution_count": 403,
   "metadata": {},
   "outputs": [],
   "source": [
    "if torch.cuda.is_available():\n",
    "    device = torch.device(\"cuda\")\n",
    "elif torch.backends.mps.is_available():\n",
    "    device = torch.device(\"mps\")\n",
    "else:\n",
    "    device = torch.device(\"cpu\")"
   ]
  },
  {
   "cell_type": "code",
   "execution_count": 404,
   "metadata": {},
   "outputs": [
    {
     "name": "stdout",
     "output_type": "stream",
     "text": [
      "Entropy of n_nodes: H[N] -4.109879493713379\n",
      "alphas2 [9.99990000e-01 9.99982000e-01 9.99958001e-01 9.99918003e-01\n",
      " 9.99862007e-01 9.99790014e-01 9.99702026e-01 9.99598046e-01\n",
      " 9.99478076e-01 9.99342118e-01 9.99190176e-01 9.99022254e-01\n",
      " 9.98838355e-01 9.98638484e-01 9.98422646e-01 9.98190846e-01\n",
      " 9.97943090e-01 9.97679383e-01 9.97399731e-01 9.97104143e-01\n",
      " 9.96792624e-01 9.96465182e-01 9.96121825e-01 9.95762562e-01\n",
      " 9.95387400e-01 9.94996350e-01 9.94589420e-01 9.94166620e-01\n",
      " 9.93727960e-01 9.93273451e-01 9.92803104e-01 9.92316930e-01\n",
      " 9.91814941e-01 9.91297149e-01 9.90763566e-01 9.90214206e-01\n",
      " 9.89649081e-01 9.89068205e-01 9.88471593e-01 9.87859258e-01\n",
      " 9.87231215e-01 9.86587480e-01 9.85928068e-01 9.85252996e-01\n",
      " 9.84562278e-01 9.83855933e-01 9.83133976e-01 9.82396427e-01\n",
      " 9.81643302e-01 9.80874619e-01 9.80090398e-01 9.79290657e-01\n",
      " 9.78475416e-01 9.77644695e-01 9.76798513e-01 9.75936891e-01\n",
      " 9.75059851e-01 9.74167412e-01 9.73259599e-01 9.72336431e-01\n",
      " 9.71397932e-01 9.70444124e-01 9.69475032e-01 9.68490677e-01\n",
      " 9.67491085e-01 9.66476280e-01 9.65446287e-01 9.64401130e-01\n",
      " 9.63340835e-01 9.62265428e-01 9.61174936e-01 9.60069385e-01\n",
      " 9.58948803e-01 9.57813215e-01 9.56662652e-01 9.55497140e-01\n",
      " 9.54316708e-01 9.53121386e-01 9.51911202e-01 9.50686187e-01\n",
      " 9.49446371e-01 9.48191784e-01 9.46922456e-01 9.45638420e-01\n",
      " 9.44339707e-01 9.43026349e-01 9.41698379e-01 9.40355829e-01\n",
      " 9.38998732e-01 9.37627123e-01 9.36241035e-01 9.34840502e-01\n",
      " 9.33425560e-01 9.31996243e-01 9.30552587e-01 9.29094628e-01\n",
      " 9.27622402e-01 9.26135946e-01 9.24635296e-01 9.23120491e-01\n",
      " 9.21591568e-01 9.20048565e-01 9.18491521e-01 9.16920476e-01\n",
      " 9.15335467e-01 9.13736535e-01 9.12123720e-01 9.10497064e-01\n",
      " 9.08856605e-01 9.07202386e-01 9.05534449e-01 9.03852835e-01\n",
      " 9.02157588e-01 9.00448749e-01 8.98726362e-01 8.96990470e-01\n",
      " 8.95241118e-01 8.93478350e-01 8.91702210e-01 8.89912744e-01\n",
      " 8.88109998e-01 8.86294016e-01 8.84464846e-01 8.82622534e-01\n",
      " 8.80767127e-01 8.78898672e-01 8.77017218e-01 8.75122812e-01\n",
      " 8.73215503e-01 8.71295340e-01 8.69362373e-01 8.67416650e-01\n",
      " 8.65458223e-01 8.63487142e-01 8.61503457e-01 8.59507220e-01\n",
      " 8.57498482e-01 8.55477296e-01 8.53443714e-01 8.51397789e-01\n",
      " 8.49339573e-01 8.47269121e-01 8.45186486e-01 8.43091724e-01\n",
      " 8.40984887e-01 8.38866033e-01 8.36735215e-01 8.34592490e-01\n",
      " 8.32437915e-01 8.30271545e-01 8.28093438e-01 8.25903651e-01\n",
      " 8.23702243e-01 8.21489271e-01 8.19264793e-01 8.17028869e-01\n",
      " 8.14781559e-01 8.12522921e-01 8.10253016e-01 8.07971904e-01\n",
      " 8.05679646e-01 8.03376304e-01 8.01061939e-01 7.98736613e-01\n",
      " 7.96400389e-01 7.94053329e-01 7.91695496e-01 7.89326954e-01\n",
      " 7.86947768e-01 7.84558000e-01 7.82157717e-01 7.79746982e-01\n",
      " 7.77325862e-01 7.74894423e-01 7.72452730e-01 7.70000850e-01\n",
      " 7.67538850e-01 7.65066798e-01 7.62584762e-01 7.60092809e-01\n",
      " 7.57591008e-01 7.55079428e-01 7.52558139e-01 7.50027209e-01\n",
      " 7.47486710e-01 7.44936711e-01 7.42377284e-01 7.39808499e-01\n",
      " 7.37230429e-01 7.34643144e-01 7.32046719e-01 7.29441225e-01\n",
      " 7.26826735e-01 7.24203324e-01 7.21571064e-01 7.18930031e-01\n",
      " 7.16280299e-01 7.13621943e-01 7.10955039e-01 7.08279662e-01\n",
      " 7.05595888e-01 7.02903795e-01 7.00203459e-01 6.97494957e-01\n",
      " 6.94778368e-01 6.92053769e-01 6.89321239e-01 6.86580857e-01\n",
      " 6.83832702e-01 6.81076855e-01 6.78313394e-01 6.75542400e-01\n",
      " 6.72763955e-01 6.69978139e-01 6.67185034e-01 6.64384722e-01\n",
      " 6.61577286e-01 6.58762807e-01 6.55941370e-01 6.53113058e-01\n",
      " 6.50277954e-01 6.47436144e-01 6.44587711e-01 6.41732740e-01\n",
      " 6.38871318e-01 6.36003530e-01 6.33129462e-01 6.30249200e-01\n",
      " 6.27362833e-01 6.24470446e-01 6.21572129e-01 6.18667968e-01\n",
      " 6.15758052e-01 6.12842471e-01 6.09921314e-01 6.06994670e-01\n",
      " 6.04062629e-01 6.01125282e-01 5.98182720e-01 5.95235034e-01\n",
      " 5.92282314e-01 5.89324654e-01 5.86362146e-01 5.83394882e-01\n",
      " 5.80422956e-01 5.77446461e-01 5.74465491e-01 5.71480140e-01\n",
      " 5.68490502e-01 5.65496674e-01 5.62498750e-01 5.59496826e-01\n",
      " 5.56490998e-01 5.53481364e-01 5.50468019e-01 5.47451061e-01\n",
      " 5.44430588e-01 5.41406698e-01 5.38379490e-01 5.35349062e-01\n",
      " 5.32315514e-01 5.29278945e-01 5.26239455e-01 5.23197145e-01\n",
      " 5.20152116e-01 5.17104468e-01 5.14054303e-01 5.11001724e-01\n",
      " 5.07946833e-01 5.04889731e-01 5.01830523e-01 4.98769312e-01\n",
      " 4.95706202e-01 4.92641297e-01 4.89574701e-01 4.86506520e-01\n",
      " 4.83436859e-01 4.80365824e-01 4.77293521e-01 4.74220056e-01\n",
      " 4.71145537e-01 4.68070071e-01 4.64993765e-01 4.61916728e-01\n",
      " 4.58839069e-01 4.55760895e-01 4.52682316e-01 4.49603443e-01\n",
      " 4.46524384e-01 4.43445250e-01 4.40366153e-01 4.37287202e-01\n",
      " 4.34208511e-01 4.31130190e-01 4.28052353e-01 4.24975111e-01\n",
      " 4.21898577e-01 4.18822866e-01 4.15748092e-01 4.12674367e-01\n",
      " 4.09601808e-01 4.06530529e-01 4.03460645e-01 4.00392272e-01\n",
      " 3.97325526e-01 3.94260525e-01 3.91197384e-01 3.88136221e-01\n",
      " 3.85077154e-01 3.82020301e-01 3.78965781e-01 3.75913711e-01\n",
      " 3.72864212e-01 3.69817403e-01 3.66773404e-01 3.63732335e-01\n",
      " 3.60694318e-01 3.57659473e-01 3.54627922e-01 3.51599786e-01\n",
      " 3.48575189e-01 3.45554252e-01 3.42537099e-01 3.39523853e-01\n",
      " 3.36514639e-01 3.33509580e-01 3.30508801e-01 3.27512426e-01\n",
      " 3.24520583e-01 3.21533395e-01 3.18550989e-01 3.15573492e-01\n",
      " 3.12601031e-01 3.09633733e-01 3.06671725e-01 3.03715136e-01\n",
      " 3.00764094e-01 2.97818728e-01 2.94879167e-01 2.91945541e-01\n",
      " 2.89017980e-01 2.86096614e-01 2.83181573e-01 2.80272990e-01\n",
      " 2.77370995e-01 2.74475721e-01 2.71587299e-01 2.68705862e-01\n",
      " 2.65831545e-01 2.62964478e-01 2.60104798e-01 2.57252637e-01\n",
      " 2.54408131e-01 2.51571415e-01 2.48742623e-01 2.45921892e-01\n",
      " 2.43109357e-01 2.40305156e-01 2.37509424e-01 2.34722300e-01\n",
      " 2.31943921e-01 2.29174425e-01 2.26413951e-01 2.23662637e-01\n",
      " 2.20920622e-01 2.18188046e-01 2.15465050e-01 2.12751773e-01\n",
      " 2.10048356e-01 2.07354940e-01 2.04671667e-01 2.01998678e-01\n",
      " 1.99336117e-01 1.96684125e-01 1.94042845e-01 1.91412422e-01\n",
      " 1.88792998e-01 1.86184719e-01 1.83587728e-01 1.81002170e-01\n",
      " 1.78428192e-01 1.75865938e-01 1.73315554e-01 1.70777188e-01\n",
      " 1.68250986e-01 1.65737095e-01 1.63235664e-01 1.60746839e-01\n",
      " 1.58270770e-01 1.55807605e-01 1.53357493e-01 1.50920584e-01\n",
      " 1.48497029e-01 1.46086976e-01 1.43690577e-01 1.41307984e-01\n",
      " 1.38939347e-01 1.36584819e-01 1.34244551e-01 1.31918696e-01\n",
      " 1.29607408e-01 1.27310840e-01 1.25029145e-01 1.22762477e-01\n",
      " 1.20510992e-01 1.18274845e-01 1.16054189e-01 1.13849182e-01\n",
      " 1.11659980e-01 1.09486738e-01 1.07329614e-01 1.05188764e-01\n",
      " 1.03064347e-01 1.00956521e-01 9.88654439e-02 9.67912743e-02\n",
      " 9.47341717e-02 9.26942954e-02 9.06718055e-02 8.86668624e-02\n",
      " 8.66796266e-02 8.47102593e-02 8.27589219e-02 8.08257763e-02\n",
      " 7.89109848e-02 7.70147099e-02 7.51371146e-02 7.32783625e-02\n",
      " 7.14386171e-02 6.96180427e-02 6.78168038e-02 6.60350654e-02\n",
      " 6.42729927e-02 6.25307515e-02 6.08085078e-02 5.91064280e-02\n",
      " 5.74246791e-02 5.57634283e-02 5.41228431e-02 5.25030916e-02\n",
      " 5.09043421e-02 4.93267634e-02 4.77705247e-02 4.62357955e-02\n",
      " 4.47227457e-02 4.32315456e-02 4.17623658e-02 4.03153776e-02\n",
      " 3.88907522e-02 3.74886616e-02 3.61092780e-02 3.47527739e-02\n",
      " 3.34193225e-02 3.21090969e-02 3.08222710e-02 2.95590190e-02\n",
      " 2.83195153e-02 2.71039349e-02 2.59124531e-02 2.47452455e-02\n",
      " 2.36024881e-02 2.24843576e-02 2.13910305e-02 2.03226843e-02\n",
      " 1.92794965e-02 1.82616450e-02 1.72693082e-02 1.63026649e-02\n",
      " 1.53618942e-02 1.44471756e-02 1.35586890e-02 1.26966148e-02\n",
      " 1.18611335e-02 1.10524262e-02 1.02706744e-02 9.51605988e-03\n",
      " 8.78876484e-03 8.08897187e-03 7.41686396e-03 6.77262444e-03\n",
      " 6.15643707e-03 5.56848596e-03 5.00895563e-03 4.47803097e-03\n",
      " 3.97589726e-03 3.50274014e-03 3.05874568e-03 2.64410029e-03\n",
      " 2.25899080e-03 1.90360438e-03 1.57812864e-03 1.28275152e-03\n",
      " 1.01766138e-03 7.83046955e-04 5.79097354e-04 4.06002080e-04\n",
      " 2.63951017e-04 1.53134433e-04 7.37429811e-05 2.59676966e-05\n",
      " 1.00159677e-05]\n",
      "gamma [-1.15129155e+01 -1.09251306e+01 -1.00778203e+01 -9.40874268e+00\n",
      " -8.88816710e+00 -8.46825969e+00 -8.11820797e+00 -7.81877150e+00\n",
      " -7.55746608e+00 -7.32582677e+00 -7.11788346e+00 -6.92928201e+00\n",
      " -6.75675569e+00 -6.59779406e+00 -6.45042792e+00 -6.31308514e+00\n",
      " -6.18449116e+00 -6.06359867e+00 -5.94953689e+00 -5.84157408e+00\n",
      " -5.73908957e+00 -5.64155244e+00 -5.54850500e+00 -5.45955000e+00\n",
      " -5.37434042e+00 -5.29257140e+00 -5.21397364e+00 -5.13830814e+00\n",
      " -5.06536178e+00 -4.99494375e+00 -4.92688250e+00 -4.86102331e+00\n",
      " -4.79722608e+00 -4.73536362e+00 -4.67532003e+00 -4.61698950e+00\n",
      " -4.56027508e+00 -4.50508778e+00 -4.45134570e+00 -4.39897331e+00\n",
      " -4.34790077e+00 -4.29806342e+00 -4.24940125e+00 -4.20185848e+00\n",
      " -4.15538317e+00 -4.10992684e+00 -4.06544425e+00 -4.02189301e+00\n",
      " -3.97923346e+00 -3.93742835e+00 -3.89644268e+00 -3.85624355e+00\n",
      " -3.81679995e+00 -3.77808264e+00 -3.74006402e+00 -3.70271801e+00\n",
      " -3.66601992e+00 -3.62994639e+00 -3.59447526e+00 -3.55958551e+00\n",
      " -3.52525717e+00 -3.49147127e+00 -3.45820974e+00 -3.42545540e+00\n",
      " -3.39319187e+00 -3.36140352e+00 -3.33007545e+00 -3.29919341e+00\n",
      " -3.26874381e+00 -3.23871363e+00 -3.20909042e+00 -3.17986224e+00\n",
      " -3.15101768e+00 -3.12254577e+00 -3.09443601e+00 -3.06667831e+00\n",
      " -3.03926297e+00 -3.01218069e+00 -2.98542251e+00 -2.95897981e+00\n",
      " -2.93284431e+00 -2.90700803e+00 -2.88146327e+00 -2.85620263e+00\n",
      " -2.83121894e+00 -2.80650533e+00 -2.78205513e+00 -2.75786192e+00\n",
      " -2.73391949e+00 -2.71022183e+00 -2.68676316e+00 -2.66353786e+00\n",
      " -2.64054050e+00 -2.61776583e+00 -2.59520877e+00 -2.57286439e+00\n",
      " -2.55072792e+00 -2.52879473e+00 -2.50706034e+00 -2.48552039e+00\n",
      " -2.46417067e+00 -2.44300707e+00 -2.42202563e+00 -2.40122247e+00\n",
      " -2.38059385e+00 -2.36013612e+00 -2.33984573e+00 -2.31971924e+00\n",
      " -2.29975330e+00 -2.27994464e+00 -2.26029009e+00 -2.24078657e+00\n",
      " -2.22143107e+00 -2.20222065e+00 -2.18315246e+00 -2.16422373e+00\n",
      " -2.14543174e+00 -2.12677385e+00 -2.10824749e+00 -2.08985013e+00\n",
      " -2.07157934e+00 -2.05343271e+00 -2.03540792e+00 -2.01750268e+00\n",
      " -1.99971476e+00 -1.98204200e+00 -1.96448226e+00 -1.94703347e+00\n",
      " -1.92969361e+00 -1.91246068e+00 -1.89533275e+00 -1.87830792e+00\n",
      " -1.86138434e+00 -1.84456020e+00 -1.82783370e+00 -1.81120312e+00\n",
      " -1.79466676e+00 -1.77822294e+00 -1.76187003e+00 -1.74560644e+00\n",
      " -1.72943060e+00 -1.71334097e+00 -1.69733604e+00 -1.68141435e+00\n",
      " -1.66557444e+00 -1.64981490e+00 -1.63413434e+00 -1.61853138e+00\n",
      " -1.60300470e+00 -1.58755297e+00 -1.57217491e+00 -1.55686925e+00\n",
      " -1.54163474e+00 -1.52647017e+00 -1.51137433e+00 -1.49634605e+00\n",
      " -1.48138416e+00 -1.46648753e+00 -1.45165504e+00 -1.43688559e+00\n",
      " -1.42217810e+00 -1.40753150e+00 -1.39294475e+00 -1.37841681e+00\n",
      " -1.36394669e+00 -1.34953337e+00 -1.33517587e+00 -1.32087324e+00\n",
      " -1.30662452e+00 -1.29242877e+00 -1.27828507e+00 -1.26419252e+00\n",
      " -1.25015021e+00 -1.23615727e+00 -1.22221282e+00 -1.20831600e+00\n",
      " -1.19446598e+00 -1.18066192e+00 -1.16690300e+00 -1.15318840e+00\n",
      " -1.13951732e+00 -1.12588899e+00 -1.11230260e+00 -1.09875741e+00\n",
      " -1.08525264e+00 -1.07178756e+00 -1.05836141e+00 -1.04497347e+00\n",
      " -1.03162301e+00 -1.01830932e+00 -1.00503169e+00 -9.91789438e-01\n",
      " -9.78581858e-01 -9.65408273e-01 -9.52268010e-01 -9.39160402e-01\n",
      " -9.26084788e-01 -9.13040516e-01 -9.00026940e-01 -8.87043420e-01\n",
      " -8.74089323e-01 -8.61164023e-01 -8.48266898e-01 -8.35397335e-01\n",
      " -8.22554723e-01 -8.09738460e-01 -7.96947946e-01 -7.84182591e-01\n",
      " -7.71441804e-01 -7.58725005e-01 -7.46031614e-01 -7.33361059e-01\n",
      " -7.20712771e-01 -7.08086186e-01 -6.95480742e-01 -6.82895885e-01\n",
      " -6.70331063e-01 -6.57785727e-01 -6.45259332e-01 -6.32751339e-01\n",
      " -6.20261210e-01 -6.07788411e-01 -5.95332410e-01 -5.82892681e-01\n",
      " -5.70468700e-01 -5.58059943e-01 -5.45665893e-01 -5.33286033e-01\n",
      " -5.20919850e-01 -5.08566831e-01 -4.96226469e-01 -4.83898256e-01\n",
      " -4.71581688e-01 -4.59276262e-01 -4.46981478e-01 -4.34696836e-01\n",
      " -4.22421840e-01 -4.10155993e-01 -3.97898802e-01 -3.85649773e-01\n",
      " -3.73408415e-01 -3.61174239e-01 -3.48946754e-01 -3.36725473e-01\n",
      " -3.24509907e-01 -3.12299572e-01 -3.00093980e-01 -2.87892646e-01\n",
      " -2.75695086e-01 -2.63500815e-01 -2.51309349e-01 -2.39120204e-01\n",
      " -2.26932897e-01 -2.14746943e-01 -2.02561860e-01 -1.90377161e-01\n",
      " -1.78192365e-01 -1.66006985e-01 -1.53820536e-01 -1.41632534e-01\n",
      " -1.29442490e-01 -1.17249919e-01 -1.05054332e-01 -9.28552399e-02\n",
      " -8.06521526e-02 -6.84445791e-02 -5.62320266e-02 -4.40140013e-02\n",
      " -3.17900077e-02 -1.95595489e-02 -7.32212627e-03  4.92276070e-03\n",
      "  1.71756143e-02  2.94369390e-02  4.17072410e-02  5.39870292e-02\n",
      "  6.62768145e-02  7.85771104e-02  9.08884327e-02  1.03211300e-01\n",
      "  1.15546234e-01  1.27893759e-01  1.40254403e-01  1.52628695e-01\n",
      "  1.65017169e-01  1.77420363e-01  1.89838818e-01  2.02273077e-01\n",
      "  2.14723688e-01  2.27191204e-01  2.39676180e-01  2.52179176e-01\n",
      "  2.64700758e-01  2.77241493e-01  2.89801955e-01  3.02382722e-01\n",
      "  3.14984378e-01  3.27607510e-01  3.40252711e-01  3.52920581e-01\n",
      "  3.65611723e-01  3.78326747e-01  3.91066268e-01  4.03830909e-01\n",
      "  4.16621296e-01  4.29438063e-01  4.42281852e-01  4.55153310e-01\n",
      "  4.68053090e-01  4.80981854e-01  4.93940271e-01  5.06929016e-01\n",
      "  5.19948774e-01  5.33000235e-01  5.46084100e-01  5.59201076e-01\n",
      "  5.72351881e-01  5.85537239e-01  5.98757885e-01  6.12014563e-01\n",
      "  6.25308026e-01  6.38639036e-01  6.52008368e-01  6.65416804e-01\n",
      "  6.78865138e-01  6.92354176e-01  7.05884732e-01  7.19457635e-01\n",
      "  7.33073724e-01  7.46733850e-01  7.60438876e-01  7.74189679e-01\n",
      "  7.87987149e-01  8.01832188e-01  8.15725713e-01  8.29668656e-01\n",
      "  8.43661960e-01  8.57706587e-01  8.71803513e-01  8.85953729e-01\n",
      "  9.00158242e-01  9.14418077e-01  9.28734275e-01  9.43107896e-01\n",
      "  9.57540015e-01  9.72031730e-01  9.86584154e-01  1.00119842e+00\n",
      "  1.01587569e+00  1.03061713e+00  1.04542394e+00  1.06029734e+00\n",
      "  1.07523856e+00  1.09024888e+00  1.10532959e+00  1.12048198e+00\n",
      "  1.13570741e+00  1.15100723e+00  1.16638284e+00  1.18183566e+00\n",
      "  1.19736713e+00  1.21297872e+00  1.22867195e+00  1.24444834e+00\n",
      "  1.26030948e+00  1.27625695e+00  1.29229241e+00  1.30841751e+00\n",
      "  1.32463397e+00  1.34094352e+00  1.35734796e+00  1.37384910e+00\n",
      "  1.39044881e+00  1.40714899e+00  1.42395160e+00  1.44085862e+00\n",
      "  1.45787210e+00  1.47499412e+00  1.49222683e+00  1.50957241e+00\n",
      "  1.52703311e+00  1.54461123e+00  1.56230911e+00  1.58012918e+00\n",
      "  1.59807390e+00  1.61614582e+00  1.63434753e+00  1.65268170e+00\n",
      "  1.67115108e+00  1.68975848e+00  1.70850678e+00  1.72739896e+00\n",
      "  1.74643804e+00  1.76562717e+00  1.78496957e+00  1.80446853e+00\n",
      "  1.82412746e+00  1.84394986e+00  1.86393934e+00  1.88409958e+00\n",
      "  1.90443442e+00  1.92494778e+00  1.94564371e+00  1.96652638e+00\n",
      "  1.98760009e+00  2.00886928e+00  2.03033853e+00  2.05201255e+00\n",
      "  2.07389622e+00  2.09599457e+00  2.11831280e+00  2.14085630e+00\n",
      "  2.16363060e+00  2.18664146e+00  2.20989481e+00  2.23339682e+00\n",
      "  2.25715386e+00  2.28117251e+00  2.30545962e+00  2.33002229e+00\n",
      "  2.35486785e+00  2.38000395e+00  2.40543851e+00  2.43117976e+00\n",
      "  2.45723624e+00  2.48361686e+00  2.51033085e+00  2.53738786e+00\n",
      "  2.56479791e+00  2.59257144e+00  2.62071935e+00  2.64925300e+00\n",
      "  2.67818425e+00  2.70752550e+00  2.73728968e+00  2.76749035e+00\n",
      "  2.79814167e+00  2.82925849e+00  2.86085637e+00  2.89295162e+00\n",
      "  2.92556137e+00  2.95870360e+00  2.99239724e+00  3.02666218e+00\n",
      "  3.06151939e+00  3.09699096e+00  3.13310020e+00  3.16987174e+00\n",
      "  3.20733159e+00  3.24550732e+00  3.28442809e+00  3.32412487e+00\n",
      "  3.36463052e+00  3.40597999e+00  3.44821050e+00  3.49136168e+00\n",
      "  3.53547588e+00  3.58059834e+00  3.62677752e+00  3.67406536e+00\n",
      "  3.72251765e+00  3.77219445e+00  3.82316044e+00  3.87548553e+00\n",
      "  3.92924534e+00  3.98452188e+00  4.04140428e+00  4.09998968e+00\n",
      "  4.16038413e+00  4.22270379e+00  4.28707623e+00  4.35364197e+00\n",
      "  4.42255628e+00  4.49399135e+00  4.56813881e+00  4.64521277e+00\n",
      "  4.72545348e+00  4.80913178e+00  4.89655445e+00  4.98807095e+00\n",
      "  5.08408160e+00  5.18504803e+00  5.29150630e+00  5.40408376e+00\n",
      "  5.52352101e+00  5.65070083e+00  5.78668692e+00  5.93277682e+00\n",
      "  6.09057557e+00  6.26210073e+00  6.44993617e+00  6.65746431e+00\n",
      "  6.88922987e+00  7.15153454e+00  7.45346069e+00  7.80874619e+00\n",
      "  8.23948303e+00  8.78404123e+00  9.51485099e+00  1.05586313e+01\n",
      "  1.15113200e+01]\n"
     ]
    }
   ],
   "source": [
    "model, nodes_dist, prop_dist = get_model(args, device, dataset_info, train_dataloader)\n",
    "optim = get_optim(args, model)\n",
    "\n",
    "model = model.to(device)"
   ]
  },
  {
   "cell_type": "code",
   "execution_count": 356,
   "metadata": {},
   "outputs": [],
   "source": [
    "import wandb"
   ]
  },
  {
   "cell_type": "code",
   "execution_count": 372,
   "metadata": {},
   "outputs": [],
   "source": [
    "from src.train_test import train_epoch"
   ]
  },
  {
   "cell_type": "code",
   "execution_count": 357,
   "metadata": {},
   "outputs": [
    {
     "name": "stderr",
     "output_type": "stream",
     "text": [
      "\u001b[34m\u001b[1mwandb\u001b[0m: Using wandb-core as the SDK backend. Please refer to https://wandb.me/wandb-core for more information.\n",
      "\u001b[34m\u001b[1mwandb\u001b[0m: Currently logged in as: \u001b[33mjerhanwl\u001b[0m (\u001b[33mjerhanwl-national-university-of-singapore\u001b[0m). Use \u001b[1m`wandb login --relogin`\u001b[0m to force relogin\n"
     ]
    },
    {
     "data": {
      "text/html": [
       "Tracking run with wandb version 0.18.5"
      ],
      "text/plain": [
       "<IPython.core.display.HTML object>"
      ]
     },
     "metadata": {},
     "output_type": "display_data"
    },
    {
     "data": {
      "text/html": [
       "Run data is saved locally in <code>/Users/jeraldhan/Documents/NUS Computing/02 CS5284 - Graph Machine Learning/Project/protein-coordinates/notebooks/wandb/run-20241109_100351-opfcm8x4</code>"
      ],
      "text/plain": [
       "<IPython.core.display.HTML object>"
      ]
     },
     "metadata": {},
     "output_type": "display_data"
    },
    {
     "data": {
      "text/html": [
       "Syncing run <strong><a href='https://wandb.ai/jerhanwl-national-university-of-singapore/e3_diffusion/runs/opfcm8x4' target=\"_blank\">pdb_trial</a></strong> to <a href='https://wandb.ai/jerhanwl-national-university-of-singapore/e3_diffusion' target=\"_blank\">Weights & Biases</a> (<a href='https://wandb.me/run' target=\"_blank\">docs</a>)<br/>"
      ],
      "text/plain": [
       "<IPython.core.display.HTML object>"
      ]
     },
     "metadata": {},
     "output_type": "display_data"
    },
    {
     "data": {
      "text/html": [
       " View project at <a href='https://wandb.ai/jerhanwl-national-university-of-singapore/e3_diffusion' target=\"_blank\">https://wandb.ai/jerhanwl-national-university-of-singapore/e3_diffusion</a>"
      ],
      "text/plain": [
       "<IPython.core.display.HTML object>"
      ]
     },
     "metadata": {},
     "output_type": "display_data"
    },
    {
     "data": {
      "text/html": [
       " View run at <a href='https://wandb.ai/jerhanwl-national-university-of-singapore/e3_diffusion/runs/opfcm8x4' target=\"_blank\">https://wandb.ai/jerhanwl-national-university-of-singapore/e3_diffusion/runs/opfcm8x4</a>"
      ],
      "text/plain": [
       "<IPython.core.display.HTML object>"
      ]
     },
     "metadata": {},
     "output_type": "display_data"
    },
    {
     "data": {
      "text/html": [
       "<button onClick=\"this.nextSibling.style.display='block';this.style.display='none';\">Display W&B run</button><iframe src='https://wandb.ai/jerhanwl-national-university-of-singapore/e3_diffusion/runs/opfcm8x4?jupyter=true' style='border:none;width:100%;height:420px;display:none;'></iframe>"
      ],
      "text/plain": [
       "<wandb.sdk.wandb_run.Run at 0x15a861410>"
      ]
     },
     "execution_count": 357,
     "metadata": {},
     "output_type": "execute_result"
    }
   ],
   "source": [
    "if args.no_wandb:\n",
    "    mode = 'disabled'\n",
    "else:\n",
    "    mode = 'online' if args.online else 'offline'\n",
    "kwargs = {'entity': args.wandb_usr, 'name': args.exp_name, 'project': 'e3_diffusion', 'config': args,\n",
    "          'settings': wandb.Settings(_disable_stats=True), 'reinit': True, 'mode': mode}\n",
    "wandb.init(**kwargs)"
   ]
  },
  {
   "cell_type": "code",
   "execution_count": 399,
   "metadata": {},
   "outputs": [],
   "source": [
    "from src.model_utils import Queue"
   ]
  },
  {
   "cell_type": "code",
   "execution_count": 400,
   "metadata": {},
   "outputs": [],
   "source": [
    "gradnorm_queue = Queue()\n",
    "gradnorm_queue.add(3000)"
   ]
  },
  {
   "cell_type": "code",
   "execution_count": 408,
   "metadata": {},
   "outputs": [
    {
     "name": "stdout",
     "output_type": "stream",
     "text": [
      "torch.Size([4, 343])\n",
      "tensor([[13, 12, 20,  ...,  0,  0,  0],\n",
      "        [20, 14,  3,  ..., 20, 13, 19],\n",
      "        [18,  4, 17,  ...,  0,  0,  0],\n",
      "        [16,  1, 14,  ...,  0,  0,  0]], dtype=torch.int32)\n",
      "x torch.Size([4, 343, 3])\n",
      "h[categorical] torch.Size([4, 343, 26])\n",
      "h[integer] torch.Size([4, 343, 1])\n"
     ]
    },
    {
     "ename": "",
     "evalue": "",
     "output_type": "error",
     "traceback": [
      "\u001b[1;31mThe Kernel crashed while executing code in the current cell or a previous cell. \n",
      "\u001b[1;31mPlease review the code in the cell(s) to identify a possible cause of the failure. \n",
      "\u001b[1;31mClick <a href='https://aka.ms/vscodeJupyterKernelCrash'>here</a> for more info. \n",
      "\u001b[1;31mView Jupyter <a href='command:jupyter.viewOutput'>log</a> for further details."
     ]
    }
   ],
   "source": [
    "for epoch in range(1,2):\n",
    "    train_epoch(args=args, loader=train_dataloader, epoch=epoch, model=model, model_dp=model,\n",
    "                    model_ema=model, ema=None, device=device, dtype=torch.float32, property_norms=None,\n",
    "                    nodes_dist=nodes_dist, dataset_info=dataset_info,\n",
    "                    gradnorm_queue=gradnorm_queue, optim=optim, prop_dist=prop_dist)"
   ]
  },
  {
   "cell_type": "code",
   "execution_count": null,
   "metadata": {},
   "outputs": [],
   "source": []
  }
 ],
 "metadata": {
  "kernelspec": {
   "display_name": "gvp",
   "language": "python",
   "name": "python3"
  },
  "language_info": {
   "codemirror_mode": {
    "name": "ipython",
    "version": 3
   },
   "file_extension": ".py",
   "mimetype": "text/x-python",
   "name": "python",
   "nbconvert_exporter": "python",
   "pygments_lexer": "ipython3",
   "version": "3.11.10"
  }
 },
 "nbformat": 4,
 "nbformat_minor": 2
}
