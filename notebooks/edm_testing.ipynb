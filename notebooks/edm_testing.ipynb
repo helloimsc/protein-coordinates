{
  "cells": [
    {
      "cell_type": "code",
      "execution_count": null,
      "metadata": {
        "colab": {
          "base_uri": "https://localhost:8080/"
        },
        "id": "g51Ret2ED5J5",
        "outputId": "9d36a179-e526-4290-e8dc-54505309a416"
      },
      "outputs": [],
      "source": [
        "# from google.colab import drive\n",
        "# drive.mount('/content/drive')"
      ]
    },
    {
      "cell_type": "code",
      "execution_count": null,
      "metadata": {
        "colab": {
          "base_uri": "https://localhost:8080/"
        },
        "id": "Fu5IWGkCGONf",
        "outputId": "2bce21cc-2434-4364-9d2e-c6783ddbf16f"
      },
      "outputs": [],
      "source": [
        "# cd /content/drive/MyDrive/CS5284\\ Project/protein-coordinates/notebooks"
      ]
    },
    {
      "cell_type": "code",
      "execution_count": null,
      "metadata": {
        "colab": {
          "base_uri": "https://localhost:8080/"
        },
        "id": "-d2az6NjFKbU",
        "outputId": "db8a6fcb-205e-4ed5-dc53-0f60aef5752f"
      },
      "outputs": [],
      "source": [
        "# !pip install pytorch matplotlib pandas seaborn scikit-learn torchvision numpy scipy dgl imageio biopython ipykernel ipywidgets wandb"
      ]
    },
    {
      "cell_type": "code",
      "execution_count": null,
      "metadata": {
        "colab": {
          "base_uri": "https://localhost:8080/"
        },
        "id": "1NIhF7m8F-OX",
        "outputId": "c3ffc80e-c988-4a01-92c2-95604f883e3a"
      },
      "outputs": [],
      "source": [
        "# pip install biopython"
      ]
    },
    {
      "cell_type": "code",
      "execution_count": 4,
      "metadata": {
        "id": "tb-hgVxWGjJi"
      },
      "outputs": [],
      "source": [
        "import sys\n",
        "\n",
        "sys.path.append('../')"
      ]
    },
    {
      "cell_type": "code",
      "execution_count": 5,
      "metadata": {
        "id": "9IKBD7KjDxHF"
      },
      "outputs": [],
      "source": [
        "import numpy as np\n",
        "import pandas as pd\n",
        "import matplotlib.pyplot as plt\n",
        "from Bio.PDB import PDBList, PDBParser\n",
        "import os\n",
        "import torch\n",
        "import torch.nn as nn\n",
        "from data_read import *\n",
        "from tqdm import tqdm\n",
        "import warnings\n",
        "from torch.utils.data import DataLoader\n",
        "%load_ext autoreload\n",
        "%autoreload 2\n",
        "warnings.filterwarnings('ignore')"
      ]
    },
    {
      "cell_type": "markdown",
      "metadata": {
        "id": "RVVuE8-ADxHH"
      },
      "source": [
        "### Data Retrieval"
      ]
    },
    {
      "cell_type": "code",
      "execution_count": 6,
      "metadata": {
        "id": "QyxvHee-DxHH"
      },
      "outputs": [],
      "source": [
        "def download_pdb_files(sample_size=100):\n",
        "    \"\"\"\n",
        "    Retrieves all PDB IDs available in the PDB.\n",
        "\n",
        "    Returns:\n",
        "        list: List of all PDB IDs.\n",
        "    \"\"\"\n",
        "    np.random.seed(42)\n",
        "    pdbl = PDBList()\n",
        "    pdb_ids = pdbl.get_all_entries()\n",
        "    sampled_pdb_ids = np.random.choice(pdb_ids, sample_size, replace=False)\n",
        "    for pdb_id in sampled_pdb_ids:\n",
        "        pdbl.retrieve_pdb_file(pdb_id, pdir='pdb_files', file_format='pdb')\n",
        "    print(f\"Downloaded {len(sampled_pdb_ids)} PDB files.\")\n",
        "    return pdb_ids\n",
        "\n",
        "# download_pdb_files(sample_size=100)"
      ]
    },
    {
      "cell_type": "code",
      "execution_count": 7,
      "metadata": {
        "id": "BLs7toDzDxHI"
      },
      "outputs": [],
      "source": [
        "# import shutil\n",
        "# from sklearn.model_selection import train_test_split\n",
        "\n",
        "# # Define the paths\n",
        "# data_path = '../data/pdb_files/'\n",
        "# train_path = os.path.join(data_path, 'train')\n",
        "# test_path = os.path.join(data_path, 'test')\n",
        "\n",
        "# # Create train and test directories if they don't exist\n",
        "# os.makedirs(train_path, exist_ok=True)\n",
        "# os.makedirs(test_path, exist_ok=True)\n",
        "\n",
        "# # Get list of all files in the data_path\n",
        "# all_files = [f for f in os.listdir(data_path) if os.path.isfile(os.path.join(data_path, f))]\n",
        "\n",
        "# # Split the files into train and test sets\n",
        "# train_files, test_files = train_test_split(all_files, test_size=0.2, random_state=42)\n",
        "\n",
        "# # Move the files to the respective directories\n",
        "# for file in train_files:\n",
        "#     shutil.move(os.path.join(data_path, file), os.path.join(train_path, file))\n",
        "\n",
        "# for file in test_files:\n",
        "#     shutil.move(os.path.join(data_path, file), os.path.join(test_path, file))\n",
        "\n",
        "# print(f\"Moved {len(train_files)} files to {train_path}\")\n",
        "# print(f\"Moved {len(test_files)} files to {test_path}\")"
      ]
    },
    {
      "cell_type": "markdown",
      "metadata": {
        "id": "XIXNpZH9DxHI"
      },
      "source": [
        "### Testing of Datasets and DataLoaders"
      ]
    },
    {
      "cell_type": "code",
      "execution_count": 8,
      "metadata": {
        "id": "x2Qn9oidDxHI"
      },
      "outputs": [],
      "source": [
        "from src.dataset.datasets import *\n",
        "from src.dataset.transforms import *\n",
        "from torchvision import transforms"
      ]
    },
    {
      "cell_type": "code",
      "execution_count": 9,
      "metadata": {
        "id": "aPSRp55QDxHI"
      },
      "outputs": [],
      "source": [
        "# pdb_transforms = transforms.Compose([NormalizeCoordinates(), PadDatasetTransform(1000)])"
      ]
    },
    {
      "cell_type": "code",
      "execution_count": 47,
      "metadata": {
        "colab": {
          "base_uri": "https://localhost:8080/"
        },
        "id": "wMreAg8RDxHI",
        "outputId": "296f8344-803b-4de2-c39a-5ce1aaf71824"
      },
      "outputs": [
        {
          "name": "stderr",
          "output_type": "stream",
          "text": [
            "100%|██████████| 77/77 [00:04<00:00, 15.93it/s]\n",
            "100%|██████████| 20/20 [00:00<00:00, 21.88it/s]\n"
          ]
        }
      ],
      "source": [
        "train_data_path = '../data/pdb_files/train'\n",
        "test_data_path = '../data/pdb_files/test'\n",
        "train_dataset = PDBDataset(train_data_path)\n",
        "if len(train_dataset)%2 != 0:\n",
        "    train_dataset = train_dataset[:-1]\n",
        "test_dataset = PDBDataset(test_data_path)"
      ]
    },
    {
      "cell_type": "markdown",
      "metadata": {
        "id": "9UTIxkrzDxHI"
      },
      "source": [
        "### Data Statistics"
      ]
    },
    {
      "cell_type": "code",
      "execution_count": 48,
      "metadata": {
        "colab": {
          "base_uri": "https://localhost:8080/"
        },
        "id": "7EusCes0DxHJ",
        "outputId": "24243668-18f0-429d-95a9-db4c1f4d551e"
      },
      "outputs": [
        {
          "name": "stdout",
          "output_type": "stream",
          "text": [
            "i_seq count dictionary: {1: 1314, 2: 268, 3: 1036, 4: 1017, 5: 695, 6: 1241, 7: 359, 8: 1058, 9: 1029, 10: 1534, 11: 328, 12: 744, 13: 808, 14: 623, 15: 791, 16: 981, 17: 1031, 18: 1244, 19: 207, 20: 603}\n",
            "Maximum number of nodes in a sample: 773\n",
            "Node count dictionary: {364: 1, 452: 1, 114: 2, 152: 1, 294: 1, 16: 1, 119: 1, 207: 1, 113: 1, 88: 1, 124: 1, 303: 1, 78: 3, 121: 1, 306: 1, 296: 2, 183: 1, 321: 1, 319: 1, 396: 1, 62: 1, 74: 1, 368: 1, 391: 1, 107: 1, 153: 1, 400: 1, 369: 1, 394: 1, 224: 1, 58: 2, 130: 1, 309: 1, 297: 1, 73: 1, 128: 1, 216: 1, 330: 1, 215: 1, 338: 1, 438: 1, 198: 1, 553: 1, 325: 1, 268: 1, 410: 1, 284: 1, 175: 1, 277: 1, 127: 1, 354: 1, 168: 1, 12: 1, 607: 1, 63: 1, 773: 1, 300: 1, 169: 1, 254: 1, 527: 1, 305: 1, 343: 1, 355: 1}\n"
          ]
        }
      ],
      "source": [
        "from collections import defaultdict\n",
        "\n",
        "# Initialize a dictionary to store the count of samples with each number of nodes\n",
        "node_count_dict = defaultdict(int)\n",
        "\n",
        "# Enumerate through the train_dataset and count the number of nodes in each sample\n",
        "max_nodes = 0\n",
        "for sample in train_dataset:\n",
        "    num_nodes = sample['positions'].shape[0]\n",
        "    node_count_dict[num_nodes] += 1\n",
        "    if num_nodes > max_nodes:\n",
        "        max_nodes = num_nodes\n",
        "\n",
        "# Initialize a dictionary to store the count of occurrences for each unique value in [\"i_seq\"]\n",
        "i_seq_count_dict = defaultdict(int)\n",
        "\n",
        "# Enumerate through the train_dataset and count the occurrences of each unique value in [\"i_seq\"]\n",
        "for sample in train_dataset:\n",
        "    for i_seq_value in sample['i_seq']:\n",
        "        if i_seq_value != 0:\n",
        "            i_seq_count_dict[i_seq_value.item()] += 1\n",
        "\n",
        "# Sort the keys of i_seq_count_dict\n",
        "i_seq_count_dict = dict(sorted(i_seq_count_dict.items()))\n",
        "\n",
        "print(\"i_seq count dictionary:\", dict(i_seq_count_dict))\n",
        "\n",
        "print(f\"Maximum number of nodes in a sample: {max_nodes}\")\n",
        "print(\"Node count dictionary:\", dict(node_count_dict))"
      ]
    },
    {
      "cell_type": "code",
      "execution_count": 49,
      "metadata": {},
      "outputs": [],
      "source": [
        "# Augment Node Dict\n",
        "node_count_dict_augmented = dict()\n",
        "for i in range(1, max_nodes+1):\n",
        "    if i in node_count_dict:\n",
        "        node_count_dict_augmented[i] = node_count_dict[i]\n",
        "    else:\n",
        "        node_count_dict_augmented[i] = 0.1"
      ]
    },
    {
      "cell_type": "code",
      "execution_count": 50,
      "metadata": {
        "id": "dq2-QueFDxHJ"
      },
      "outputs": [],
      "source": [
        "# Get dataset info required to generate node distribution\n",
        "aa_rep = \"ACDEFGHIKLMNPQRSTVWYBXZJUO\"\n",
        "aa_to_int = {c: i for i, c in enumerate(aa_rep)}\n",
        "\n",
        "dataset_info = {\n",
        "    'name': 'pdb',\n",
        "    'max_n_nodes': max_nodes,\n",
        "    'n_nodes': node_count_dict_augmented,\n",
        "    'atom_types': i_seq_count_dict,\n",
        "    'atom_encoder': aa_to_int,\n",
        "    'atom_decoder': [i for i in aa_rep],\n",
        "    'colors_dic': ['C'+str(i) for i in range(len(aa_rep))],\n",
        "    'radius_dic': [0.3]*len(aa_rep)\n",
        "}"
      ]
    },
    {
      "cell_type": "code",
      "execution_count": 52,
      "metadata": {
        "id": "_VBfshKPDxHJ"
      },
      "outputs": [],
      "source": [
        "from src.dataset.collate import PreprocessPDB\n",
        "\n",
        "train_dataloader = DataLoader(train_dataset, batch_size=4, shuffle=True, collate_fn=PreprocessPDB().collate_fn)\n",
        "test_dataloader = DataLoader(test_dataset, batch_size=4, shuffle=False, collate_fn=PreprocessPDB().collate_fn)"
      ]
    },
    {
      "cell_type": "markdown",
      "metadata": {
        "id": "vB5WuEdUDxHJ"
      },
      "source": [
        "### Models"
      ]
    },
    {
      "cell_type": "code",
      "execution_count": 53,
      "metadata": {
        "id": "YkGscrN4DxHJ"
      },
      "outputs": [],
      "source": [
        "import yaml\n",
        "\n",
        "# Read the jer_config.yml file\n",
        "with open('../edm_config.yml', 'r') as file:\n",
        "    config = yaml.safe_load(file)\n",
        "\n",
        "class Config:\n",
        "    def __init__(self, config_dict):\n",
        "        for key, value in config_dict.items():\n",
        "            if isinstance(value, str):\n",
        "                try:\n",
        "                    # Try to convert strings to their appropriate types\n",
        "                    value = eval(value)\n",
        "                except:\n",
        "                    pass\n",
        "            setattr(self, key, value)\n",
        "\n",
        "args = Config(config)"
      ]
    },
    {
      "cell_type": "code",
      "execution_count": 54,
      "metadata": {
        "id": "QOualQP3DxHJ"
      },
      "outputs": [],
      "source": [
        "from src.models.prepare_models import *"
      ]
    },
    {
      "cell_type": "code",
      "execution_count": 55,
      "metadata": {
        "id": "qFbgotIjDxHJ"
      },
      "outputs": [],
      "source": [
        "if torch.cuda.is_available():\n",
        "    device = torch.device(\"cuda\")\n",
        "elif torch.backends.mps.is_available():\n",
        "    device = torch.device(\"mps\")\n",
        "else:\n",
        "    device = torch.device(\"cpu\")"
      ]
    },
    {
      "cell_type": "code",
      "execution_count": 56,
      "metadata": {
        "colab": {
          "base_uri": "https://localhost:8080/"
        },
        "id": "OyclYtPlDxHJ",
        "outputId": "3438360a-b615-44e7-ffcd-e6b5dfe9b8e1"
      },
      "outputs": [
        {
          "name": "stdout",
          "output_type": "stream",
          "text": [
            "Entropy of n_nodes: H[N] -6.056983947753906\n",
            "alphas2 [9.99990000e-01 9.99940002e-01 9.99790014e-01 9.99540060e-01\n",
            " 9.99190176e-01 9.98740416e-01 9.98190846e-01 9.97541550e-01\n",
            " 9.96792624e-01 9.95944182e-01 9.94996350e-01 9.93949271e-01\n",
            " 9.92803104e-01 9.91558019e-01 9.90214206e-01 9.88771865e-01\n",
            " 9.87231215e-01 9.85592489e-01 9.83855933e-01 9.82021810e-01\n",
            " 9.80090398e-01 9.78061989e-01 9.75936891e-01 9.73715426e-01\n",
            " 9.71397932e-01 9.68984761e-01 9.66476280e-01 9.63872873e-01\n",
            " 9.61174936e-01 9.58382883e-01 9.55497140e-01 9.52518150e-01\n",
            " 9.49446371e-01 9.46282275e-01 9.43026349e-01 9.39679097e-01\n",
            " 9.36241035e-01 9.32712696e-01 9.29094628e-01 9.25387393e-01\n",
            " 9.21591568e-01 9.17707746e-01 9.13736535e-01 9.09678557e-01\n",
            " 9.05534449e-01 9.01304864e-01 8.96990470e-01 8.92591949e-01\n",
            " 8.88109998e-01 8.83545330e-01 8.78898672e-01 8.74170767e-01\n",
            " 8.69362373e-01 8.64474261e-01 8.59507220e-01 8.54462051e-01\n",
            " 8.49339573e-01 8.44140618e-01 8.38866033e-01 8.33516680e-01\n",
            " 8.28093438e-01 8.22597199e-01 8.17028869e-01 8.11389373e-01\n",
            " 8.05679646e-01 7.99900642e-01 7.94053329e-01 7.88138688e-01\n",
            " 7.82157717e-01 7.76111428e-01 7.70000850e-01 7.63827024e-01\n",
            " 7.57591008e-01 7.51293875e-01 7.44936711e-01 7.38520620e-01\n",
            " 7.32046719e-01 7.25516140e-01 7.18930031e-01 7.12289555e-01\n",
            " 7.05595888e-01 6.98850224e-01 6.92053769e-01 6.85207746e-01\n",
            " 6.78313394e-01 6.71371963e-01 6.64384722e-01 6.57352954e-01\n",
            " 6.50277954e-01 6.43161037e-01 6.36003530e-01 6.28806774e-01\n",
            " 6.21572129e-01 6.14300965e-01 6.06994670e-01 5.99654647e-01\n",
            " 5.92282314e-01 5.84879103e-01 5.77446461e-01 5.69985851e-01\n",
            " 5.62498750e-01 5.54986651e-01 5.47451061e-01 5.39893503e-01\n",
            " 5.32315514e-01 5.24718646e-01 5.17104468e-01 5.09474561e-01\n",
            " 5.01830523e-01 4.94173967e-01 4.86506520e-01 4.78829824e-01\n",
            " 4.71145537e-01 4.63455332e-01 4.55760895e-01 4.48063929e-01\n",
            " 4.40366153e-01 4.32669297e-01 4.24975111e-01 4.17285355e-01\n",
            " 4.09601808e-01 4.01926262e-01 3.94260525e-01 3.86606419e-01\n",
            " 3.78965781e-01 3.71340464e-01 3.63732335e-01 3.56143278e-01\n",
            " 3.48575189e-01 3.41029980e-01 3.33509580e-01 3.26015930e-01\n",
            " 3.18550989e-01 3.11116728e-01 3.03715136e-01 2.96348214e-01\n",
            " 2.89017980e-01 2.81726466e-01 2.74475721e-01 2.67267805e-01\n",
            " 2.60104798e-01 2.52988791e-01 2.45921892e-01 2.38906223e-01\n",
            " 2.31943921e-01 2.25037140e-01 2.18188046e-01 2.11398823e-01\n",
            " 2.04671667e-01 1.98008791e-01 1.91412422e-01 1.84884803e-01\n",
            " 1.78428192e-01 1.72044860e-01 1.65737095e-01 1.59507201e-01\n",
            " 1.53357493e-01 1.47290305e-01 1.41307984e-01 1.35412893e-01\n",
            " 1.29607408e-01 1.23893923e-01 1.18274845e-01 1.12752596e-01\n",
            " 1.07329614e-01 1.02008351e-01 9.67912743e-02 9.16808672e-02\n",
            " 8.66796266e-02 8.17900650e-02 7.70147099e-02 7.23561037e-02\n",
            " 6.78168038e-02 6.33993828e-02 5.91064280e-02 5.49405420e-02\n",
            " 5.09043421e-02 4.70004608e-02 4.32315456e-02 3.96002588e-02\n",
            " 3.61092780e-02 3.27612956e-02 2.95590190e-02 2.65051707e-02\n",
            " 2.36024881e-02 2.08537237e-02 1.82616450e-02 1.58290342e-02\n",
            " 1.35586890e-02 1.14534218e-02 9.51605988e-03 7.74944583e-03\n",
            " 6.15643707e-03 4.73990602e-03 3.50274014e-03 2.44784187e-03\n",
            " 1.57812864e-03 8.96532894e-04 4.06002080e-04 1.09498635e-04\n",
            " 1.00994986e-05]\n",
            "gamma [-1.15129155e+01 -9.72113308e+00 -8.46825969e+00 -7.68395365e+00\n",
            " -7.11788346e+00 -6.67571309e+00 -6.31308514e+00 -6.00576257e+00\n",
            " -5.73908957e+00 -5.50353871e+00 -5.29257140e+00 -5.10150748e+00\n",
            " -4.92688250e+00 -4.76606050e+00 -4.61698950e+00 -4.47804095e+00\n",
            " -4.34790077e+00 -4.22549327e+00 -4.10992684e+00 -4.00045416e+00\n",
            " -3.89644268e+00 -3.79735227e+00 -3.70271801e+00 -3.61213687e+00\n",
            " -3.52525717e+00 -3.44177021e+00 -3.36140352e+00 -3.28391539e+00\n",
            " -3.20909042e+00 -3.13673581e+00 -3.06667831e+00 -2.99876163e+00\n",
            " -2.93284431e+00 -2.86879789e+00 -2.80650533e+00 -2.74585973e+00\n",
            " -2.68676316e+00 -2.62912565e+00 -2.57286439e+00 -2.51790296e+00\n",
            " -2.46417067e+00 -2.41160200e+00 -2.36013612e+00 -2.30971641e+00\n",
            " -2.26029009e+00 -2.21180790e+00 -2.16422373e+00 -2.11749439e+00\n",
            " -2.07157934e+00 -2.02644049e+00 -1.98204200e+00 -1.93835005e+00\n",
            " -1.89533275e+00 -1.85295995e+00 -1.81120312e+00 -1.77003522e+00\n",
            " -1.72943060e+00 -1.68936488e+00 -1.64981490e+00 -1.61075859e+00\n",
            " -1.57217491e+00 -1.53404379e+00 -1.49634605e+00 -1.45906334e+00\n",
            " -1.42217810e+00 -1.38567349e+00 -1.34953337e+00 -1.31374220e+00\n",
            " -1.27828507e+00 -1.24314762e+00 -1.20831600e+00 -1.17377687e+00\n",
            " -1.13951732e+00 -1.10552491e+00 -1.07178756e+00 -1.03829360e+00\n",
            " -1.00503169e+00 -9.71990858e-01 -9.39160402e-01 -9.06529931e-01\n",
            " -8.74089323e-01 -8.41828710e-01 -8.09738460e-01 -7.77809163e-01\n",
            " -7.46031614e-01 -7.14396801e-01 -6.82895885e-01 -6.51520196e-01\n",
            " -6.20261210e-01 -5.89110545e-01 -5.58059943e-01 -5.27101264e-01\n",
            " -4.96226469e-01 -4.65427614e-01 -4.34696836e-01 -4.04026346e-01\n",
            " -3.73408415e-01 -3.42835368e-01 -3.12299572e-01 -2.81793424e-01\n",
            " -2.51309349e-01 -2.20839781e-01 -1.90377161e-01 -1.59913924e-01\n",
            " -1.29442490e-01 -9.89552546e-02 -6.84445791e-02 -3.79027815e-02\n",
            " -7.32212627e-03  2.33051862e-02  5.39870292e-02  8.47313609e-02\n",
            "  1.15546234e-01  1.46439809e-01  1.77420363e-01  2.08496304e-01\n",
            "  2.39676180e-01  2.70968695e-01  3.02382722e-01  3.33927315e-01\n",
            "  3.65611723e-01  3.97445410e-01  4.29438063e-01  4.61599619e-01\n",
            "  4.93940271e-01  5.26470498e-01  5.59201076e-01  5.92143105e-01\n",
            "  6.25308026e-01  6.58707649e-01  6.92354176e-01  7.26260229e-01\n",
            "  7.60438876e-01  7.94903665e-01  8.29668656e-01  8.64748451e-01\n",
            "  9.00158242e-01  9.35913841e-01  9.72031730e-01  1.00852911e+00\n",
            "  1.04542394e+00  1.08273501e+00  1.12048198e+00  1.15868548e+00\n",
            "  1.19736713e+00  1.23654965e+00  1.27625695e+00  1.31651421e+00\n",
            "  1.35734796e+00  1.39878622e+00  1.44085862e+00  1.48359650e+00\n",
            "  1.52703311e+00  1.57120372e+00  1.61614582e+00  1.66189932e+00\n",
            "  1.70850678e+00  1.75601365e+00  1.80446853e+00  1.85392349e+00\n",
            "  1.90443442e+00  1.95606144e+00  2.00886928e+00  2.06292787e+00\n",
            "  2.11831280e+00  2.17510609e+00  2.23339682e+00  2.29328207e+00\n",
            "  2.35486785e+00  2.41827027e+00  2.48361686e+00  2.55104811e+00\n",
            "  2.62071935e+00  2.69280283e+00  2.76749035e+00  2.84499630e+00\n",
            "  2.92556137e+00  3.00945701e+00  3.09699096e+00  3.18851394e+00\n",
            "  3.28442809e+00  3.38519751e+00  3.49136168e+00  3.60355268e+00\n",
            "  3.72251765e+00  3.84914852e+00  3.98452188e+00  4.12995376e+00\n",
            "  4.28707623e+00  4.45794723e+00  4.64521277e+00  4.85235431e+00\n",
            "  5.08408160e+00  5.34698679e+00  5.65070083e+00  6.01009767e+00\n",
            "  6.44993617e+00  7.01607864e+00  7.80874619e+00  9.11948897e+00\n",
            "  1.15030147e+01]\n"
          ]
        }
      ],
      "source": [
        "model, nodes_dist, prop_dist = get_model(args, device, dataset_info, train_dataloader)\n",
        "optim = get_optim(args, model)\n",
        "\n",
        "model = model.to(device)"
      ]
    },
    {
      "cell_type": "code",
      "execution_count": 57,
      "metadata": {
        "id": "yN4yBAeiDxHK"
      },
      "outputs": [],
      "source": [
        "import wandb"
      ]
    },
    {
      "cell_type": "code",
      "execution_count": 58,
      "metadata": {
        "id": "tevrXiRUDxHK"
      },
      "outputs": [],
      "source": [
        "from src.train_test import train_epoch, test"
      ]
    },
    {
      "cell_type": "code",
      "execution_count": 59,
      "metadata": {
        "colab": {
          "base_uri": "https://localhost:8080/",
          "height": 38
        },
        "id": "6jUk95ruDxHK",
        "outputId": "297088d9-f0b4-4301-a18f-7ba66551a524"
      },
      "outputs": [
        {
          "data": {
            "text/html": [
              "<button onClick=\"this.nextSibling.style.display='block';this.style.display='none';\">Display W&B run</button><iframe src='?jupyter=true' style='border:none;width:100%;height:420px;display:none;'></iframe>"
            ],
            "text/plain": [
              "<wandb.sdk.wandb_run.Run at 0x4de544f90>"
            ]
          },
          "execution_count": 59,
          "metadata": {},
          "output_type": "execute_result"
        }
      ],
      "source": [
        "if args.no_wandb:\n",
        "    mode = 'disabled'\n",
        "else:\n",
        "    mode = 'online' if args.online else 'offline'\n",
        "    kwargs = {'entity': args.wandb_usr, 'name': args.exp_name, 'project': 'e3_diffusion', 'config': args, 'reinit': True, 'mode': 'disabled'}\n",
        "wandb.init(**kwargs)"
      ]
    },
    {
      "cell_type": "code",
      "execution_count": 60,
      "metadata": {
        "id": "fkqjlJn6DxHK"
      },
      "outputs": [],
      "source": [
        "from src.model_utils import Queue"
      ]
    },
    {
      "cell_type": "code",
      "execution_count": 61,
      "metadata": {
        "id": "zmQFHlVJDxHK"
      },
      "outputs": [],
      "source": [
        "gradnorm_queue = Queue()\n",
        "gradnorm_queue.add(3000)"
      ]
    },
    {
      "cell_type": "code",
      "execution_count": 62,
      "metadata": {
        "id": "_e8Ou7wIaoMC"
      },
      "outputs": [],
      "source": [
        "# prompt: Get the size of object 'model'\n",
        "\n",
        "# print(f\"Size of model: {sum(p.numel() for p in model.parameters() if p.requires_grad)}\")\n",
        "\n",
        "# print(f\"Allocated memory: {torch.cuda.memory_allocated()} bytes\")\n",
        "# print(f\"Reserved memory: {torch.cuda.memory_reserved()} bytes\")\n",
        "# print(f\"Max memory: {torch.cuda.max_memory_allocated()} bytes\")"
      ]
    },
    {
      "cell_type": "code",
      "execution_count": 63,
      "metadata": {
        "colab": {
          "base_uri": "https://localhost:8080/",
          "height": 1000
        },
        "id": "oUztWFxKDxHK",
        "outputId": "83edfe35-380f-42bb-e601-8181f9fe0b81"
      },
      "outputs": [
        {
          "name": "stdout",
          "output_type": "stream",
          "text": [
            "Clipped gradient with value 41344220.0 while allowed 4500.0\n",
            "Epoch: 0, iter: 0/17, Loss 63891.36, NLL: 63891.36, RegTerm: 0.0, GradNorm: 41344220.0\n",
            "Clipped gradient with value 1782382208.0 while allowed 7125.0\n",
            "Epoch: 0, iter: 1/17, Loss 10632.24, NLL: 10632.24, RegTerm: 0.0, GradNorm: 1782382208.0\n",
            "Clipped gradient with value 4025837.8 while allowed 10722.0\n",
            "Epoch: 0, iter: 2/17, Loss 24154.44, NLL: 24154.44, RegTerm: 0.0, GradNorm: 4025837.8\n",
            "Clipped gradient with value 97273464.0 while allowed 15366.9\n",
            "Epoch: 0, iter: 3/17, Loss 115038.95, NLL: 115038.95, RegTerm: 0.0, GradNorm: 97273464.0\n",
            "Clipped gradient with value 34886156.0 while allowed 21140.3\n",
            "Epoch: 0, iter: 4/17, Loss 92726.78, NLL: 92726.78, RegTerm: 0.0, GradNorm: 34886156.0\n",
            "Clipped gradient with value 2463364608.0 while allowed 28122.5\n",
            "Epoch: 0, iter: 5/17, Loss 138191.89, NLL: 138191.89, RegTerm: 0.0, GradNorm: 2463364608.0\n",
            "Clipped gradient with value 228634560.0 while allowed 36391.4\n",
            "Epoch: 0, iter: 6/17, Loss 17873.92, NLL: 17873.92, RegTerm: 0.0, GradNorm: 228634560.0\n",
            "Clipped gradient with value 57673888.0 while allowed 46022.6\n",
            "Epoch: 0, iter: 7/17, Loss 17367.76, NLL: 17367.76, RegTerm: 0.0, GradNorm: 57673888.0\n",
            "Clipped gradient with value 25308182.0 while allowed 57088.7\n",
            "Epoch: 0, iter: 8/17, Loss 104896.88, NLL: 104896.88, RegTerm: 0.0, GradNorm: 25308182.0\n",
            "Clipped gradient with value 29012840.0 while allowed 69660.3\n",
            "Epoch: 0, iter: 9/17, Loss 2688.74, NLL: 2688.74, RegTerm: 0.0, GradNorm: 29012840.0\n",
            "Clipped gradient with value 187707904.0 while allowed 83805.6\n",
            "Epoch: 0, iter: 10/17, Loss 103956.80, NLL: 103956.80, RegTerm: 0.0, GradNorm: 187707904.0\n",
            "Clipped gradient with value 162383136.0 while allowed 99591.1\n",
            "Epoch: 0, iter: 11/17, Loss 19292.97, NLL: 19292.97, RegTerm: 0.0, GradNorm: 162383136.0\n",
            "Clipped gradient with value 224946.5 while allowed 117081.0\n",
            "Epoch: 0, iter: 12/17, Loss 36.97, NLL: 36.97, RegTerm: 0.0, GradNorm: 224946.5\n",
            "Clipped gradient with value 149357728.0 while allowed 136338.3\n",
            "Epoch: 0, iter: 13/17, Loss 2956.76, NLL: 2956.76, RegTerm: 0.0, GradNorm: 149357728.0\n",
            "Clipped gradient with value 134962688.0 while allowed 157424.2\n",
            "Epoch: 0, iter: 14/17, Loss 3608.82, NLL: 3608.82, RegTerm: 0.0, GradNorm: 134962688.0\n",
            "Clipped gradient with value 839476.1 while allowed 180398.4\n",
            "Epoch: 0, iter: 15/17, Loss 145.74, NLL: 145.74, RegTerm: 0.0, GradNorm: 839476.1\n",
            "Clipped gradient with value 361894976.0 while allowed 205319.3\n",
            "Epoch: 0, iter: 16/17, Loss 32856.56, NLL: 32856.56, RegTerm: 0.0, GradNorm: 361894976.0\n",
            " Test NLL \t epoch: 0, iter: 0/4, NLL: 17175128064.00\n",
            " Test NLL \t epoch: 0, iter: 1/4, NLL: 9071406976.00\n",
            " Test NLL \t epoch: 0, iter: 2/4, NLL: 15947187456.00\n",
            " Test NLL \t epoch: 0, iter: 3/4, NLL: 13417678656.00\n",
            "Clipped gradient with value 147425936.0 while allowed 232244.3\n",
            "Epoch: 1, iter: 0/17, Loss 9667.62, NLL: 9667.62, RegTerm: 0.0, GradNorm: 147425936.0\n",
            "Clipped gradient with value 605276992.0 while allowed 261229.4\n",
            "Epoch: 1, iter: 1/17, Loss 14858.16, NLL: 14858.16, RegTerm: 0.0, GradNorm: 605276992.0\n",
            "Clipped gradient with value 145554864.0 while allowed 292329.6\n",
            "Epoch: 1, iter: 2/17, Loss 42319.88, NLL: 42319.88, RegTerm: 0.0, GradNorm: 145554864.0\n",
            "Clipped gradient with value 429566.8 while allowed 325598.7\n",
            "Epoch: 1, iter: 3/17, Loss 40.10, NLL: 40.10, RegTerm: 0.0, GradNorm: 429566.8\n",
            "Clipped gradient with value 741430.0 while allowed 361089.9\n",
            "Epoch: 1, iter: 4/17, Loss 15.49, NLL: 15.49, RegTerm: 0.0, GradNorm: 741430.0\n",
            "Clipped gradient with value 38143132.0 while allowed 398855.2\n",
            "Epoch: 1, iter: 5/17, Loss 2324.34, NLL: 2324.34, RegTerm: 0.0, GradNorm: 38143132.0\n",
            "Clipped gradient with value 66046096.0 while allowed 438946.0\n",
            "Epoch: 1, iter: 6/17, Loss 29989.60, NLL: 29989.60, RegTerm: 0.0, GradNorm: 66046096.0\n"
          ]
        },
        {
          "ename": "",
          "evalue": "",
          "output_type": "error",
          "traceback": [
            "\u001b[1;31mThe Kernel crashed while executing code in the current cell or a previous cell. \n",
            "\u001b[1;31mPlease review the code in the cell(s) to identify a possible cause of the failure. \n",
            "\u001b[1;31mClick <a href='https://aka.ms/vscodeJupyterKernelCrash'>here</a> for more info. \n",
            "\u001b[1;31mView Jupyter <a href='command:jupyter.viewOutput'>log</a> for further details."
          ]
        }
      ],
      "source": [
        "train_loss = {}\n",
        "test_loss = {}\n",
        "for epoch in range(args.n_epochs):\n",
        "    nll_train = train_epoch(args=args, loader=train_dataloader, epoch=epoch, model=model, model_dp=model,\n",
        "                    model_ema=model, ema=None, device=device, dtype=torch.float32, property_norms=None,\n",
        "                    nodes_dist=nodes_dist, dataset_info=dataset_info,\n",
        "                    gradnorm_queue=gradnorm_queue, optim=optim, prop_dist=prop_dist)\n",
        "    train_loss[epoch] = nll_train\n",
        "    if epoch % args.test_epochs == 0:\n",
        "        nll_test = test(args=args, loader=test_dataloader, epoch=epoch, eval_model=model,\n",
        "                        partition='Test', device=device, dtype=torch.float32,\n",
        "                        nodes_dist=nodes_dist, property_norms=None)\n",
        "        test_loss[epoch] = nll_test"
      ]
    },
    {
      "cell_type": "markdown",
      "metadata": {
        "id": "ry6pDAnKZYJl"
      },
      "source": []
    },
    {
      "cell_type": "markdown",
      "metadata": {},
      "source": []
    }
  ],
  "metadata": {
    "colab": {
      "collapsed_sections": [
        "RVVuE8-ADxHH"
      ],
      "provenance": []
    },
    "kernelspec": {
      "display_name": "Python 3",
      "name": "python3"
    },
    "language_info": {
      "codemirror_mode": {
        "name": "ipython",
        "version": 3
      },
      "file_extension": ".py",
      "mimetype": "text/x-python",
      "name": "python",
      "nbconvert_exporter": "python",
      "pygments_lexer": "ipython3",
      "version": "3.11.10"
    }
  },
  "nbformat": 4,
  "nbformat_minor": 0
}
