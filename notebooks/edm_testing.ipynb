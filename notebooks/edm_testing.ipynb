{
  "cells": [
    {
      "cell_type": "code",
      "execution_count": 1,
      "metadata": {
        "colab": {
          "base_uri": "https://localhost:8080/"
        },
        "id": "g51Ret2ED5J5",
        "outputId": "9d36a179-e526-4290-e8dc-54505309a416"
      },
      "outputs": [
        {
          "name": "stdout",
          "output_type": "stream",
          "text": [
            "Mounted at /content/drive\n"
          ]
        }
      ],
      "source": [
        "# from google.colab import drive\n",
        "# drive.mount('/content/drive')"
      ]
    },
    {
      "cell_type": "code",
      "execution_count": 1,
      "metadata": {
        "colab": {
          "base_uri": "https://localhost:8080/"
        },
        "id": "Fu5IWGkCGONf",
        "outputId": "2bce21cc-2434-4364-9d2e-c6783ddbf16f"
      },
      "outputs": [
        {
          "name": "stdout",
          "output_type": "stream",
          "text": [
            "/content/drive/MyDrive/CS5284 Project/protein-coordinates/notebooks\n"
          ]
        }
      ],
      "source": [
        "# cd /content/drive/MyDrive/CS5284\\ Project/protein-coordinates/notebooks"
      ]
    },
    {
      "cell_type": "code",
      "execution_count": 2,
      "metadata": {
        "colab": {
          "base_uri": "https://localhost:8080/"
        },
        "id": "-d2az6NjFKbU",
        "outputId": "db8a6fcb-205e-4ed5-dc53-0f60aef5752f"
      },
      "outputs": [
        {
          "name": "stdout",
          "output_type": "stream",
          "text": [
            "Collecting pytorch\n",
            "  Using cached pytorch-1.0.2.tar.gz (689 bytes)\n",
            "  Preparing metadata (setup.py) ... \u001b[?25l\u001b[?25hdone\n",
            "Requirement already satisfied: matplotlib in /usr/local/lib/python3.10/dist-packages (3.8.0)\n",
            "Requirement already satisfied: pandas in /usr/local/lib/python3.10/dist-packages (2.2.2)\n",
            "Requirement already satisfied: seaborn in /usr/local/lib/python3.10/dist-packages (0.13.2)\n",
            "Requirement already satisfied: scikit-learn in /usr/local/lib/python3.10/dist-packages (1.5.2)\n",
            "Requirement already satisfied: torchvision in /usr/local/lib/python3.10/dist-packages (0.20.0+cu121)\n",
            "Requirement already satisfied: numpy in /usr/local/lib/python3.10/dist-packages (1.26.4)\n",
            "Requirement already satisfied: scipy in /usr/local/lib/python3.10/dist-packages (1.13.1)\n",
            "Collecting dgl\n",
            "  Using cached dgl-2.1.0-cp310-cp310-manylinux1_x86_64.whl.metadata (553 bytes)\n",
            "Requirement already satisfied: imageio in /usr/local/lib/python3.10/dist-packages (2.36.0)\n",
            "Requirement already satisfied: biopython in /usr/local/lib/python3.10/dist-packages (1.84)\n",
            "Requirement already satisfied: ipykernel in /usr/local/lib/python3.10/dist-packages (5.5.6)\n",
            "Requirement already satisfied: ipywidgets in /usr/local/lib/python3.10/dist-packages (7.7.1)\n",
            "Requirement already satisfied: wandb in /usr/local/lib/python3.10/dist-packages (0.18.6)\n",
            "Requirement already satisfied: contourpy>=1.0.1 in /usr/local/lib/python3.10/dist-packages (from matplotlib) (1.3.0)\n",
            "Requirement already satisfied: cycler>=0.10 in /usr/local/lib/python3.10/dist-packages (from matplotlib) (0.12.1)\n",
            "Requirement already satisfied: fonttools>=4.22.0 in /usr/local/lib/python3.10/dist-packages (from matplotlib) (4.54.1)\n",
            "Requirement already satisfied: kiwisolver>=1.0.1 in /usr/local/lib/python3.10/dist-packages (from matplotlib) (1.4.7)\n",
            "Requirement already satisfied: packaging>=20.0 in /usr/local/lib/python3.10/dist-packages (from matplotlib) (24.2)\n",
            "Requirement already satisfied: pillow>=6.2.0 in /usr/local/lib/python3.10/dist-packages (from matplotlib) (11.0.0)\n",
            "Requirement already satisfied: pyparsing>=2.3.1 in /usr/local/lib/python3.10/dist-packages (from matplotlib) (3.2.0)\n",
            "Requirement already satisfied: python-dateutil>=2.7 in /usr/local/lib/python3.10/dist-packages (from matplotlib) (2.8.2)\n",
            "Requirement already satisfied: pytz>=2020.1 in /usr/local/lib/python3.10/dist-packages (from pandas) (2024.2)\n",
            "Requirement already satisfied: tzdata>=2022.7 in /usr/local/lib/python3.10/dist-packages (from pandas) (2024.2)\n",
            "Requirement already satisfied: joblib>=1.2.0 in /usr/local/lib/python3.10/dist-packages (from scikit-learn) (1.4.2)\n",
            "Requirement already satisfied: threadpoolctl>=3.1.0 in /usr/local/lib/python3.10/dist-packages (from scikit-learn) (3.5.0)\n",
            "Requirement already satisfied: torch==2.5.0 in /usr/local/lib/python3.10/dist-packages (from torchvision) (2.5.0+cu121)\n",
            "Requirement already satisfied: filelock in /usr/local/lib/python3.10/dist-packages (from torch==2.5.0->torchvision) (3.16.1)\n",
            "Requirement already satisfied: typing-extensions>=4.8.0 in /usr/local/lib/python3.10/dist-packages (from torch==2.5.0->torchvision) (4.12.2)\n",
            "Requirement already satisfied: networkx in /usr/local/lib/python3.10/dist-packages (from torch==2.5.0->torchvision) (3.4.2)\n",
            "Requirement already satisfied: jinja2 in /usr/local/lib/python3.10/dist-packages (from torch==2.5.0->torchvision) (3.1.4)\n",
            "Requirement already satisfied: fsspec in /usr/local/lib/python3.10/dist-packages (from torch==2.5.0->torchvision) (2024.10.0)\n",
            "Requirement already satisfied: sympy==1.13.1 in /usr/local/lib/python3.10/dist-packages (from torch==2.5.0->torchvision) (1.13.1)\n",
            "Requirement already satisfied: mpmath<1.4,>=1.1.0 in /usr/local/lib/python3.10/dist-packages (from sympy==1.13.1->torch==2.5.0->torchvision) (1.3.0)\n",
            "Requirement already satisfied: requests>=2.19.0 in /usr/local/lib/python3.10/dist-packages (from dgl) (2.32.3)\n",
            "Requirement already satisfied: tqdm in /usr/local/lib/python3.10/dist-packages (from dgl) (4.66.6)\n",
            "Requirement already satisfied: psutil>=5.8.0 in /usr/local/lib/python3.10/dist-packages (from dgl) (5.9.5)\n",
            "Collecting torchdata>=0.5.0 (from dgl)\n",
            "  Using cached torchdata-0.9.0-cp310-cp310-manylinux1_x86_64.whl.metadata (5.5 kB)\n",
            "Requirement already satisfied: ipython-genutils in /usr/local/lib/python3.10/dist-packages (from ipykernel) (0.2.0)\n",
            "Requirement already satisfied: ipython>=5.0.0 in /usr/local/lib/python3.10/dist-packages (from ipykernel) (7.34.0)\n",
            "Requirement already satisfied: traitlets>=4.1.0 in /usr/local/lib/python3.10/dist-packages (from ipykernel) (5.7.1)\n",
            "Requirement already satisfied: jupyter-client in /usr/local/lib/python3.10/dist-packages (from ipykernel) (6.1.12)\n",
            "Requirement already satisfied: tornado>=4.2 in /usr/local/lib/python3.10/dist-packages (from ipykernel) (6.3.3)\n",
            "Requirement already satisfied: widgetsnbextension~=3.6.0 in /usr/local/lib/python3.10/dist-packages (from ipywidgets) (3.6.10)\n",
            "Requirement already satisfied: jupyterlab-widgets>=1.0.0 in /usr/local/lib/python3.10/dist-packages (from ipywidgets) (3.0.13)\n",
            "Requirement already satisfied: click!=8.0.0,>=7.1 in /usr/local/lib/python3.10/dist-packages (from wandb) (8.1.7)\n",
            "Requirement already satisfied: docker-pycreds>=0.4.0 in /usr/local/lib/python3.10/dist-packages (from wandb) (0.4.0)\n",
            "Requirement already satisfied: gitpython!=3.1.29,>=1.0.0 in /usr/local/lib/python3.10/dist-packages (from wandb) (3.1.43)\n",
            "Requirement already satisfied: platformdirs in /usr/local/lib/python3.10/dist-packages (from wandb) (4.3.6)\n",
            "Requirement already satisfied: protobuf!=4.21.0,!=5.28.0,<6,>=3.19.0 in /usr/local/lib/python3.10/dist-packages (from wandb) (4.25.5)\n",
            "Requirement already satisfied: pyyaml in /usr/local/lib/python3.10/dist-packages (from wandb) (6.0.2)\n",
            "Requirement already satisfied: sentry-sdk>=2.0.0 in /usr/local/lib/python3.10/dist-packages (from wandb) (2.18.0)\n",
            "Requirement already satisfied: setproctitle in /usr/local/lib/python3.10/dist-packages (from wandb) (1.3.3)\n",
            "Requirement already satisfied: setuptools in /usr/local/lib/python3.10/dist-packages (from wandb) (75.1.0)\n",
            "Requirement already satisfied: six>=1.4.0 in /usr/local/lib/python3.10/dist-packages (from docker-pycreds>=0.4.0->wandb) (1.16.0)\n",
            "Requirement already satisfied: gitdb<5,>=4.0.1 in /usr/local/lib/python3.10/dist-packages (from gitpython!=3.1.29,>=1.0.0->wandb) (4.0.11)\n",
            "Collecting jedi>=0.16 (from ipython>=5.0.0->ipykernel)\n",
            "  Using cached jedi-0.19.2-py2.py3-none-any.whl.metadata (22 kB)\n",
            "Requirement already satisfied: decorator in /usr/local/lib/python3.10/dist-packages (from ipython>=5.0.0->ipykernel) (4.4.2)\n",
            "Requirement already satisfied: pickleshare in /usr/local/lib/python3.10/dist-packages (from ipython>=5.0.0->ipykernel) (0.7.5)\n",
            "Requirement already satisfied: prompt-toolkit!=3.0.0,!=3.0.1,<3.1.0,>=2.0.0 in /usr/local/lib/python3.10/dist-packages (from ipython>=5.0.0->ipykernel) (3.0.48)\n",
            "Requirement already satisfied: pygments in /usr/local/lib/python3.10/dist-packages (from ipython>=5.0.0->ipykernel) (2.18.0)\n",
            "Requirement already satisfied: backcall in /usr/local/lib/python3.10/dist-packages (from ipython>=5.0.0->ipykernel) (0.2.0)\n",
            "Requirement already satisfied: matplotlib-inline in /usr/local/lib/python3.10/dist-packages (from ipython>=5.0.0->ipykernel) (0.1.7)\n",
            "Requirement already satisfied: pexpect>4.3 in /usr/local/lib/python3.10/dist-packages (from ipython>=5.0.0->ipykernel) (4.9.0)\n",
            "Requirement already satisfied: charset-normalizer<4,>=2 in /usr/local/lib/python3.10/dist-packages (from requests>=2.19.0->dgl) (3.4.0)\n",
            "Requirement already satisfied: idna<4,>=2.5 in /usr/local/lib/python3.10/dist-packages (from requests>=2.19.0->dgl) (3.10)\n",
            "Requirement already satisfied: urllib3<3,>=1.21.1 in /usr/local/lib/python3.10/dist-packages (from requests>=2.19.0->dgl) (2.2.3)\n",
            "Requirement already satisfied: certifi>=2017.4.17 in /usr/local/lib/python3.10/dist-packages (from requests>=2.19.0->dgl) (2024.8.30)\n",
            "Requirement already satisfied: notebook>=4.4.1 in /usr/local/lib/python3.10/dist-packages (from widgetsnbextension~=3.6.0->ipywidgets) (6.5.5)\n",
            "Requirement already satisfied: jupyter-core>=4.6.0 in /usr/local/lib/python3.10/dist-packages (from jupyter-client->ipykernel) (5.7.2)\n",
            "Requirement already satisfied: pyzmq>=13 in /usr/local/lib/python3.10/dist-packages (from jupyter-client->ipykernel) (24.0.1)\n",
            "Requirement already satisfied: smmap<6,>=3.0.1 in /usr/local/lib/python3.10/dist-packages (from gitdb<5,>=4.0.1->gitpython!=3.1.29,>=1.0.0->wandb) (5.0.1)\n",
            "Requirement already satisfied: parso<0.9.0,>=0.8.4 in /usr/local/lib/python3.10/dist-packages (from jedi>=0.16->ipython>=5.0.0->ipykernel) (0.8.4)\n",
            "Requirement already satisfied: argon2-cffi in /usr/local/lib/python3.10/dist-packages (from notebook>=4.4.1->widgetsnbextension~=3.6.0->ipywidgets) (23.1.0)\n",
            "Requirement already satisfied: nbformat in /usr/local/lib/python3.10/dist-packages (from notebook>=4.4.1->widgetsnbextension~=3.6.0->ipywidgets) (5.10.4)\n",
            "Requirement already satisfied: nbconvert>=5 in /usr/local/lib/python3.10/dist-packages (from notebook>=4.4.1->widgetsnbextension~=3.6.0->ipywidgets) (7.16.4)\n",
            "Requirement already satisfied: nest-asyncio>=1.5 in /usr/local/lib/python3.10/dist-packages (from notebook>=4.4.1->widgetsnbextension~=3.6.0->ipywidgets) (1.6.0)\n",
            "Requirement already satisfied: Send2Trash>=1.8.0 in /usr/local/lib/python3.10/dist-packages (from notebook>=4.4.1->widgetsnbextension~=3.6.0->ipywidgets) (1.8.3)\n",
            "Requirement already satisfied: terminado>=0.8.3 in /usr/local/lib/python3.10/dist-packages (from notebook>=4.4.1->widgetsnbextension~=3.6.0->ipywidgets) (0.18.1)\n",
            "Requirement already satisfied: prometheus-client in /usr/local/lib/python3.10/dist-packages (from notebook>=4.4.1->widgetsnbextension~=3.6.0->ipywidgets) (0.21.0)\n",
            "Requirement already satisfied: nbclassic>=0.4.7 in /usr/local/lib/python3.10/dist-packages (from notebook>=4.4.1->widgetsnbextension~=3.6.0->ipywidgets) (1.1.0)\n",
            "Requirement already satisfied: ptyprocess>=0.5 in /usr/local/lib/python3.10/dist-packages (from pexpect>4.3->ipython>=5.0.0->ipykernel) (0.7.0)\n",
            "Requirement already satisfied: wcwidth in /usr/local/lib/python3.10/dist-packages (from prompt-toolkit!=3.0.0,!=3.0.1,<3.1.0,>=2.0.0->ipython>=5.0.0->ipykernel) (0.2.13)\n",
            "Requirement already satisfied: MarkupSafe>=2.0 in /usr/local/lib/python3.10/dist-packages (from jinja2->torch==2.5.0->torchvision) (3.0.2)\n",
            "Requirement already satisfied: notebook-shim>=0.2.3 in /usr/local/lib/python3.10/dist-packages (from nbclassic>=0.4.7->notebook>=4.4.1->widgetsnbextension~=3.6.0->ipywidgets) (0.2.4)\n",
            "Requirement already satisfied: beautifulsoup4 in /usr/local/lib/python3.10/dist-packages (from nbconvert>=5->notebook>=4.4.1->widgetsnbextension~=3.6.0->ipywidgets) (4.12.3)\n",
            "Requirement already satisfied: bleach!=5.0.0 in /usr/local/lib/python3.10/dist-packages (from nbconvert>=5->notebook>=4.4.1->widgetsnbextension~=3.6.0->ipywidgets) (6.2.0)\n",
            "Requirement already satisfied: defusedxml in /usr/local/lib/python3.10/dist-packages (from nbconvert>=5->notebook>=4.4.1->widgetsnbextension~=3.6.0->ipywidgets) (0.7.1)\n",
            "Requirement already satisfied: jupyterlab-pygments in /usr/local/lib/python3.10/dist-packages (from nbconvert>=5->notebook>=4.4.1->widgetsnbextension~=3.6.0->ipywidgets) (0.3.0)\n",
            "Requirement already satisfied: mistune<4,>=2.0.3 in /usr/local/lib/python3.10/dist-packages (from nbconvert>=5->notebook>=4.4.1->widgetsnbextension~=3.6.0->ipywidgets) (3.0.2)\n",
            "Requirement already satisfied: nbclient>=0.5.0 in /usr/local/lib/python3.10/dist-packages (from nbconvert>=5->notebook>=4.4.1->widgetsnbextension~=3.6.0->ipywidgets) (0.10.0)\n",
            "Requirement already satisfied: pandocfilters>=1.4.1 in /usr/local/lib/python3.10/dist-packages (from nbconvert>=5->notebook>=4.4.1->widgetsnbextension~=3.6.0->ipywidgets) (1.5.1)\n",
            "Requirement already satisfied: tinycss2 in /usr/local/lib/python3.10/dist-packages (from nbconvert>=5->notebook>=4.4.1->widgetsnbextension~=3.6.0->ipywidgets) (1.4.0)\n",
            "Requirement already satisfied: fastjsonschema>=2.15 in /usr/local/lib/python3.10/dist-packages (from nbformat->notebook>=4.4.1->widgetsnbextension~=3.6.0->ipywidgets) (2.20.0)\n",
            "Requirement already satisfied: jsonschema>=2.6 in /usr/local/lib/python3.10/dist-packages (from nbformat->notebook>=4.4.1->widgetsnbextension~=3.6.0->ipywidgets) (4.23.0)\n",
            "Requirement already satisfied: argon2-cffi-bindings in /usr/local/lib/python3.10/dist-packages (from argon2-cffi->notebook>=4.4.1->widgetsnbextension~=3.6.0->ipywidgets) (21.2.0)\n",
            "Requirement already satisfied: webencodings in /usr/local/lib/python3.10/dist-packages (from bleach!=5.0.0->nbconvert>=5->notebook>=4.4.1->widgetsnbextension~=3.6.0->ipywidgets) (0.5.1)\n",
            "Requirement already satisfied: attrs>=22.2.0 in /usr/local/lib/python3.10/dist-packages (from jsonschema>=2.6->nbformat->notebook>=4.4.1->widgetsnbextension~=3.6.0->ipywidgets) (24.2.0)\n",
            "Requirement already satisfied: jsonschema-specifications>=2023.03.6 in /usr/local/lib/python3.10/dist-packages (from jsonschema>=2.6->nbformat->notebook>=4.4.1->widgetsnbextension~=3.6.0->ipywidgets) (2024.10.1)\n",
            "Requirement already satisfied: referencing>=0.28.4 in /usr/local/lib/python3.10/dist-packages (from jsonschema>=2.6->nbformat->notebook>=4.4.1->widgetsnbextension~=3.6.0->ipywidgets) (0.35.1)\n",
            "Requirement already satisfied: rpds-py>=0.7.1 in /usr/local/lib/python3.10/dist-packages (from jsonschema>=2.6->nbformat->notebook>=4.4.1->widgetsnbextension~=3.6.0->ipywidgets) (0.21.0)\n",
            "Requirement already satisfied: jupyter-server<3,>=1.8 in /usr/local/lib/python3.10/dist-packages (from notebook-shim>=0.2.3->nbclassic>=0.4.7->notebook>=4.4.1->widgetsnbextension~=3.6.0->ipywidgets) (1.24.0)\n",
            "Requirement already satisfied: cffi>=1.0.1 in /usr/local/lib/python3.10/dist-packages (from argon2-cffi-bindings->argon2-cffi->notebook>=4.4.1->widgetsnbextension~=3.6.0->ipywidgets) (1.17.1)\n",
            "Requirement already satisfied: soupsieve>1.2 in /usr/local/lib/python3.10/dist-packages (from beautifulsoup4->nbconvert>=5->notebook>=4.4.1->widgetsnbextension~=3.6.0->ipywidgets) (2.6)\n",
            "Requirement already satisfied: pycparser in /usr/local/lib/python3.10/dist-packages (from cffi>=1.0.1->argon2-cffi-bindings->argon2-cffi->notebook>=4.4.1->widgetsnbextension~=3.6.0->ipywidgets) (2.22)\n",
            "Requirement already satisfied: anyio<4,>=3.1.0 in /usr/local/lib/python3.10/dist-packages (from jupyter-server<3,>=1.8->notebook-shim>=0.2.3->nbclassic>=0.4.7->notebook>=4.4.1->widgetsnbextension~=3.6.0->ipywidgets) (3.7.1)\n",
            "Requirement already satisfied: websocket-client in /usr/local/lib/python3.10/dist-packages (from jupyter-server<3,>=1.8->notebook-shim>=0.2.3->nbclassic>=0.4.7->notebook>=4.4.1->widgetsnbextension~=3.6.0->ipywidgets) (1.8.0)\n",
            "Requirement already satisfied: sniffio>=1.1 in /usr/local/lib/python3.10/dist-packages (from anyio<4,>=3.1.0->jupyter-server<3,>=1.8->notebook-shim>=0.2.3->nbclassic>=0.4.7->notebook>=4.4.1->widgetsnbextension~=3.6.0->ipywidgets) (1.3.1)\n",
            "Requirement already satisfied: exceptiongroup in /usr/local/lib/python3.10/dist-packages (from anyio<4,>=3.1.0->jupyter-server<3,>=1.8->notebook-shim>=0.2.3->nbclassic>=0.4.7->notebook>=4.4.1->widgetsnbextension~=3.6.0->ipywidgets) (1.2.2)\n",
            "Using cached dgl-2.1.0-cp310-cp310-manylinux1_x86_64.whl (8.5 MB)\n",
            "Using cached torchdata-0.9.0-cp310-cp310-manylinux1_x86_64.whl (2.7 MB)\n",
            "Using cached jedi-0.19.2-py2.py3-none-any.whl (1.6 MB)\n",
            "Building wheels for collected packages: pytorch\n",
            "  \u001b[1;31merror\u001b[0m: \u001b[1msubprocess-exited-with-error\u001b[0m\n",
            "  \n",
            "  \u001b[31m×\u001b[0m \u001b[32mpython setup.py bdist_wheel\u001b[0m did not run successfully.\n",
            "  \u001b[31m│\u001b[0m exit code: \u001b[1;36m1\u001b[0m\n",
            "  \u001b[31m╰─>\u001b[0m See above for output.\n",
            "  \n",
            "  \u001b[1;35mnote\u001b[0m: This error originates from a subprocess, and is likely not a problem with pip.\n",
            "  Building wheel for pytorch (setup.py) ... \u001b[?25lerror\n",
            "\u001b[31m  ERROR: Failed building wheel for pytorch\u001b[0m\u001b[31m\n",
            "\u001b[0m\u001b[?25h  Running setup.py clean for pytorch\n",
            "Failed to build pytorch\n",
            "\u001b[31mERROR: ERROR: Failed to build installable wheels for some pyproject.toml based projects (pytorch)\u001b[0m\u001b[31m\n",
            "\u001b[0m"
          ]
        }
      ],
      "source": [
        "# !pip install pytorch matplotlib pandas seaborn scikit-learn torchvision numpy scipy dgl imageio biopython ipykernel ipywidgets wandb"
      ]
    },
    {
      "cell_type": "code",
      "execution_count": 5,
      "metadata": {
        "colab": {
          "base_uri": "https://localhost:8080/"
        },
        "id": "1NIhF7m8F-OX",
        "outputId": "c3ffc80e-c988-4a01-92c2-95604f883e3a"
      },
      "outputs": [
        {
          "name": "stdout",
          "output_type": "stream",
          "text": [
            "Collecting biopython\n",
            "  Using cached biopython-1.84-cp310-cp310-manylinux_2_17_x86_64.manylinux2014_x86_64.whl.metadata (12 kB)\n",
            "Requirement already satisfied: numpy in /usr/local/lib/python3.10/dist-packages (from biopython) (1.26.4)\n",
            "Using cached biopython-1.84-cp310-cp310-manylinux_2_17_x86_64.manylinux2014_x86_64.whl (3.2 MB)\n",
            "Installing collected packages: biopython\n",
            "Successfully installed biopython-1.84\n"
          ]
        }
      ],
      "source": [
        "# pip install biopython"
      ]
    },
    {
      "cell_type": "code",
      "execution_count": 1,
      "metadata": {
        "id": "tb-hgVxWGjJi"
      },
      "outputs": [],
      "source": [
        "import sys\n",
        "\n",
        "sys.path.append('../')"
      ]
    },
    {
      "cell_type": "code",
      "execution_count": 2,
      "metadata": {
        "id": "9IKBD7KjDxHF"
      },
      "outputs": [],
      "source": [
        "import numpy as np\n",
        "import pandas as pd\n",
        "import matplotlib.pyplot as plt\n",
        "from Bio.PDB import PDBList, PDBParser\n",
        "import os\n",
        "import torch\n",
        "import torch.nn as nn\n",
        "from data_read import *\n",
        "from tqdm import tqdm\n",
        "import warnings\n",
        "from torch.utils.data import DataLoader\n",
        "%load_ext autoreload\n",
        "%autoreload 2\n",
        "warnings.filterwarnings('ignore')"
      ]
    },
    {
      "cell_type": "markdown",
      "metadata": {
        "id": "RVVuE8-ADxHH"
      },
      "source": [
        "### Data Retrieval"
      ]
    },
    {
      "cell_type": "code",
      "execution_count": 3,
      "metadata": {
        "id": "QyxvHee-DxHH"
      },
      "outputs": [],
      "source": [
        "def download_pdb_files(sample_size=100):\n",
        "    \"\"\"\n",
        "    Retrieves all PDB IDs available in the PDB.\n",
        "\n",
        "    Returns:\n",
        "        list: List of all PDB IDs.\n",
        "    \"\"\"\n",
        "    np.random.seed(42)\n",
        "    pdbl = PDBList()\n",
        "    pdb_ids = pdbl.get_all_entries()\n",
        "    sampled_pdb_ids = np.random.choice(pdb_ids, sample_size, replace=False)\n",
        "    for pdb_id in sampled_pdb_ids:\n",
        "        pdbl.retrieve_pdb_file(pdb_id, pdir='pdb_files', file_format='pdb')\n",
        "    print(f\"Downloaded {len(sampled_pdb_ids)} PDB files.\")\n",
        "    return pdb_ids\n",
        "\n",
        "# download_pdb_files(sample_size=100)"
      ]
    },
    {
      "cell_type": "code",
      "execution_count": 11,
      "metadata": {
        "id": "BLs7toDzDxHI"
      },
      "outputs": [],
      "source": [
        "# import shutil\n",
        "# from sklearn.model_selection import train_test_split\n",
        "\n",
        "# # Define the paths\n",
        "# data_path = '../data/pdb_files/'\n",
        "# train_path = os.path.join(data_path, 'train')\n",
        "# test_path = os.path.join(data_path, 'test')\n",
        "\n",
        "# # Create train and test directories if they don't exist\n",
        "# os.makedirs(train_path, exist_ok=True)\n",
        "# os.makedirs(test_path, exist_ok=True)\n",
        "\n",
        "# # Get list of all files in the data_path\n",
        "# all_files = [f for f in os.listdir(data_path) if os.path.isfile(os.path.join(data_path, f))]\n",
        "\n",
        "# # Split the files into train and test sets\n",
        "# train_files, test_files = train_test_split(all_files, test_size=0.2, random_state=42)\n",
        "\n",
        "# # Move the files to the respective directories\n",
        "# for file in train_files:\n",
        "#     shutil.move(os.path.join(data_path, file), os.path.join(train_path, file))\n",
        "\n",
        "# for file in test_files:\n",
        "#     shutil.move(os.path.join(data_path, file), os.path.join(test_path, file))\n",
        "\n",
        "# print(f\"Moved {len(train_files)} files to {train_path}\")\n",
        "# print(f\"Moved {len(test_files)} files to {test_path}\")"
      ]
    },
    {
      "cell_type": "markdown",
      "metadata": {
        "id": "XIXNpZH9DxHI"
      },
      "source": [
        "### Testing of Datasets and DataLoaders"
      ]
    },
    {
      "cell_type": "code",
      "execution_count": 4,
      "metadata": {
        "id": "x2Qn9oidDxHI"
      },
      "outputs": [],
      "source": [
        "from src.dataset.datasets import *\n",
        "from src.dataset.transforms import *\n",
        "from torchvision import transforms"
      ]
    },
    {
      "cell_type": "code",
      "execution_count": 5,
      "metadata": {
        "id": "aPSRp55QDxHI"
      },
      "outputs": [],
      "source": [
        "# pdb_transforms = transforms.Compose([NormalizeCoordinates(), PadDatasetTransform(1000)])"
      ]
    },
    {
      "cell_type": "code",
      "execution_count": 6,
      "metadata": {
        "colab": {
          "base_uri": "https://localhost:8080/"
        },
        "id": "wMreAg8RDxHI",
        "outputId": "296f8344-803b-4de2-c39a-5ce1aaf71824"
      },
      "outputs": [
        {
          "name": "stderr",
          "output_type": "stream",
          "text": [
            "100%|██████████| 77/77 [00:04<00:00, 15.81it/s]\n",
            "100%|██████████| 20/20 [00:00<00:00, 23.01it/s]\n"
          ]
        }
      ],
      "source": [
        "train_data_path = '../data/pdb_files/train'\n",
        "test_data_path = '../data/pdb_files/test'\n",
        "train_dataset = PDBDataset(train_data_path)\n",
        "if len(train_dataset)%2 != 0:\n",
        "    train_dataset = train_dataset[:-1]\n",
        "test_dataset = PDBDataset(test_data_path)"
      ]
    },
    {
      "cell_type": "markdown",
      "metadata": {
        "id": "9UTIxkrzDxHI"
      },
      "source": [
        "### Data Statistics"
      ]
    },
    {
      "cell_type": "code",
      "execution_count": 7,
      "metadata": {
        "colab": {
          "base_uri": "https://localhost:8080/"
        },
        "id": "7EusCes0DxHJ",
        "outputId": "24243668-18f0-429d-95a9-db4c1f4d551e"
      },
      "outputs": [
        {
          "name": "stdout",
          "output_type": "stream",
          "text": [
            "i_seq count dictionary: {1: 1314, 2: 268, 3: 1036, 4: 1017, 5: 695, 6: 1241, 7: 359, 8: 1058, 9: 1029, 10: 1534, 11: 328, 12: 744, 13: 808, 14: 623, 15: 791, 16: 981, 17: 1031, 18: 1244, 19: 207, 20: 603}\n",
            "Maximum number of nodes in a sample: 773\n",
            "Node count dictionary: {364: 1, 452: 1, 114: 2, 152: 1, 294: 1, 16: 1, 119: 1, 207: 1, 113: 1, 88: 1, 124: 1, 303: 1, 78: 3, 121: 1, 306: 1, 296: 2, 183: 1, 321: 1, 319: 1, 396: 1, 62: 1, 74: 1, 368: 1, 391: 1, 107: 1, 153: 1, 400: 1, 369: 1, 394: 1, 224: 1, 58: 2, 130: 1, 309: 1, 297: 1, 73: 1, 128: 1, 216: 1, 330: 1, 215: 1, 338: 1, 438: 1, 198: 1, 553: 1, 325: 1, 268: 1, 410: 1, 284: 1, 175: 1, 277: 1, 127: 1, 354: 1, 168: 1, 12: 1, 607: 1, 63: 1, 773: 1, 300: 1, 169: 1, 254: 1, 527: 1, 305: 1, 343: 1, 355: 1}\n"
          ]
        }
      ],
      "source": [
        "from collections import defaultdict\n",
        "\n",
        "# Initialize a dictionary to store the count of samples with each number of nodes\n",
        "node_count_dict = defaultdict(int)\n",
        "\n",
        "# Enumerate through the train_dataset and count the number of nodes in each sample\n",
        "max_nodes = 0\n",
        "for sample in train_dataset:\n",
        "    num_nodes = sample['positions'].shape[0]\n",
        "    node_count_dict[num_nodes] += 1\n",
        "    if num_nodes > max_nodes:\n",
        "        max_nodes = num_nodes\n",
        "\n",
        "# Initialize a dictionary to store the count of occurrences for each unique value in [\"i_seq\"]\n",
        "i_seq_count_dict = defaultdict(int)\n",
        "\n",
        "# Enumerate through the train_dataset and count the occurrences of each unique value in [\"i_seq\"]\n",
        "for sample in train_dataset:\n",
        "    for i_seq_value in sample['i_seq']:\n",
        "        if i_seq_value != 0:\n",
        "            i_seq_count_dict[i_seq_value.item()] += 1\n",
        "\n",
        "# Sort the keys of i_seq_count_dict\n",
        "i_seq_count_dict = dict(sorted(i_seq_count_dict.items()))\n",
        "\n",
        "print(\"i_seq count dictionary:\", dict(i_seq_count_dict))\n",
        "\n",
        "print(f\"Maximum number of nodes in a sample: {max_nodes}\")\n",
        "print(\"Node count dictionary:\", dict(node_count_dict))"
      ]
    },
    {
      "cell_type": "code",
      "execution_count": 8,
      "metadata": {
        "id": "dq2-QueFDxHJ"
      },
      "outputs": [],
      "source": [
        "# Get dataset info required to generate node distribution\n",
        "aa_rep = \"ACDEFGHIKLMNPQRSTVWYBXZJUO\"\n",
        "aa_to_int = {c: i for i, c in enumerate(aa_rep)}\n",
        "\n",
        "dataset_info = {\n",
        "    'name': 'pdb',\n",
        "    'max_n_nodes': max_nodes,\n",
        "    'n_nodes': node_count_dict,\n",
        "    'atom_types': i_seq_count_dict,\n",
        "    'atom_encoder': aa_to_int,\n",
        "    'atom_decoder': [i for i in aa_rep],\n",
        "    'colors_dic': ['C'+str(i) for i in range(len(aa_rep))],\n",
        "    'radius_dic': [0.3]*len(aa_rep)\n",
        "}"
      ]
    },
    {
      "cell_type": "code",
      "execution_count": 24,
      "metadata": {
        "id": "_VBfshKPDxHJ"
      },
      "outputs": [],
      "source": [
        "from src.dataset.collate import PreprocessPDB\n",
        "\n",
        "train_dataloader = DataLoader(train_dataset, batch_size=2, shuffle=True, collate_fn=PreprocessPDB().collate_fn)\n",
        "test_dataloader = DataLoader(test_dataset, batch_size=2, shuffle=False, collate_fn=PreprocessPDB().collate_fn)"
      ]
    },
    {
      "cell_type": "markdown",
      "metadata": {
        "id": "vB5WuEdUDxHJ"
      },
      "source": [
        "### Models"
      ]
    },
    {
      "cell_type": "code",
      "execution_count": 42,
      "metadata": {
        "id": "YkGscrN4DxHJ"
      },
      "outputs": [],
      "source": [
        "import yaml\n",
        "\n",
        "# Read the jer_config.yml file\n",
        "with open('../edm_config.yml', 'r') as file:\n",
        "    config = yaml.safe_load(file)\n",
        "\n",
        "class Config:\n",
        "    def __init__(self, config_dict):\n",
        "        for key, value in config_dict.items():\n",
        "            if isinstance(value, str):\n",
        "                try:\n",
        "                    # Try to convert strings to their appropriate types\n",
        "                    value = eval(value)\n",
        "                except:\n",
        "                    pass\n",
        "            setattr(self, key, value)\n",
        "\n",
        "args = Config(config)"
      ]
    },
    {
      "cell_type": "code",
      "execution_count": 36,
      "metadata": {
        "id": "QOualQP3DxHJ"
      },
      "outputs": [],
      "source": [
        "from src.models.prepare_models import *"
      ]
    },
    {
      "cell_type": "code",
      "execution_count": 43,
      "metadata": {
        "id": "qFbgotIjDxHJ"
      },
      "outputs": [],
      "source": [
        "if torch.cuda.is_available():\n",
        "    device = torch.device(\"cuda\")\n",
        "elif torch.backends.mps.is_available():\n",
        "    device = torch.device(\"mps\")\n",
        "else:\n",
        "    device = torch.device(\"cpu\")"
      ]
    },
    {
      "cell_type": "code",
      "execution_count": 44,
      "metadata": {
        "colab": {
          "base_uri": "https://localhost:8080/"
        },
        "id": "OyclYtPlDxHJ",
        "outputId": "3438360a-b615-44e7-ffcd-e6b5dfe9b8e1"
      },
      "outputs": [
        {
          "name": "stdout",
          "output_type": "stream",
          "text": [
            "Entropy of n_nodes: H[N] -4.109879493713379\n",
            "alphas2 [9.99990000e-01 9.99940002e-01 9.99790014e-01 9.99540060e-01\n",
            " 9.99190176e-01 9.98740416e-01 9.98190846e-01 9.97541550e-01\n",
            " 9.96792624e-01 9.95944182e-01 9.94996350e-01 9.93949271e-01\n",
            " 9.92803104e-01 9.91558019e-01 9.90214206e-01 9.88771865e-01\n",
            " 9.87231215e-01 9.85592489e-01 9.83855933e-01 9.82021810e-01\n",
            " 9.80090398e-01 9.78061989e-01 9.75936891e-01 9.73715426e-01\n",
            " 9.71397932e-01 9.68984761e-01 9.66476280e-01 9.63872873e-01\n",
            " 9.61174936e-01 9.58382883e-01 9.55497140e-01 9.52518150e-01\n",
            " 9.49446371e-01 9.46282275e-01 9.43026349e-01 9.39679097e-01\n",
            " 9.36241035e-01 9.32712696e-01 9.29094628e-01 9.25387393e-01\n",
            " 9.21591568e-01 9.17707746e-01 9.13736535e-01 9.09678557e-01\n",
            " 9.05534449e-01 9.01304864e-01 8.96990470e-01 8.92591949e-01\n",
            " 8.88109998e-01 8.83545330e-01 8.78898672e-01 8.74170767e-01\n",
            " 8.69362373e-01 8.64474261e-01 8.59507220e-01 8.54462051e-01\n",
            " 8.49339573e-01 8.44140618e-01 8.38866033e-01 8.33516680e-01\n",
            " 8.28093438e-01 8.22597199e-01 8.17028869e-01 8.11389373e-01\n",
            " 8.05679646e-01 7.99900642e-01 7.94053329e-01 7.88138688e-01\n",
            " 7.82157717e-01 7.76111428e-01 7.70000850e-01 7.63827024e-01\n",
            " 7.57591008e-01 7.51293875e-01 7.44936711e-01 7.38520620e-01\n",
            " 7.32046719e-01 7.25516140e-01 7.18930031e-01 7.12289555e-01\n",
            " 7.05595888e-01 6.98850224e-01 6.92053769e-01 6.85207746e-01\n",
            " 6.78313394e-01 6.71371963e-01 6.64384722e-01 6.57352954e-01\n",
            " 6.50277954e-01 6.43161037e-01 6.36003530e-01 6.28806774e-01\n",
            " 6.21572129e-01 6.14300965e-01 6.06994670e-01 5.99654647e-01\n",
            " 5.92282314e-01 5.84879103e-01 5.77446461e-01 5.69985851e-01\n",
            " 5.62498750e-01 5.54986651e-01 5.47451061e-01 5.39893503e-01\n",
            " 5.32315514e-01 5.24718646e-01 5.17104468e-01 5.09474561e-01\n",
            " 5.01830523e-01 4.94173967e-01 4.86506520e-01 4.78829824e-01\n",
            " 4.71145537e-01 4.63455332e-01 4.55760895e-01 4.48063929e-01\n",
            " 4.40366153e-01 4.32669297e-01 4.24975111e-01 4.17285355e-01\n",
            " 4.09601808e-01 4.01926262e-01 3.94260525e-01 3.86606419e-01\n",
            " 3.78965781e-01 3.71340464e-01 3.63732335e-01 3.56143278e-01\n",
            " 3.48575189e-01 3.41029980e-01 3.33509580e-01 3.26015930e-01\n",
            " 3.18550989e-01 3.11116728e-01 3.03715136e-01 2.96348214e-01\n",
            " 2.89017980e-01 2.81726466e-01 2.74475721e-01 2.67267805e-01\n",
            " 2.60104798e-01 2.52988791e-01 2.45921892e-01 2.38906223e-01\n",
            " 2.31943921e-01 2.25037140e-01 2.18188046e-01 2.11398823e-01\n",
            " 2.04671667e-01 1.98008791e-01 1.91412422e-01 1.84884803e-01\n",
            " 1.78428192e-01 1.72044860e-01 1.65737095e-01 1.59507201e-01\n",
            " 1.53357493e-01 1.47290305e-01 1.41307984e-01 1.35412893e-01\n",
            " 1.29607408e-01 1.23893923e-01 1.18274845e-01 1.12752596e-01\n",
            " 1.07329614e-01 1.02008351e-01 9.67912743e-02 9.16808672e-02\n",
            " 8.66796266e-02 8.17900650e-02 7.70147099e-02 7.23561037e-02\n",
            " 6.78168038e-02 6.33993828e-02 5.91064280e-02 5.49405420e-02\n",
            " 5.09043421e-02 4.70004608e-02 4.32315456e-02 3.96002588e-02\n",
            " 3.61092780e-02 3.27612956e-02 2.95590190e-02 2.65051707e-02\n",
            " 2.36024881e-02 2.08537237e-02 1.82616450e-02 1.58290342e-02\n",
            " 1.35586890e-02 1.14534218e-02 9.51605988e-03 7.74944583e-03\n",
            " 6.15643707e-03 4.73990602e-03 3.50274014e-03 2.44784187e-03\n",
            " 1.57812864e-03 8.96532894e-04 4.06002080e-04 1.09498635e-04\n",
            " 1.00994986e-05]\n",
            "gamma [-1.15129155e+01 -9.72113308e+00 -8.46825969e+00 -7.68395365e+00\n",
            " -7.11788346e+00 -6.67571309e+00 -6.31308514e+00 -6.00576257e+00\n",
            " -5.73908957e+00 -5.50353871e+00 -5.29257140e+00 -5.10150748e+00\n",
            " -4.92688250e+00 -4.76606050e+00 -4.61698950e+00 -4.47804095e+00\n",
            " -4.34790077e+00 -4.22549327e+00 -4.10992684e+00 -4.00045416e+00\n",
            " -3.89644268e+00 -3.79735227e+00 -3.70271801e+00 -3.61213687e+00\n",
            " -3.52525717e+00 -3.44177021e+00 -3.36140352e+00 -3.28391539e+00\n",
            " -3.20909042e+00 -3.13673581e+00 -3.06667831e+00 -2.99876163e+00\n",
            " -2.93284431e+00 -2.86879789e+00 -2.80650533e+00 -2.74585973e+00\n",
            " -2.68676316e+00 -2.62912565e+00 -2.57286439e+00 -2.51790296e+00\n",
            " -2.46417067e+00 -2.41160200e+00 -2.36013612e+00 -2.30971641e+00\n",
            " -2.26029009e+00 -2.21180790e+00 -2.16422373e+00 -2.11749439e+00\n",
            " -2.07157934e+00 -2.02644049e+00 -1.98204200e+00 -1.93835005e+00\n",
            " -1.89533275e+00 -1.85295995e+00 -1.81120312e+00 -1.77003522e+00\n",
            " -1.72943060e+00 -1.68936488e+00 -1.64981490e+00 -1.61075859e+00\n",
            " -1.57217491e+00 -1.53404379e+00 -1.49634605e+00 -1.45906334e+00\n",
            " -1.42217810e+00 -1.38567349e+00 -1.34953337e+00 -1.31374220e+00\n",
            " -1.27828507e+00 -1.24314762e+00 -1.20831600e+00 -1.17377687e+00\n",
            " -1.13951732e+00 -1.10552491e+00 -1.07178756e+00 -1.03829360e+00\n",
            " -1.00503169e+00 -9.71990858e-01 -9.39160402e-01 -9.06529931e-01\n",
            " -8.74089323e-01 -8.41828710e-01 -8.09738460e-01 -7.77809163e-01\n",
            " -7.46031614e-01 -7.14396801e-01 -6.82895885e-01 -6.51520196e-01\n",
            " -6.20261210e-01 -5.89110545e-01 -5.58059943e-01 -5.27101264e-01\n",
            " -4.96226469e-01 -4.65427614e-01 -4.34696836e-01 -4.04026346e-01\n",
            " -3.73408415e-01 -3.42835368e-01 -3.12299572e-01 -2.81793424e-01\n",
            " -2.51309349e-01 -2.20839781e-01 -1.90377161e-01 -1.59913924e-01\n",
            " -1.29442490e-01 -9.89552546e-02 -6.84445791e-02 -3.79027815e-02\n",
            " -7.32212627e-03  2.33051862e-02  5.39870292e-02  8.47313609e-02\n",
            "  1.15546234e-01  1.46439809e-01  1.77420363e-01  2.08496304e-01\n",
            "  2.39676180e-01  2.70968695e-01  3.02382722e-01  3.33927315e-01\n",
            "  3.65611723e-01  3.97445410e-01  4.29438063e-01  4.61599619e-01\n",
            "  4.93940271e-01  5.26470498e-01  5.59201076e-01  5.92143105e-01\n",
            "  6.25308026e-01  6.58707649e-01  6.92354176e-01  7.26260229e-01\n",
            "  7.60438876e-01  7.94903665e-01  8.29668656e-01  8.64748451e-01\n",
            "  9.00158242e-01  9.35913841e-01  9.72031730e-01  1.00852911e+00\n",
            "  1.04542394e+00  1.08273501e+00  1.12048198e+00  1.15868548e+00\n",
            "  1.19736713e+00  1.23654965e+00  1.27625695e+00  1.31651421e+00\n",
            "  1.35734796e+00  1.39878622e+00  1.44085862e+00  1.48359650e+00\n",
            "  1.52703311e+00  1.57120372e+00  1.61614582e+00  1.66189932e+00\n",
            "  1.70850678e+00  1.75601365e+00  1.80446853e+00  1.85392349e+00\n",
            "  1.90443442e+00  1.95606144e+00  2.00886928e+00  2.06292787e+00\n",
            "  2.11831280e+00  2.17510609e+00  2.23339682e+00  2.29328207e+00\n",
            "  2.35486785e+00  2.41827027e+00  2.48361686e+00  2.55104811e+00\n",
            "  2.62071935e+00  2.69280283e+00  2.76749035e+00  2.84499630e+00\n",
            "  2.92556137e+00  3.00945701e+00  3.09699096e+00  3.18851394e+00\n",
            "  3.28442809e+00  3.38519751e+00  3.49136168e+00  3.60355268e+00\n",
            "  3.72251765e+00  3.84914852e+00  3.98452188e+00  4.12995376e+00\n",
            "  4.28707623e+00  4.45794723e+00  4.64521277e+00  4.85235431e+00\n",
            "  5.08408160e+00  5.34698679e+00  5.65070083e+00  6.01009767e+00\n",
            "  6.44993617e+00  7.01607864e+00  7.80874619e+00  9.11948897e+00\n",
            "  1.15030147e+01]\n"
          ]
        }
      ],
      "source": [
        "model, nodes_dist, prop_dist = get_model(args, device, dataset_info, train_dataloader)\n",
        "optim = get_optim(args, model)\n",
        "\n",
        "model = model.to(device)"
      ]
    },
    {
      "cell_type": "code",
      "execution_count": 52,
      "metadata": {},
      "outputs": [
        {
          "data": {
            "text/plain": [
              "{364: 0,\n",
              " 452: 1,\n",
              " 114: 2,\n",
              " 152: 3,\n",
              " 294: 4,\n",
              " 16: 5,\n",
              " 119: 6,\n",
              " 207: 7,\n",
              " 113: 8,\n",
              " 88: 9,\n",
              " 124: 10,\n",
              " 303: 11,\n",
              " 78: 12,\n",
              " 121: 13,\n",
              " 306: 14,\n",
              " 296: 15,\n",
              " 183: 16,\n",
              " 321: 17,\n",
              " 319: 18,\n",
              " 396: 19,\n",
              " 62: 20,\n",
              " 74: 21,\n",
              " 368: 22,\n",
              " 391: 23,\n",
              " 107: 24,\n",
              " 153: 25,\n",
              " 400: 26,\n",
              " 369: 27,\n",
              " 394: 28,\n",
              " 224: 29,\n",
              " 58: 30,\n",
              " 130: 31,\n",
              " 309: 32,\n",
              " 297: 33,\n",
              " 73: 34,\n",
              " 128: 35,\n",
              " 216: 36,\n",
              " 330: 37,\n",
              " 215: 38,\n",
              " 338: 39,\n",
              " 438: 40,\n",
              " 198: 41,\n",
              " 553: 42,\n",
              " 325: 43,\n",
              " 268: 44,\n",
              " 410: 45,\n",
              " 284: 46,\n",
              " 175: 47,\n",
              " 277: 48,\n",
              " 127: 49,\n",
              " 354: 50,\n",
              " 168: 51,\n",
              " 12: 52,\n",
              " 607: 53,\n",
              " 63: 54,\n",
              " 773: 55,\n",
              " 300: 56,\n",
              " 169: 57,\n",
              " 254: 58,\n",
              " 527: 59,\n",
              " 305: 60,\n",
              " 343: 61,\n",
              " 355: 62}"
            ]
          },
          "execution_count": 52,
          "metadata": {},
          "output_type": "execute_result"
        }
      ],
      "source": [
        "nodes_dist.keys"
      ]
    },
    {
      "cell_type": "code",
      "execution_count": 39,
      "metadata": {
        "id": "yN4yBAeiDxHK"
      },
      "outputs": [],
      "source": [
        "import wandb"
      ]
    },
    {
      "cell_type": "code",
      "execution_count": 40,
      "metadata": {
        "id": "tevrXiRUDxHK"
      },
      "outputs": [],
      "source": [
        "from src.train_test import train_epoch, test"
      ]
    },
    {
      "cell_type": "code",
      "execution_count": 41,
      "metadata": {
        "colab": {
          "base_uri": "https://localhost:8080/",
          "height": 38
        },
        "id": "6jUk95ruDxHK",
        "outputId": "297088d9-f0b4-4301-a18f-7ba66551a524"
      },
      "outputs": [
        {
          "data": {
            "application/vnd.jupyter.widget-view+json": {
              "model_id": "b563c3849c5b4718abf08af7985ae864",
              "version_major": 2,
              "version_minor": 0
            },
            "text/plain": [
              "VBox(children=(Label(value='Waiting for wandb.init()...\\r'), FloatProgress(value=0.011168066200075879, max=1.0…"
            ]
          },
          "metadata": {},
          "output_type": "display_data"
        },
        {
          "ename": "CommError",
          "evalue": "Run initialization has timed out after 90.0 sec. \nPlease refer to the documentation for additional information: https://docs.wandb.ai/guides/track/tracking-faq#initstarterror-error-communicating-with-wandb-process-",
          "output_type": "error",
          "traceback": [
            "\u001b[0;31m---------------------------------------------------------------------------\u001b[0m",
            "\u001b[0;31mCommError\u001b[0m                                 Traceback (most recent call last)",
            "Cell \u001b[0;32mIn[41], line 8\u001b[0m\n\u001b[1;32m      5\u001b[0m     mode \u001b[38;5;241m=\u001b[39m \u001b[38;5;124m'\u001b[39m\u001b[38;5;124monline\u001b[39m\u001b[38;5;124m'\u001b[39m \u001b[38;5;28;01mif\u001b[39;00m args\u001b[38;5;241m.\u001b[39monline \u001b[38;5;28;01melse\u001b[39;00m \u001b[38;5;124m'\u001b[39m\u001b[38;5;124moffline\u001b[39m\u001b[38;5;124m'\u001b[39m\n\u001b[1;32m      6\u001b[0m     kwargs \u001b[38;5;241m=\u001b[39m {\u001b[38;5;124m'\u001b[39m\u001b[38;5;124mentity\u001b[39m\u001b[38;5;124m'\u001b[39m: args\u001b[38;5;241m.\u001b[39mwandb_usr, \u001b[38;5;124m'\u001b[39m\u001b[38;5;124mname\u001b[39m\u001b[38;5;124m'\u001b[39m: args\u001b[38;5;241m.\u001b[39mexp_name, \u001b[38;5;124m'\u001b[39m\u001b[38;5;124mproject\u001b[39m\u001b[38;5;124m'\u001b[39m: \u001b[38;5;124m'\u001b[39m\u001b[38;5;124me3_diffusion\u001b[39m\u001b[38;5;124m'\u001b[39m, \u001b[38;5;124m'\u001b[39m\u001b[38;5;124mconfig\u001b[39m\u001b[38;5;124m'\u001b[39m: args,\n\u001b[1;32m      7\u001b[0m           \u001b[38;5;124m'\u001b[39m\u001b[38;5;124msettings\u001b[39m\u001b[38;5;124m'\u001b[39m: wandb\u001b[38;5;241m.\u001b[39mSettings(_disable_stats\u001b[38;5;241m=\u001b[39m\u001b[38;5;28;01mTrue\u001b[39;00m), \u001b[38;5;124m'\u001b[39m\u001b[38;5;124mreinit\u001b[39m\u001b[38;5;124m'\u001b[39m: \u001b[38;5;28;01mTrue\u001b[39;00m, \u001b[38;5;124m'\u001b[39m\u001b[38;5;124mmode\u001b[39m\u001b[38;5;124m'\u001b[39m: \u001b[38;5;124m'\u001b[39m\u001b[38;5;124moffline\u001b[39m\u001b[38;5;124m'\u001b[39m}\n\u001b[0;32m----> 8\u001b[0m \u001b[43mwandb\u001b[49m\u001b[38;5;241;43m.\u001b[39;49m\u001b[43minit\u001b[49m\u001b[43m(\u001b[49m\u001b[38;5;241;43m*\u001b[39;49m\u001b[38;5;241;43m*\u001b[39;49m\u001b[43mkwargs\u001b[49m\u001b[43m)\u001b[49m\n",
            "File \u001b[0;32m/opt/homebrew/Caskroom/miniconda/base/envs/gvp/lib/python3.11/site-packages/wandb/sdk/wandb_init.py:1270\u001b[0m, in \u001b[0;36minit\u001b[0;34m(job_type, dir, config, project, entity, reinit, tags, group, name, notes, magic, config_exclude_keys, config_include_keys, anonymous, mode, allow_val_change, resume, force, tensorboard, sync_tensorboard, monitor_gym, save_code, id, fork_from, resume_from, settings)\u001b[0m\n\u001b[1;32m   1266\u001b[0m     logger\u001b[38;5;241m.\u001b[39mexception(\u001b[38;5;124m\"\u001b[39m\u001b[38;5;124merror in wandb.init()\u001b[39m\u001b[38;5;124m\"\u001b[39m, exc_info\u001b[38;5;241m=\u001b[39me)\n\u001b[1;32m   1268\u001b[0m \u001b[38;5;66;03m# Need to build delay into this sentry capture because our exit hooks\u001b[39;00m\n\u001b[1;32m   1269\u001b[0m \u001b[38;5;66;03m# mess with sentry's ability to send out errors before the program ends.\u001b[39;00m\n\u001b[0;32m-> 1270\u001b[0m \u001b[43mwandb\u001b[49m\u001b[38;5;241;43m.\u001b[39;49m\u001b[43m_sentry\u001b[49m\u001b[38;5;241;43m.\u001b[39;49m\u001b[43mreraise\u001b[49m\u001b[43m(\u001b[49m\u001b[43me\u001b[49m\u001b[43m)\u001b[49m\n\u001b[1;32m   1271\u001b[0m \u001b[38;5;28;01mraise\u001b[39;00m \u001b[38;5;167;01mAssertionError\u001b[39;00m()\n",
            "File \u001b[0;32m/opt/homebrew/Caskroom/miniconda/base/envs/gvp/lib/python3.11/site-packages/wandb/analytics/sentry.py:161\u001b[0m, in \u001b[0;36mSentry.reraise\u001b[0;34m(self, exc)\u001b[0m\n\u001b[1;32m    158\u001b[0m \u001b[38;5;28mself\u001b[39m\u001b[38;5;241m.\u001b[39mexception(exc)\n\u001b[1;32m    159\u001b[0m \u001b[38;5;66;03m# this will messily add this \"reraise\" function to the stack trace,\u001b[39;00m\n\u001b[1;32m    160\u001b[0m \u001b[38;5;66;03m# but hopefully it's not too bad\u001b[39;00m\n\u001b[0;32m--> 161\u001b[0m \u001b[38;5;28;01mraise\u001b[39;00m exc\u001b[38;5;241m.\u001b[39mwith_traceback(sys\u001b[38;5;241m.\u001b[39mexc_info()[\u001b[38;5;241m2\u001b[39m])\n",
            "File \u001b[0;32m/opt/homebrew/Caskroom/miniconda/base/envs/gvp/lib/python3.11/site-packages/wandb/sdk/wandb_init.py:1256\u001b[0m, in \u001b[0;36minit\u001b[0;34m(job_type, dir, config, project, entity, reinit, tags, group, name, notes, magic, config_exclude_keys, config_include_keys, anonymous, mode, allow_val_change, resume, force, tensorboard, sync_tensorboard, monitor_gym, save_code, id, fork_from, resume_from, settings)\u001b[0m\n\u001b[1;32m   1254\u001b[0m     wi \u001b[38;5;241m=\u001b[39m _WandbInit()\n\u001b[1;32m   1255\u001b[0m     wi\u001b[38;5;241m.\u001b[39msetup(kwargs)\n\u001b[0;32m-> 1256\u001b[0m     \u001b[38;5;28;01mreturn\u001b[39;00m \u001b[43mwi\u001b[49m\u001b[38;5;241;43m.\u001b[39;49m\u001b[43minit\u001b[49m\u001b[43m(\u001b[49m\u001b[43m)\u001b[49m\n\u001b[1;32m   1258\u001b[0m \u001b[38;5;28;01mexcept\u001b[39;00m \u001b[38;5;167;01mKeyboardInterrupt\u001b[39;00m \u001b[38;5;28;01mas\u001b[39;00m e:\n\u001b[1;32m   1259\u001b[0m     \u001b[38;5;28;01mif\u001b[39;00m logger \u001b[38;5;129;01mis\u001b[39;00m \u001b[38;5;129;01mnot\u001b[39;00m \u001b[38;5;28;01mNone\u001b[39;00m:\n",
            "File \u001b[0;32m/opt/homebrew/Caskroom/miniconda/base/envs/gvp/lib/python3.11/site-packages/wandb/sdk/wandb_init.py:848\u001b[0m, in \u001b[0;36m_WandbInit.init\u001b[0;34m(self)\u001b[0m\n\u001b[1;32m    846\u001b[0m         backend\u001b[38;5;241m.\u001b[39mcleanup()\n\u001b[1;32m    847\u001b[0m         \u001b[38;5;28mself\u001b[39m\u001b[38;5;241m.\u001b[39mteardown()\n\u001b[0;32m--> 848\u001b[0m     \u001b[38;5;28;01mraise\u001b[39;00m error\n\u001b[1;32m    850\u001b[0m \u001b[38;5;28;01massert\u001b[39;00m run_result \u001b[38;5;129;01mis\u001b[39;00m \u001b[38;5;129;01mnot\u001b[39;00m \u001b[38;5;28;01mNone\u001b[39;00m  \u001b[38;5;66;03m# for mypy\u001b[39;00m\n\u001b[1;32m    852\u001b[0m \u001b[38;5;28;01mif\u001b[39;00m \u001b[38;5;129;01mnot\u001b[39;00m run_result\u001b[38;5;241m.\u001b[39mHasField(\u001b[38;5;124m\"\u001b[39m\u001b[38;5;124mrun\u001b[39m\u001b[38;5;124m\"\u001b[39m):\n",
            "\u001b[0;31mCommError\u001b[0m: Run initialization has timed out after 90.0 sec. \nPlease refer to the documentation for additional information: https://docs.wandb.ai/guides/track/tracking-faq#initstarterror-error-communicating-with-wandb-process-"
          ]
        }
      ],
      "source": [
        "if args.no_wandb:\n",
        "    mode = 'disabled'\n",
        "else:\n",
        "    wandb.login()\n",
        "    mode = 'online' if args.online else 'offline'\n",
        "    kwargs = {'entity': args.wandb_usr, 'name': args.exp_name, 'project': 'e3_diffusion', 'config': args,\n",
        "          'settings': wandb.Settings(_disable_stats=True), 'reinit': True, 'mode': 'offline'}\n",
        "wandb.init(**kwargs)"
      ]
    },
    {
      "cell_type": "code",
      "execution_count": 21,
      "metadata": {
        "id": "fkqjlJn6DxHK"
      },
      "outputs": [],
      "source": [
        "from src.model_utils import Queue"
      ]
    },
    {
      "cell_type": "code",
      "execution_count": 45,
      "metadata": {
        "id": "zmQFHlVJDxHK"
      },
      "outputs": [],
      "source": [
        "gradnorm_queue = Queue()\n",
        "gradnorm_queue.add(3000)"
      ]
    },
    {
      "cell_type": "code",
      "execution_count": 46,
      "metadata": {
        "id": "_e8Ou7wIaoMC"
      },
      "outputs": [],
      "source": [
        "# prompt: Get the size of object 'model'\n",
        "\n",
        "# print(f\"Size of model: {sum(p.numel() for p in model.parameters() if p.requires_grad)}\")\n",
        "\n",
        "# print(f\"Allocated memory: {torch.cuda.memory_allocated()} bytes\")\n",
        "# print(f\"Reserved memory: {torch.cuda.memory_reserved()} bytes\")\n",
        "# print(f\"Max memory: {torch.cuda.max_memory_allocated()} bytes\")"
      ]
    },
    {
      "cell_type": "code",
      "execution_count": 47,
      "metadata": {
        "colab": {
          "base_uri": "https://localhost:8080/",
          "height": 1000
        },
        "id": "oUztWFxKDxHK",
        "outputId": "83edfe35-380f-42bb-e601-8181f9fe0b81"
      },
      "outputs": [
        {
          "name": "stdout",
          "output_type": "stream",
          "text": [
            "Clipped gradient with value 719886514913280.0 while allowed 4500.0\n",
            "Epoch: 0, iter: 0/34, Loss 43089596416.00, NLL: 43089596416.00, RegTerm: 0.0, GradNorm: 719886514913280.0\n",
            "Clipped gradient with value 634017415168.0 while allowed 7125.0\n",
            "Epoch: 0, iter: 1/34, Loss 131923400.00, NLL: 131923400.00, RegTerm: 0.0, GradNorm: 634017415168.0\n",
            "Clipped gradient with value 561057215021056.0 while allowed 10722.0\n",
            "Epoch: 0, iter: 2/34, Loss 81993719808.00, NLL: 81993719808.00, RegTerm: 0.0, GradNorm: 561057215021056.0\n",
            "Clipped gradient with value 5941564014592.0 while allowed 15366.9\n",
            "Epoch: 0, iter: 3/34, Loss 135106752.00, NLL: 135106752.00, RegTerm: 0.0, GradNorm: 5941564014592.0\n",
            "Clipped gradient with value 126448848.0 while allowed 21140.3\n",
            "Epoch: 0, iter: 4/34, Loss 14988.06, NLL: 14988.06, RegTerm: 0.0, GradNorm: 126448848.0\n",
            "Clipped gradient with value 3861186816.0 while allowed 28122.5\n",
            "Epoch: 0, iter: 5/34, Loss 471150.84, NLL: 471150.84, RegTerm: 0.0, GradNorm: 3861186816.0\n",
            "Clipped gradient with value 2243861774598144.0 while allowed 36391.4\n",
            "Epoch: 0, iter: 6/34, Loss 235324571648.00, NLL: 235324571648.00, RegTerm: 0.0, GradNorm: 2243861774598144.0\n",
            "Clipped gradient with value 1847534157824.0 while allowed 46022.6\n",
            "Epoch: 0, iter: 7/34, Loss 21366910.00, NLL: 21366910.00, RegTerm: 0.0, GradNorm: 1847534157824.0\n",
            "Clipped gradient with value 15935690.0 while allowed 57088.7\n",
            "Epoch: 0, iter: 8/34, Loss 2832.85, NLL: 2832.85, RegTerm: 0.0, GradNorm: 15935690.0\n",
            "Clipped gradient with value 7283065.0 while allowed 69660.3\n",
            "Epoch: 0, iter: 9/34, Loss 582.32, NLL: 582.32, RegTerm: 0.0, GradNorm: 7283065.0\n",
            "Clipped gradient with value 4145471488.0 while allowed 83805.6\n",
            "Epoch: 0, iter: 10/34, Loss 98571.16, NLL: 98571.16, RegTerm: 0.0, GradNorm: 4145471488.0\n",
            "Clipped gradient with value 100674168.0 while allowed 99591.1\n",
            "Epoch: 0, iter: 11/34, Loss 8578.02, NLL: 8578.02, RegTerm: 0.0, GradNorm: 100674168.0\n",
            "Clipped gradient with value 8819562250240.0 while allowed 117081.0\n",
            "Epoch: 0, iter: 12/34, Loss 854794368.00, NLL: 854794368.00, RegTerm: 0.0, GradNorm: 8819562250240.0\n",
            "Clipped gradient with value 33193772187648.0 while allowed 136338.3\n",
            "Epoch: 0, iter: 13/34, Loss 1464300928.00, NLL: 1464300928.00, RegTerm: 0.0, GradNorm: 33193772187648.0\n",
            "Epoch: 0, iter: 14/34, Loss 7.82, NLL: 7.82, RegTerm: 0.0, GradNorm: 7003.8\n",
            "Clipped gradient with value 389123600809984.0 while allowed 153334.3\n",
            "Epoch: 0, iter: 15/34, Loss 70459531264.00, NLL: 70459531264.00, RegTerm: 0.0, GradNorm: 389123600809984.0\n",
            "Clipped gradient with value 23915183210496.0 while allowed 174590.7\n",
            "Epoch: 0, iter: 16/34, Loss 4618997760.00, NLL: 4618997760.00, RegTerm: 0.0, GradNorm: 23915183210496.0\n",
            "Clipped gradient with value 6677888000.0 while allowed 197553.2\n",
            "Epoch: 0, iter: 17/34, Loss 953195.88, NLL: 953195.88, RegTerm: 0.0, GradNorm: 6677888000.0\n",
            "Clipped gradient with value 127160240.0 while allowed 222269.8\n",
            "Epoch: 0, iter: 18/34, Loss 10618.31, NLL: 10618.31, RegTerm: 0.0, GradNorm: 127160240.0\n",
            "Clipped gradient with value 768712128.0 while allowed 248787.6\n",
            "Epoch: 0, iter: 19/34, Loss 116885.88, NLL: 116885.88, RegTerm: 0.0, GradNorm: 768712128.0\n",
            "Clipped gradient with value 10066537218048.0 while allowed 277152.9\n",
            "Epoch: 0, iter: 20/34, Loss 852571584.00, NLL: 852571584.00, RegTerm: 0.0, GradNorm: 10066537218048.0\n",
            "Clipped gradient with value 2204887808.0 while allowed 307410.8\n",
            "Epoch: 0, iter: 21/34, Loss 242876.34, NLL: 242876.34, RegTerm: 0.0, GradNorm: 2204887808.0\n",
            "Clipped gradient with value 12970315743232.0 while allowed 339606.0\n",
            "Epoch: 0, iter: 22/34, Loss 751469568.00, NLL: 751469568.00, RegTerm: 0.0, GradNorm: 12970315743232.0\n",
            "Epoch: 0, iter: 23/34, Loss 61.50, NLL: 61.50, RegTerm: 0.0, GradNorm: 63440.4\n",
            "Clipped gradient with value 39154970624.0 while allowed 367594.0\n",
            "Epoch: 0, iter: 24/34, Loss 2471367.25, NLL: 2471367.25, RegTerm: 0.0, GradNorm: 39154970624.0\n",
            "Clipped gradient with value 3871419392.0 while allowed 401897.4\n",
            "Epoch: 0, iter: 25/34, Loss 105745.75, NLL: 105745.75, RegTerm: 0.0, GradNorm: 3871419392.0\n",
            "Clipped gradient with value 6760079.0 while allowed 438091.0\n",
            "Epoch: 0, iter: 26/34, Loss 1210.13, NLL: 1210.13, RegTerm: 0.0, GradNorm: 6760079.0\n",
            "Clipped gradient with value 385480288.0 while allowed 476211.6\n",
            "Epoch: 0, iter: 27/34, Loss 88140.33, NLL: 88140.33, RegTerm: 0.0, GradNorm: 385480288.0\n",
            "Clipped gradient with value 4833255882752.0 while allowed 516295.5\n",
            "Epoch: 0, iter: 28/34, Loss 557817088.00, NLL: 557817088.00, RegTerm: 0.0, GradNorm: 4833255882752.0\n",
            "Clipped gradient with value 22654569506930688.0 while allowed 558378.8\n",
            "Epoch: 0, iter: 29/34, Loss 2677346926592.00, NLL: 2677346926592.00, RegTerm: 0.0, GradNorm: 22654569506930688.0\n",
            "Clipped gradient with value 379997696.0 while allowed 602496.8\n",
            "Epoch: 0, iter: 30/34, Loss 110641.30, NLL: 110641.30, RegTerm: 0.0, GradNorm: 379997696.0\n",
            "Clipped gradient with value 129942176.0 while allowed 648684.5\n",
            "Epoch: 0, iter: 31/34, Loss 55862.70, NLL: 55862.70, RegTerm: 0.0, GradNorm: 129942176.0\n",
            "Clipped gradient with value 635915264.0 while allowed 696976.5\n",
            "Epoch: 0, iter: 32/34, Loss 163923.00, NLL: 163923.00, RegTerm: 0.0, GradNorm: 635915264.0\n",
            "Clipped gradient with value 30095270.0 while allowed 747407.0\n",
            "Epoch: 0, iter: 33/34, Loss 4419.74, NLL: 4419.74, RegTerm: 0.0, GradNorm: 30095270.0\n"
          ]
        },
        {
          "ename": "AssertionError",
          "evalue": "Variables not masked properly.",
          "output_type": "error",
          "traceback": [
            "\u001b[0;31m---------------------------------------------------------------------------\u001b[0m",
            "\u001b[0;31mAssertionError\u001b[0m                            Traceback (most recent call last)",
            "Cell \u001b[0;32mIn[47], line 10\u001b[0m\n\u001b[1;32m      8\u001b[0m train_loss[epoch] \u001b[38;5;241m=\u001b[39m nll_train\n\u001b[1;32m      9\u001b[0m \u001b[38;5;28;01mif\u001b[39;00m epoch \u001b[38;5;241m%\u001b[39m args\u001b[38;5;241m.\u001b[39mtest_epochs \u001b[38;5;241m==\u001b[39m \u001b[38;5;241m0\u001b[39m:\n\u001b[0;32m---> 10\u001b[0m     nll_test \u001b[38;5;241m=\u001b[39m \u001b[43mtest\u001b[49m\u001b[43m(\u001b[49m\u001b[43margs\u001b[49m\u001b[38;5;241;43m=\u001b[39;49m\u001b[43margs\u001b[49m\u001b[43m,\u001b[49m\u001b[43m \u001b[49m\u001b[43mloader\u001b[49m\u001b[38;5;241;43m=\u001b[39;49m\u001b[43mtest_dataloader\u001b[49m\u001b[43m,\u001b[49m\u001b[43m \u001b[49m\u001b[43mepoch\u001b[49m\u001b[38;5;241;43m=\u001b[39;49m\u001b[43mepoch\u001b[49m\u001b[43m,\u001b[49m\u001b[43m \u001b[49m\u001b[43meval_model\u001b[49m\u001b[38;5;241;43m=\u001b[39;49m\u001b[43mmodel\u001b[49m\u001b[43m,\u001b[49m\n\u001b[1;32m     11\u001b[0m \u001b[43m                    \u001b[49m\u001b[43mpartition\u001b[49m\u001b[38;5;241;43m=\u001b[39;49m\u001b[38;5;124;43m'\u001b[39;49m\u001b[38;5;124;43mTest\u001b[39;49m\u001b[38;5;124;43m'\u001b[39;49m\u001b[43m,\u001b[49m\u001b[43m \u001b[49m\u001b[43mdevice\u001b[49m\u001b[38;5;241;43m=\u001b[39;49m\u001b[43mdevice\u001b[49m\u001b[43m,\u001b[49m\u001b[43m \u001b[49m\u001b[43mdtype\u001b[49m\u001b[38;5;241;43m=\u001b[39;49m\u001b[43mtorch\u001b[49m\u001b[38;5;241;43m.\u001b[39;49m\u001b[43mfloat32\u001b[49m\u001b[43m,\u001b[49m\n\u001b[1;32m     12\u001b[0m \u001b[43m                    \u001b[49m\u001b[43mnodes_dist\u001b[49m\u001b[38;5;241;43m=\u001b[39;49m\u001b[43mnodes_dist\u001b[49m\u001b[43m,\u001b[49m\u001b[43m \u001b[49m\u001b[43mproperty_norms\u001b[49m\u001b[38;5;241;43m=\u001b[39;49m\u001b[38;5;28;43;01mNone\u001b[39;49;00m\u001b[43m)\u001b[49m\n\u001b[1;32m     13\u001b[0m     test_loss[epoch] \u001b[38;5;241m=\u001b[39m nll_test\n",
            "File \u001b[0;32m~/Documents/NUS Computing/02 CS5284 - Graph Machine Learning/Project/protein-coordinates/notebooks/../src/train_test.py:136\u001b[0m, in \u001b[0;36mtest\u001b[0;34m(args, loader, epoch, eval_model, device, dtype, property_norms, nodes_dist, partition)\u001b[0m\n\u001b[1;32m    133\u001b[0m     x \u001b[38;5;241m=\u001b[39m x \u001b[38;5;241m+\u001b[39m eps \u001b[38;5;241m*\u001b[39m args\u001b[38;5;241m.\u001b[39maugment_noise\n\u001b[1;32m    135\u001b[0m x \u001b[38;5;241m=\u001b[39m remove_mean_with_mask(x, node_mask)\n\u001b[0;32m--> 136\u001b[0m \u001b[43mcheck_mask_correct\u001b[49m\u001b[43m(\u001b[49m\u001b[43m[\u001b[49m\u001b[43mx\u001b[49m\u001b[43m,\u001b[49m\u001b[43m \u001b[49m\u001b[43mone_hot\u001b[49m\u001b[43m,\u001b[49m\u001b[43m \u001b[49m\u001b[43mcharges\u001b[49m\u001b[43m]\u001b[49m\u001b[43m,\u001b[49m\u001b[43m \u001b[49m\u001b[43mnode_mask\u001b[49m\u001b[43m)\u001b[49m\n\u001b[1;32m    137\u001b[0m assert_mean_zero_with_mask(x, node_mask)\n\u001b[1;32m    139\u001b[0m h \u001b[38;5;241m=\u001b[39m {\u001b[38;5;124m'\u001b[39m\u001b[38;5;124mcategorical\u001b[39m\u001b[38;5;124m'\u001b[39m: one_hot, \u001b[38;5;124m'\u001b[39m\u001b[38;5;124minteger\u001b[39m\u001b[38;5;124m'\u001b[39m: charges}\n",
            "File \u001b[0;32m~/Documents/NUS Computing/02 CS5284 - Graph Machine Learning/Project/protein-coordinates/notebooks/../src/train_test.py:109\u001b[0m, in \u001b[0;36mcheck_mask_correct\u001b[0;34m(variables, node_mask)\u001b[0m\n\u001b[1;32m    107\u001b[0m \u001b[38;5;28;01mfor\u001b[39;00m i, variable \u001b[38;5;129;01min\u001b[39;00m \u001b[38;5;28menumerate\u001b[39m(variables):\n\u001b[1;32m    108\u001b[0m     \u001b[38;5;28;01mif\u001b[39;00m \u001b[38;5;28mlen\u001b[39m(variable) \u001b[38;5;241m>\u001b[39m \u001b[38;5;241m0\u001b[39m:\n\u001b[0;32m--> 109\u001b[0m         \u001b[43massert_correctly_masked\u001b[49m\u001b[43m(\u001b[49m\u001b[43mvariable\u001b[49m\u001b[43m,\u001b[49m\u001b[43m \u001b[49m\u001b[43mnode_mask\u001b[49m\u001b[43m)\u001b[49m\n",
            "File \u001b[0;32m~/Documents/NUS Computing/02 CS5284 - Graph Machine Learning/Project/protein-coordinates/notebooks/../src/models/equivariant_diffusion/utils.py:55\u001b[0m, in \u001b[0;36massert_correctly_masked\u001b[0;34m(variable, node_mask)\u001b[0m\n\u001b[1;32m     54\u001b[0m \u001b[38;5;28;01mdef\u001b[39;00m \u001b[38;5;21massert_correctly_masked\u001b[39m(variable, node_mask):\n\u001b[0;32m---> 55\u001b[0m     \u001b[38;5;28;01massert\u001b[39;00m (variable \u001b[38;5;241m*\u001b[39m (\u001b[38;5;241m1\u001b[39m \u001b[38;5;241m-\u001b[39m node_mask))\u001b[38;5;241m.\u001b[39mabs()\u001b[38;5;241m.\u001b[39mmax()\u001b[38;5;241m.\u001b[39mitem() \u001b[38;5;241m<\u001b[39m \u001b[38;5;241m1e-4\u001b[39m, \\\n\u001b[1;32m     56\u001b[0m         \u001b[38;5;124m'\u001b[39m\u001b[38;5;124mVariables not masked properly.\u001b[39m\u001b[38;5;124m'\u001b[39m\n",
            "\u001b[0;31mAssertionError\u001b[0m: Variables not masked properly."
          ]
        }
      ],
      "source": [
        "train_loss = {}\n",
        "test_loss = {}\n",
        "for epoch in range(args.n_epochs):\n",
        "    nll_train = train_epoch(args=args, loader=train_dataloader, epoch=epoch, model=model, model_dp=model,\n",
        "                    model_ema=model, ema=None, device=device, dtype=torch.float32, property_norms=None,\n",
        "                    nodes_dist=nodes_dist, dataset_info=dataset_info,\n",
        "                    gradnorm_queue=gradnorm_queue, optim=optim, prop_dist=prop_dist)\n",
        "    train_loss[epoch] = nll_train\n",
        "    if epoch % args.test_epochs == 0:\n",
        "        nll_test = test(args=args, loader=test_dataloader, epoch=epoch, eval_model=model,\n",
        "                        partition='Test', device=device, dtype=torch.float32,\n",
        "                        nodes_dist=nodes_dist, property_norms=None)\n",
        "        test_loss[epoch] = nll_test"
      ]
    },
    {
      "cell_type": "code",
      "execution_count": 50,
      "metadata": {},
      "outputs": [
        {
          "ename": "KeyError",
          "evalue": "342",
          "output_type": "error",
          "traceback": [
            "\u001b[0;31m---------------------------------------------------------------------------\u001b[0m",
            "\u001b[0;31mKeyError\u001b[0m                                  Traceback (most recent call last)",
            "Cell \u001b[0;32mIn[50], line 1\u001b[0m\n\u001b[0;32m----> 1\u001b[0m nll_test \u001b[38;5;241m=\u001b[39m \u001b[43mtest\u001b[49m\u001b[43m(\u001b[49m\u001b[43margs\u001b[49m\u001b[38;5;241;43m=\u001b[39;49m\u001b[43margs\u001b[49m\u001b[43m,\u001b[49m\u001b[43m \u001b[49m\u001b[43mloader\u001b[49m\u001b[38;5;241;43m=\u001b[39;49m\u001b[43mtest_dataloader\u001b[49m\u001b[43m,\u001b[49m\u001b[43m \u001b[49m\u001b[43mepoch\u001b[49m\u001b[38;5;241;43m=\u001b[39;49m\u001b[43mepoch\u001b[49m\u001b[43m,\u001b[49m\u001b[43m \u001b[49m\u001b[43meval_model\u001b[49m\u001b[38;5;241;43m=\u001b[39;49m\u001b[43mmodel\u001b[49m\u001b[43m,\u001b[49m\n\u001b[1;32m      2\u001b[0m \u001b[43m                        \u001b[49m\u001b[43mpartition\u001b[49m\u001b[38;5;241;43m=\u001b[39;49m\u001b[38;5;124;43m'\u001b[39;49m\u001b[38;5;124;43mTest\u001b[39;49m\u001b[38;5;124;43m'\u001b[39;49m\u001b[43m,\u001b[49m\u001b[43m \u001b[49m\u001b[43mdevice\u001b[49m\u001b[38;5;241;43m=\u001b[39;49m\u001b[43mdevice\u001b[49m\u001b[43m,\u001b[49m\u001b[43m \u001b[49m\u001b[43mdtype\u001b[49m\u001b[38;5;241;43m=\u001b[39;49m\u001b[43mtorch\u001b[49m\u001b[38;5;241;43m.\u001b[39;49m\u001b[43mfloat32\u001b[49m\u001b[43m,\u001b[49m\n\u001b[1;32m      3\u001b[0m \u001b[43m                        \u001b[49m\u001b[43mnodes_dist\u001b[49m\u001b[38;5;241;43m=\u001b[39;49m\u001b[43mnodes_dist\u001b[49m\u001b[43m,\u001b[49m\u001b[43m \u001b[49m\u001b[43mproperty_norms\u001b[49m\u001b[38;5;241;43m=\u001b[39;49m\u001b[38;5;28;43;01mNone\u001b[39;49;00m\u001b[43m)\u001b[49m\n",
            "File \u001b[0;32m~/Documents/NUS Computing/02 CS5284 - Graph Machine Learning/Project/protein-coordinates/notebooks/../src/train_test.py:149\u001b[0m, in \u001b[0;36mtest\u001b[0;34m(args, loader, epoch, eval_model, device, dtype, property_norms, nodes_dist, partition)\u001b[0m\n\u001b[1;32m    146\u001b[0m     context \u001b[38;5;241m=\u001b[39m \u001b[38;5;28;01mNone\u001b[39;00m\n\u001b[1;32m    148\u001b[0m \u001b[38;5;66;03m# transform batch through flow\u001b[39;00m\n\u001b[0;32m--> 149\u001b[0m nll, _, _ \u001b[38;5;241m=\u001b[39m \u001b[43mlosses\u001b[49m\u001b[38;5;241;43m.\u001b[39;49m\u001b[43mcompute_loss_and_nll\u001b[49m\u001b[43m(\u001b[49m\u001b[43margs\u001b[49m\u001b[43m,\u001b[49m\u001b[43m \u001b[49m\u001b[43meval_model\u001b[49m\u001b[43m,\u001b[49m\u001b[43m \u001b[49m\u001b[43mnodes_dist\u001b[49m\u001b[43m,\u001b[49m\u001b[43m \u001b[49m\u001b[43mx\u001b[49m\u001b[43m,\u001b[49m\u001b[43m \u001b[49m\u001b[43mh\u001b[49m\u001b[43m,\u001b[49m\n\u001b[1;32m    150\u001b[0m \u001b[43m                                        \u001b[49m\u001b[43mnode_mask\u001b[49m\u001b[43m,\u001b[49m\u001b[43m \u001b[49m\u001b[43medge_mask\u001b[49m\u001b[43m,\u001b[49m\u001b[43m \u001b[49m\u001b[43mcontext\u001b[49m\u001b[43m)\u001b[49m\n\u001b[1;32m    151\u001b[0m \u001b[38;5;66;03m# standard nll from forward KL\u001b[39;00m\n\u001b[1;32m    153\u001b[0m nll_epoch \u001b[38;5;241m+\u001b[39m\u001b[38;5;241m=\u001b[39m nll\u001b[38;5;241m.\u001b[39mitem() \u001b[38;5;241m*\u001b[39m batch_size\n",
            "File \u001b[0;32m~/Documents/NUS Computing/02 CS5284 - Graph Machine Learning/Project/protein-coordinates/notebooks/../src/models/losses.py:27\u001b[0m, in \u001b[0;36mcompute_loss_and_nll\u001b[0;34m(args, generative_model, nodes_dist, x, h, node_mask, edge_mask, context)\u001b[0m\n\u001b[1;32m     23\u001b[0m nll \u001b[38;5;241m=\u001b[39m generative_model(x, h, node_mask, edge_mask, context)\n\u001b[1;32m     25\u001b[0m N \u001b[38;5;241m=\u001b[39m node_mask\u001b[38;5;241m.\u001b[39msqueeze(\u001b[38;5;241m2\u001b[39m)\u001b[38;5;241m.\u001b[39msum(\u001b[38;5;241m1\u001b[39m)\u001b[38;5;241m.\u001b[39mlong()\n\u001b[0;32m---> 27\u001b[0m log_pN \u001b[38;5;241m=\u001b[39m \u001b[43mnodes_dist\u001b[49m\u001b[38;5;241;43m.\u001b[39;49m\u001b[43mlog_prob\u001b[49m\u001b[43m(\u001b[49m\u001b[43mN\u001b[49m\u001b[43m)\u001b[49m\n\u001b[1;32m     29\u001b[0m \u001b[38;5;28;01massert\u001b[39;00m nll\u001b[38;5;241m.\u001b[39msize() \u001b[38;5;241m==\u001b[39m log_pN\u001b[38;5;241m.\u001b[39msize()\n\u001b[1;32m     30\u001b[0m nll \u001b[38;5;241m=\u001b[39m nll \u001b[38;5;241m-\u001b[39m log_pN\n",
            "File \u001b[0;32m~/Documents/NUS Computing/02 CS5284 - Graph Machine Learning/Project/protein-coordinates/notebooks/../src/models/prepare_models.py:88\u001b[0m, in \u001b[0;36mDistributionNodes.log_prob\u001b[0;34m(self, batch_n_nodes)\u001b[0m\n\u001b[1;32m     85\u001b[0m \u001b[38;5;28;01mdef\u001b[39;00m \u001b[38;5;21mlog_prob\u001b[39m(\u001b[38;5;28mself\u001b[39m, batch_n_nodes):\n\u001b[1;32m     86\u001b[0m     \u001b[38;5;28;01massert\u001b[39;00m \u001b[38;5;28mlen\u001b[39m(batch_n_nodes\u001b[38;5;241m.\u001b[39msize()) \u001b[38;5;241m==\u001b[39m \u001b[38;5;241m1\u001b[39m\n\u001b[0;32m---> 88\u001b[0m     idcs \u001b[38;5;241m=\u001b[39m \u001b[43m[\u001b[49m\u001b[38;5;28;43mself\u001b[39;49m\u001b[38;5;241;43m.\u001b[39;49m\u001b[43mkeys\u001b[49m\u001b[43m[\u001b[49m\u001b[43mi\u001b[49m\u001b[38;5;241;43m.\u001b[39;49m\u001b[43mitem\u001b[49m\u001b[43m(\u001b[49m\u001b[43m)\u001b[49m\u001b[43m]\u001b[49m\u001b[43m \u001b[49m\u001b[38;5;28;43;01mfor\u001b[39;49;00m\u001b[43m \u001b[49m\u001b[43mi\u001b[49m\u001b[43m \u001b[49m\u001b[38;5;129;43;01min\u001b[39;49;00m\u001b[43m \u001b[49m\u001b[43mbatch_n_nodes\u001b[49m\u001b[43m]\u001b[49m\n\u001b[1;32m     89\u001b[0m     idcs \u001b[38;5;241m=\u001b[39m torch\u001b[38;5;241m.\u001b[39mtensor(idcs)\u001b[38;5;241m.\u001b[39mto(batch_n_nodes\u001b[38;5;241m.\u001b[39mdevice)\n\u001b[1;32m     91\u001b[0m     log_p \u001b[38;5;241m=\u001b[39m torch\u001b[38;5;241m.\u001b[39mlog(\u001b[38;5;28mself\u001b[39m\u001b[38;5;241m.\u001b[39mprob \u001b[38;5;241m+\u001b[39m \u001b[38;5;241m1e-30\u001b[39m)\n",
            "File \u001b[0;32m~/Documents/NUS Computing/02 CS5284 - Graph Machine Learning/Project/protein-coordinates/notebooks/../src/models/prepare_models.py:88\u001b[0m, in \u001b[0;36m<listcomp>\u001b[0;34m(.0)\u001b[0m\n\u001b[1;32m     85\u001b[0m \u001b[38;5;28;01mdef\u001b[39;00m \u001b[38;5;21mlog_prob\u001b[39m(\u001b[38;5;28mself\u001b[39m, batch_n_nodes):\n\u001b[1;32m     86\u001b[0m     \u001b[38;5;28;01massert\u001b[39;00m \u001b[38;5;28mlen\u001b[39m(batch_n_nodes\u001b[38;5;241m.\u001b[39msize()) \u001b[38;5;241m==\u001b[39m \u001b[38;5;241m1\u001b[39m\n\u001b[0;32m---> 88\u001b[0m     idcs \u001b[38;5;241m=\u001b[39m [\u001b[38;5;28;43mself\u001b[39;49m\u001b[38;5;241;43m.\u001b[39;49m\u001b[43mkeys\u001b[49m\u001b[43m[\u001b[49m\u001b[43mi\u001b[49m\u001b[38;5;241;43m.\u001b[39;49m\u001b[43mitem\u001b[49m\u001b[43m(\u001b[49m\u001b[43m)\u001b[49m\u001b[43m]\u001b[49m \u001b[38;5;28;01mfor\u001b[39;00m i \u001b[38;5;129;01min\u001b[39;00m batch_n_nodes]\n\u001b[1;32m     89\u001b[0m     idcs \u001b[38;5;241m=\u001b[39m torch\u001b[38;5;241m.\u001b[39mtensor(idcs)\u001b[38;5;241m.\u001b[39mto(batch_n_nodes\u001b[38;5;241m.\u001b[39mdevice)\n\u001b[1;32m     91\u001b[0m     log_p \u001b[38;5;241m=\u001b[39m torch\u001b[38;5;241m.\u001b[39mlog(\u001b[38;5;28mself\u001b[39m\u001b[38;5;241m.\u001b[39mprob \u001b[38;5;241m+\u001b[39m \u001b[38;5;241m1e-30\u001b[39m)\n",
            "\u001b[0;31mKeyError\u001b[0m: 342"
          ]
        }
      ],
      "source": [
        "nll_test = test(args=args, loader=test_dataloader, epoch=epoch, eval_model=model,\n",
        "                        partition='Test', device=device, dtype=torch.float32,\n",
        "                        nodes_dist=nodes_dist, property_norms=None)"
      ]
    },
    {
      "cell_type": "markdown",
      "metadata": {
        "id": "ry6pDAnKZYJl"
      },
      "source": []
    }
  ],
  "metadata": {
    "colab": {
      "collapsed_sections": [
        "RVVuE8-ADxHH"
      ],
      "provenance": []
    },
    "kernelspec": {
      "display_name": "Python 3",
      "name": "python3"
    },
    "language_info": {
      "codemirror_mode": {
        "name": "ipython",
        "version": 3
      },
      "file_extension": ".py",
      "mimetype": "text/x-python",
      "name": "python",
      "nbconvert_exporter": "python",
      "pygments_lexer": "ipython3",
      "version": "3.11.10"
    }
  },
  "nbformat": 4,
  "nbformat_minor": 0
}
