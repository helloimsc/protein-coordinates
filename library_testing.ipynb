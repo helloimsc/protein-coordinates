{
 "cells": [
  {
   "cell_type": "code",
   "execution_count": 4,
   "id": "38c7ddcf-2408-47c8-88dd-067b58da065a",
   "metadata": {},
   "outputs": [],
   "source": [
    "import torch\n",
    "import torch.nn as nn\n",
    "import data_read\n",
    "import dgl\n",
    "\n",
    "%load_ext autoreload\n",
    "%autoreload 2"
   ]
  },
  {
   "cell_type": "markdown",
   "id": "a1363148-f558-4cfa-8b13-13623f0d0d91",
   "metadata": {},
   "source": [
    "PDB -> DGL Graph Test"
   ]
  },
  {
   "cell_type": "code",
   "execution_count": 20,
   "id": "ad29ae56-3290-471d-b4c9-1e4c8c248a89",
   "metadata": {},
   "outputs": [
    {
     "name": "stdout",
     "output_type": "stream",
     "text": [
      "The shape of the frames tensor is torch.Size([1607, 4, 3])\n",
      "The shape of the i_seq tensor is torch.Size([1607])\n",
      "The shape of the forward vector is torch.Size([1607, 3])\n",
      "The shape of the reverse vector is torch.Size([1607, 3])\n",
      "The shape of the side vector is torch.Size([1607, 3])\n"
     ]
    },
    {
     "name": "stderr",
     "output_type": "stream",
     "text": [
      "/opt/homebrew/Caskroom/miniconda/base/envs/gvp/lib/python3.11/site-packages/Bio/PDB/StructureBuilder.py:100: PDBConstructionWarning: WARNING: Chain B is discontinuous at line 14690.\n",
      "  warnings.warn(\n"
     ]
    }
   ],
   "source": [
    "pdb_graph = data_read.generate_graph('8y9b.pdb',k=30,rbf_dim=16,sc_dim=16,sc_n=10000)"
   ]
  },
  {
   "cell_type": "code",
   "execution_count": 22,
   "id": "70e412c1",
   "metadata": {},
   "outputs": [
    {
     "data": {
      "text/plain": [
       "torch.Size([1607, 3])"
      ]
     },
     "execution_count": 22,
     "metadata": {},
     "output_type": "execute_result"
    }
   ],
   "source": [
    "pdb_graph[0].ndata['x'].shape"
   ]
  },
  {
   "cell_type": "code",
   "execution_count": 23,
   "id": "9df316f6",
   "metadata": {},
   "outputs": [
    {
     "data": {
      "text/plain": [
       "torch.Size([1607])"
      ]
     },
     "execution_count": 23,
     "metadata": {},
     "output_type": "execute_result"
    }
   ],
   "source": [
    "pdb_graph[1].shape"
   ]
  },
  {
   "cell_type": "code",
   "execution_count": 31,
   "id": "94b53ae9",
   "metadata": {},
   "outputs": [],
   "source": [
    "import numpy as np\n",
    "data = np.load('data/cath_3class_ca.npz')"
   ]
  },
  {
   "cell_type": "code",
   "execution_count": 37,
   "id": "7ac4af41",
   "metadata": {},
   "outputs": [
    {
     "data": {
      "text/plain": [
       "(16962,)"
      ]
     },
     "execution_count": 37,
     "metadata": {},
     "output_type": "execute_result"
    }
   ],
   "source": [
    "data[\"n_atoms\"].shape"
   ]
  },
  {
   "cell_type": "markdown",
   "id": "a4139922-bffd-4b6c-a576-b7018c3cfad1",
   "metadata": {},
   "source": [
    "Noising Test"
   ]
  },
  {
   "cell_type": "code",
   "execution_count": 24,
   "id": "5232f615-3950-4efa-aab4-ea7f6fcd1ebd",
   "metadata": {},
   "outputs": [],
   "source": [
    "import torch\n",
    "import torch.nn as nn\n",
    "import pickle\n",
    "import numpy as np\n",
    "import os\n",
    "import logging\n",
    "\n",
    "from scipy.spatial.transform import Rotation as scipy_R\n",
    "\n",
    "import time\n",
    "\n",
    "import numpy as np\n",
    "import modified_diffusion"
   ]
  },
  {
   "cell_type": "code",
   "execution_count": 25,
   "id": "dee9a5ef-080b-4ee8-b1b6-db4b9a443b1b",
   "metadata": {},
   "outputs": [],
   "source": [
    "#Create IGSO3 Noising Function\n",
    "igso3 = modified_diffusion.IGSO3(T=100,min_sigma=0.05,max_sigma=0.1,min_b=0.0001,max_b=0.02,cache_dir=\"./cache\")"
   ]
  },
  {
   "cell_type": "code",
   "execution_count": 26,
   "id": "33d9c957-be9f-40af-9971-d9d5552de9f2",
   "metadata": {
    "scrolled": true
   },
   "outputs": [],
   "source": [
    "diffused=igso3.diffuse_frames(5) #Assuming 5 amino acids in the protein\n",
    "diffused=torch.tensor(diffused)\n",
    "aa=torch.rand(5,3,dtype=torch.double).unsqueeze(dim=-1)\n",
    "diffused_vec=torch.einsum('tnij,njk->tnik',diffused,aa).flatten(start_dim=-2)"
   ]
  },
  {
   "cell_type": "code",
   "execution_count": 28,
   "id": "d93201ac-94d6-4327-a590-78b947a5b995",
   "metadata": {},
   "outputs": [
    {
     "data": {
      "text/plain": [
       "torch.Size([100, 5, 3, 3])"
      ]
     },
     "execution_count": 28,
     "metadata": {},
     "output_type": "execute_result"
    }
   ],
   "source": [
    "diffused.shape"
   ]
  },
  {
   "cell_type": "code",
   "execution_count": null,
   "id": "e737911d",
   "metadata": {},
   "outputs": [],
   "source": []
  }
 ],
 "metadata": {
  "kernelspec": {
   "display_name": "Python 3 (ipykernel)",
   "language": "python",
   "name": "python3"
  },
  "language_info": {
   "codemirror_mode": {
    "name": "ipython",
    "version": 3
   },
   "file_extension": ".py",
   "mimetype": "text/x-python",
   "name": "python",
   "nbconvert_exporter": "python",
   "pygments_lexer": "ipython3",
   "version": "3.11.10"
  }
 },
 "nbformat": 4,
 "nbformat_minor": 5
}
