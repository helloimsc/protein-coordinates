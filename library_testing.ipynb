{
 "cells": [
  {
   "cell_type": "code",
   "execution_count": 5,
   "id": "38c7ddcf-2408-47c8-88dd-067b58da065a",
   "metadata": {},
   "outputs": [],
   "source": [
    "import torch\n",
    "import torch.nn as nn\n",
    "import data_read\n",
    "import dgl"
   ]
  },
  {
   "cell_type": "markdown",
   "id": "a1363148-f558-4cfa-8b13-13623f0d0d91",
   "metadata": {},
   "source": [
    "PDB -> DGL Graph Test"
   ]
  },
  {
   "cell_type": "code",
   "execution_count": 2,
   "id": "ad29ae56-3290-471d-b4c9-1e4c8c248a89",
   "metadata": {},
   "outputs": [
    {
     "name": "stderr",
     "output_type": "stream",
     "text": [
      "/mnt/rna01/nico/miniconda3/envs/gvp/lib/python3.11/site-packages/Bio/PDB/StructureBuilder.py:100: PDBConstructionWarning: WARNING: Chain B is discontinuous at line 14690.\n",
      "  warnings.warn(\n"
     ]
    },
    {
     "data": {
      "text/plain": [
       "(Graph(num_nodes=1607, num_edges=48210,\n",
       "       ndata_schemes={'forward': Scheme(shape=(3,), dtype=torch.float64), 'reverse': Scheme(shape=(3,), dtype=torch.float64), 'side': Scheme(shape=(3,), dtype=torch.float64)}\n",
       "       edata_schemes={'rbf_dist': Scheme(shape=(16,), dtype=torch.float64), 'seq_embed': Scheme(shape=(32,), dtype=torch.float32), 'u_vec': Scheme(shape=(3,), dtype=torch.float64)}),\n",
       " tensor([15,  9, 17,  ...,  0, 11, 16]))"
      ]
     },
     "execution_count": 2,
     "metadata": {},
     "output_type": "execute_result"
    }
   ],
   "source": [
    "data_read.generate_graph('8y9b.pdb',k=30,rbf_dim=16,sc_dim=16,sc_n=10000)"
   ]
  },
  {
   "cell_type": "markdown",
   "id": "a4139922-bffd-4b6c-a576-b7018c3cfad1",
   "metadata": {},
   "source": [
    "Noising Test"
   ]
  },
  {
   "cell_type": "code",
   "execution_count": 6,
   "id": "5232f615-3950-4efa-aab4-ea7f6fcd1ebd",
   "metadata": {},
   "outputs": [],
   "source": [
    "import torch\n",
    "import torch.nn as nn\n",
    "import pickle\n",
    "import numpy as np\n",
    "import os\n",
    "import logging\n",
    "\n",
    "from scipy.spatial.transform import Rotation as scipy_R\n",
    "\n",
    "import time\n",
    "\n",
    "import numpy as np\n",
    "import modified_diffusion"
   ]
  },
  {
   "cell_type": "code",
   "execution_count": 10,
   "id": "dee9a5ef-080b-4ee8-b1b6-db4b9a443b1b",
   "metadata": {},
   "outputs": [],
   "source": [
    "#Create IGSO3 Noising Function\n",
    "igso3 = modified_diffusion.IGSO3(T=100,min_sigma=0.05,max_sigma=0.1,min_b=0.0001,max_b=0.02,cache_dir=\"./cache\")"
   ]
  },
  {
   "cell_type": "code",
   "execution_count": 11,
   "id": "33d9c957-be9f-40af-9971-d9d5552de9f2",
   "metadata": {
    "scrolled": true
   },
   "outputs": [
    {
     "ename": "AttributeError",
     "evalue": "'int' object has no attribute 'shape'",
     "output_type": "error",
     "traceback": [
      "\u001b[0;31m---------------------------------------------------------------------------\u001b[0m",
      "\u001b[0;31mAttributeError\u001b[0m                            Traceback (most recent call last)",
      "Cell \u001b[0;32mIn[11], line 1\u001b[0m\n\u001b[0;32m----> 1\u001b[0m diffused\u001b[38;5;241m=\u001b[39m\u001b[43migso3\u001b[49m\u001b[38;5;241;43m.\u001b[39;49m\u001b[43mdiffuse_frames\u001b[49m\u001b[43m(\u001b[49m\u001b[38;5;241;43m5\u001b[39;49m\u001b[43m)\u001b[49m \u001b[38;5;66;03m#Assuming 5 amino acids in the protein\u001b[39;00m\n\u001b[1;32m      2\u001b[0m aa\u001b[38;5;241m=\u001b[39mtorch\u001b[38;5;241m.\u001b[39mrand(\u001b[38;5;241m5\u001b[39m,\u001b[38;5;241m3\u001b[39m)\n\u001b[1;32m      3\u001b[0m diffused_vec\u001b[38;5;241m=\u001b[39mtorch\u001b[38;5;241m.\u001b[39meinsum(\u001b[38;5;124m'\u001b[39m\u001b[38;5;124mtnij,njk->tnik\u001b[39m\u001b[38;5;124m'\u001b[39m,diffused,a)\u001b[38;5;241m.\u001b[39mflatten(start_dim\u001b[38;5;241m=\u001b[39m\u001b[38;5;241m-\u001b[39m\u001b[38;5;241m2\u001b[39m)\n",
      "File \u001b[0;32m~/dynamics_project/learn/gvp/new_codes/modified_diffusion.py:327\u001b[0m, in \u001b[0;36mdiffuse_frames\u001b[0;34m(self, rot, diffusion_mask)\u001b[0m\n\u001b[1;32m    322\u001b[0m     return R_sampled \n\u001b[1;32m    323\u001b[0m     #diff_vectors=torch.einsum('tnij,njk->tnik',diffused,vectors).flatten(start_dim=-2) Shape: t x n_aa x 3\n\u001b[1;32m    325\u001b[0m def reverse_sample_vectorized(\n\u001b[1;32m    326\u001b[0m     self, R_t, R_0, t, noise_level, mask=None, return_perturb=False\n\u001b[0;32m--> 327\u001b[0m ):\n\u001b[1;32m    328\u001b[0m     \"\"\"reverse_sample uses an approximation to the IGSO3 score to sample\n\u001b[1;32m    329\u001b[0m     a rotation at the previous time step.\n\u001b[1;32m    330\u001b[0m \n\u001b[0;32m   (...)\u001b[0m\n\u001b[1;32m    365\u001b[0m     differential equations. arXiv preprint arXiv:2011.13456.\n\u001b[1;32m    366\u001b[0m     \"\"\"\n\u001b[1;32m    367\u001b[0m     # compute rotation vector corresponding to prediction of how r_t goes to r_0\n",
      "\u001b[0;31mAttributeError\u001b[0m: 'int' object has no attribute 'shape'"
     ]
    }
   ],
   "source": [
    "diffused=igso3.diffuse_frames(5) #Assuming 5 amino acids in the protein\n",
    "aa=torch.rand(5,3)\n",
    "diffused_vec=torch.einsum('tnij,njk->tnik',diffused,a).flatten(start_dim=-2)"
   ]
  },
  {
   "cell_type": "code",
   "execution_count": null,
   "id": "f286a724-307e-4f18-9123-2e7a23bb3685",
   "metadata": {},
   "outputs": [],
   "source": []
  }
 ],
 "metadata": {
  "kernelspec": {
   "display_name": "Python 3 (ipykernel)",
   "language": "python",
   "name": "python3"
  },
  "language_info": {
   "codemirror_mode": {
    "name": "ipython",
    "version": 3
   },
   "file_extension": ".py",
   "mimetype": "text/x-python",
   "name": "python",
   "nbconvert_exporter": "python",
   "pygments_lexer": "ipython3",
   "version": "3.11.10"
  }
 },
 "nbformat": 4,
 "nbformat_minor": 5
}
