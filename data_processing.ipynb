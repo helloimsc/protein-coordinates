{
 "cells": [
  {
   "cell_type": "code",
   "execution_count": 1,
   "id": "580d4b1f-c788-470d-939c-21e58ba58547",
   "metadata": {},
   "outputs": [],
   "source": [
    "import torch\n",
    "import numpy as np\n",
    "import warnings\n",
    "from Bio.PDB import PDBIO, Chain, Residue, Polypeptide, Atom, PDBParser, Selection\n",
    "from Bio.PDB.PDBExceptions import PDBConstructionWarning\n",
    "from protein_residues import normal as RESIDUES\n",
    "from Bio.SeqUtils import seq1, seq3\n",
    "warnings.simplefilter('error')\n",
    "list_path = \"./data/pdb_list\"\n",
    "pdb_path =\"./data/dompdb/\"\n",
    "parser = PDBParser(QUIET=True)"
   ]
  },
  {
   "cell_type": "code",
   "execution_count": 2,
   "id": "65259d3f-4d87-41d1-9e19-2a98ac26fddf",
   "metadata": {},
   "outputs": [],
   "source": [
    "def PROCESS_RESIDUES(d):\n",
    "    #X is unknown AA I should check this function to incorporate X\n",
    "    #Additional AA, B - Asparagine, U - selenocysteine, Z - glutamic\n",
    "    #acid, and O - ornithine (Doesn't clash with IUPAC convention)\n",
    "    d['HIS'] = d['HIP']\n",
    "    d = {key: val for key, val in d.items() if seq1(key) != 'X'}\n",
    "    for key in d:\n",
    "        atoms = d[key]['atoms']\n",
    "        d[key] = {'CA': 'C'} | {key: val['symbol'] for key, val in atoms.items() if val['symbol'] != 'H' and key != 'CA'}\n",
    "    return d\n",
    "RESIDUES = PROCESS_RESIDUES(RESIDUES)"
   ]
  },
  {
   "cell_type": "code",
   "execution_count": 3,
   "id": "8b9999a0-d3af-4077-aff4-f0839cf097b4",
   "metadata": {},
   "outputs": [],
   "source": [
    "global_vars = np.zeros(3)[None,:]\n",
    "filtered_pdb_ids =[]\n",
    "seq_length = []\n",
    "multi_chain = []\n",
    "with open(list_path) as file:\n",
    "    lines = [line.rstrip() for line in file]"
   ]
  },
  {
   "cell_type": "code",
   "execution_count": 4,
   "id": "b1792db7-f230-4906-882f-132ff31af963",
   "metadata": {},
   "outputs": [],
   "source": [
    "for i in lines:\n",
    "    model = parser.get_structure('',pdb_path+i)[0]\n",
    "    chain = model.child_list[0]\n",
    "    chain_seq = ''\n",
    "    try:\n",
    "        chain_bb =np.zeros((1,3))\n",
    "        for res in chain:\n",
    "            if (res.id[0] != ' ') or ('CA' not in res.child_dict) or (res.resname not in RESIDUES): continue\n",
    "            chain_seq+=res.resname\n",
    "        #Might change the Cb portion of Gly\n",
    "            if res.resname==\"GLY\":\n",
    "                bb = np.stack((res[\"N\"].coord,res[\"CA\"].coord,res[\"C\"].coord),axis=0)\n",
    "                chain_bb = np.concatenate((chain_bb, bb), axis = 0)\n",
    "                # global_vars = np.concatenate((global_vars, bb),axis=0)\n",
    "            else:\n",
    "                bb = np.stack((res[\"N\"].coord,res[\"CA\"].coord,res[\"C\"].coord,res[\"CB\"].coord),axis=0)\n",
    "                chain_bb = np.concatenate((chain_bb, bb), axis = 0)\n",
    "        chain_bb = chain_bb[1:]\n",
    "        CoM = np.mean(chain_bb,axis=0)\n",
    "        chain_bb = chain_bb-CoM\n",
    "        global_vars = np.concatenate((global_vars, chain_bb),axis=0)\n",
    "        if len(chain_seq)>0:\n",
    "            seq_length.append(len(seq1(chain_seq)))\n",
    "            filtered_pdb_ids.append(i)\n",
    "        if len(model.child_list)>1:\n",
    "            multi_chain.append(True)\n",
    "        else:\n",
    "            multi_chain.append(False)\n",
    "    except:\n",
    "        pass"
   ]
  },
  {
   "cell_type": "code",
   "execution_count": 8,
   "id": "4b71dfdd-44ff-4563-8d64-66249dafc9aa",
   "metadata": {},
   "outputs": [],
   "source": [
    "clean = global_vars[1:]"
   ]
  },
  {
   "cell_type": "code",
   "execution_count": null,
   "id": "f33206b6-76c6-44e7-90ad-fcaf6296b4be",
   "metadata": {},
   "outputs": [],
   "source": [
    "#Output is\n",
    "# global_vars = [] -> To calculate global variance\n",
    "# filtered_pdb_ids =[] -> All PDBs where C, Ca, Cb, N exists\n",
    "# seq_length = [] -> The sequence length of each pdb\n",
    "# multi_chain = [] -> Boolean which indicates if the PDB contains multiple chains"
   ]
  },
  {
   "cell_type": "markdown",
   "id": "897389e2-a09f-4346-bc42-927bc2199542",
   "metadata": {},
   "source": [
    "# Data Visualization"
   ]
  },
  {
   "cell_type": "code",
   "execution_count": 20,
   "id": "fb8aedfb-4e1a-42db-b9cf-355440fa9762",
   "metadata": {},
   "outputs": [],
   "source": [
    "import matplotlib.pyplot as plt\n",
    "import pandas as pd"
   ]
  },
  {
   "cell_type": "code",
   "execution_count": 17,
   "id": "94280fc2-cb65-48a0-a734-5dcfd8820729",
   "metadata": {
    "scrolled": true
   },
   "outputs": [
    {
     "data": {
      "image/png": "[encoded data removed]",
      "text/plain": [
       "<Figure size 640x480 with 1 Axes>"
      ]
     },
     "metadata": {},
     "output_type": "display_data"
    }
   ],
   "source": [
    "plt.hist(seq_length,bins=16,range=(0,800))\n",
    "plt.show()"
   ]
  },
  {
   "cell_type": "code",
   "execution_count": 24,
   "id": "d3d7e0a4-7a9c-4572-abf8-608c3b4fe99f",
   "metadata": {},
   "outputs": [],
   "source": [
    "data=pd.DataFrame({'pdb_id':filtered_pdb_ids,'seq_length':seq_length,'is_multi_chain':multi_chain})"
   ]
  },
  {
   "cell_type": "code",
   "execution_count": 36,
   "id": "562c164e-59b2-47dc-ba89-ded3b7a06b8d",
   "metadata": {},
   "outputs": [
    {
     "name": "stdout",
     "output_type": "stream",
     "text": [
      "[2.57252928e-17 1.43223301e-15 6.67425759e-16]\n",
      "9.975088793405108\n",
      "[ 9.87331813  9.89513036 10.15436722]\n"
     ]
    }
   ],
   "source": [
    "print(np.mean(global_vars,axis=0))#Sanity check, mean should be lim -> 0 if centered correctly\n",
    "global_std = np.sqrt(np.var(global_vars.flatten()))\n",
    "print(global_std)\n",
    "std_3d=np.sqrt(np.var(global_vars,axis=0))\n",
    "print(std_3d)"
   ]
  },
  {
   "cell_type": "code",
   "execution_count": 38,
   "id": "fbb71c99-aa57-46ea-ae0c-d60c3e6fb833",
   "metadata": {},
   "outputs": [],
   "source": [
    "with open('clean_pdb_id.txt', 'w') as f:\n",
    "    for line in filtered_pdb_ids:\n",
    "        f.write(f\"{line}\\n\")"
   ]
  },
  {
   "cell_type": "markdown",
   "id": "f0c4065f-6b8a-4e37-b855-ed803998a0a5",
   "metadata": {},
   "source": [
    "# Testing Stuff"
   ]
  },
  {
   "cell_type": "code",
   "execution_count": null,
   "id": "2045471f-dbf8-4b29-9c27-3678a2a1fe65",
   "metadata": {},
   "outputs": [],
   "source": []
  }
 ],
 "metadata": {
  "kernelspec": {
   "display_name": "Python 3 (ipykernel)",
   "language": "python",
   "name": "python3"
  },
  "language_info": {
   "codemirror_mode": {
    "name": "ipython",
    "version": 3
   },
   "file_extension": ".py",
   "mimetype": "text/x-python",
   "name": "python",
   "nbconvert_exporter": "python",
   "pygments_lexer": "ipython3",
   "version": "3.11.10"
  }
 },
 "nbformat": 4,
 "nbformat_minor": 5
}
